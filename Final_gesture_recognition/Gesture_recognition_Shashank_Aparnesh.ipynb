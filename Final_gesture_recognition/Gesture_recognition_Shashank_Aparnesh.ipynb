{
 "cells": [
  {
   "cell_type": "markdown",
   "metadata": {},
   "source": [
    "# Gesture Recognition\n",
    "In this group project, you are going to build a 3D Conv model that will be able to predict the 5 gestures correctly. Please import the following libraries to get started."
   ]
  },
  {
   "cell_type": "code",
   "execution_count": 1,
   "metadata": {},
   "outputs": [],
   "source": [
    "from skimage import io"
   ]
  },
  {
   "cell_type": "code",
   "execution_count": 2,
   "metadata": {},
   "outputs": [
    {
     "name": "stdout",
     "output_type": "stream",
     "text": [
      "[name: \"/device:CPU:0\"\n",
      "device_type: \"CPU\"\n",
      "memory_limit: 268435456\n",
      "locality {\n",
      "}\n",
      "incarnation: 5734567166532533276\n",
      ", name: \"/device:GPU:0\"\n",
      "device_type: \"GPU\"\n",
      "memory_limit: 11281304781\n",
      "locality {\n",
      "  bus_id: 1\n",
      "  links {\n",
      "  }\n",
      "}\n",
      "incarnation: 2436189091347246651\n",
      "physical_device_desc: \"device: 0, name: Tesla K80, pci bus id: 0000:00:04.0, compute capability: 3.7\"\n",
      "]\n"
     ]
    }
   ],
   "source": [
    "from tensorflow.python.client import device_lib\n",
    "print(device_lib.list_local_devices())"
   ]
  },
  {
   "cell_type": "code",
   "execution_count": 3,
   "metadata": {},
   "outputs": [],
   "source": [
    "import numpy as np\n",
    "import os\n",
    "from scipy.misc import imread, imresize\n",
    "import datetime\n",
    "import os"
   ]
  },
  {
   "cell_type": "code",
   "execution_count": 4,
   "metadata": {},
   "outputs": [],
   "source": [
    "import cv2"
   ]
  },
  {
   "cell_type": "markdown",
   "metadata": {},
   "source": [
    "We set the random seed so that the results don't vary drastically."
   ]
  },
  {
   "cell_type": "code",
   "execution_count": 5,
   "metadata": {},
   "outputs": [
    {
     "name": "stderr",
     "output_type": "stream",
     "text": [
      "Using TensorFlow backend.\n"
     ]
    }
   ],
   "source": [
    "np.random.seed(30)\n",
    "import random as rn\n",
    "rn.seed(30)\n",
    "from keras import backend as K\n",
    "import tensorflow as tf\n",
    "tf.set_random_seed(30)"
   ]
  },
  {
   "cell_type": "markdown",
   "metadata": {},
   "source": [
    "In this block, you read the folder names for training and validation. You also set the `batch_size` here. Note that you set the batch size in such a way that you are able to use the GPU in full capacity. You keep increasing the batch size until the machine throws an error."
   ]
  },
  {
   "cell_type": "code",
   "execution_count": 6,
   "metadata": {},
   "outputs": [],
   "source": [
    "train_doc = np.random.permutation(open('Project_data/train.csv').readlines())\n",
    "val_doc = np.random.permutation(open('Project_data/val.csv').readlines())\n",
    "batch_size = 30"
   ]
  },
  {
   "cell_type": "markdown",
   "metadata": {},
   "source": [
    "## Generator\n",
    "This is one of the most important part of the code. The overall structure of the generator has been given. In the generator, you are going to preprocess the images as you have images of 2 different dimensions as well as create a batch of video frames. You have to experiment with `img_idx`, `y`,`z` and normalization such that you get high accuracy."
   ]
  },
  {
   "cell_type": "code",
   "execution_count": 7,
   "metadata": {},
   "outputs": [],
   "source": [
    "def generator(source_path, folder_list, batch_size, image_height, image_width, img_frames,aug=False):\n",
    "    print( 'Source path = ', source_path, '; batch size =', batch_size)\n",
    "    img_idx = img_frames\n",
    "    \n",
    "    \n",
    "    \n",
    "    if(aug==True):\n",
    "        if source_path.split('/')[-1]=='train':\n",
    "                augment=True\n",
    "        else:\n",
    "            augment=False\n",
    "    else:\n",
    "        augment=False\n",
    "    \n",
    "    \n",
    "    while True:\n",
    "        t = np.random.permutation(folder_list)\n",
    "        \n",
    "        num_batches = len(t)//batch_size\n",
    "       \n",
    "        for batch in range(num_batches): # we iterate over the number of batches\n",
    "            batch_data = np.zeros((batch_size,len(img_idx),image_height,image_width,3)) # x is the number of images you use for each video, (y,z) is the final size of the input images and 3 is the number of channels RGB\n",
    "            batch_data_aug = np.zeros((batch_size,len(img_idx),image_height,image_width,3))\n",
    "            batch_labels = np.zeros((batch_size,5)) # batch_labels is the one hot representation of the output\n",
    "            for folder in range(batch_size): # iterate over the batch_size\n",
    "                imgs = os.listdir(source_path+'/'+ t[folder + (batch*batch_size)].split(';')[0]) # read all the images in the folder\n",
    "                \n",
    "                for idx,item in enumerate(img_idx): #  Iterate iver the frames/images of a folder to read them in\n",
    "                    image = imread(source_path+'/'+ t[folder + (batch*batch_size)].strip().split(';')[0]+'/'+imgs[item]).astype(np.float32)\n",
    "                    \n",
    "                    #crop the images and resize them. Note that the images are of 2 different shape \n",
    "                    #and the conv3D will throw error if the inputs in a batch have different shapes\n",
    "                    image_resize=imresize(image,(image_width,image_height,3))\n",
    "                    \n",
    "                    \n",
    "                    batch_data[folder,idx,:,:,0] = image_resize[:,:,0]/255 #normalise and feed in the image\n",
    "                    batch_data[folder,idx,:,:,1] = image_resize[:,:,1]/255 #normalise and feed in the image\n",
    "                    batch_data[folder,idx,:,:,2] = image_resize[:,:,2]/255 #normalise and feed in the image\n",
    "                    \n",
    "                    if (augment):\n",
    "                        x, y = np.random.randint(0, 40, 2)\n",
    "                        pts1 = np.float32([[x,y], [image_width-x,y], [x,image_height-y], [image_width-x,image_width-y]])\n",
    "                        pts2 = np.float32([[0,0],[image_width,0],[0,image_height],[image_width,image_height]])\n",
    "\n",
    "                        M = cv2.getPerspectiveTransform(pts1,pts2)\n",
    "\n",
    "                        shifted = cv2.warpPerspective(image_resize,M,(image_width,image_height))\n",
    "\n",
    "\n",
    "\n",
    "\n",
    "\n",
    "\n",
    "\n",
    "\n",
    "\n",
    "\n",
    "\n",
    "                        batch_data_aug[folder,idx,:,:,0] = shifted[:,:,0]/255\n",
    "                        batch_data_aug[folder,idx,:,:,1] = shifted[:,:,1]/255\n",
    "                        batch_data_aug[folder,idx,:,:,2] = shifted[:,:,2]/255\n",
    "                    \n",
    "                    \n",
    "                    \n",
    "                        #shifted = cv2.warpAffine(image, \n",
    "                                             #np.float32([[1, 0, np.random.randint(-30,30)],[0, 1, np.random.randint(-30,30)]]), \n",
    "                                            #(image.shape[1], image.shape[0]))\n",
    "                    \n",
    "                        #gray = cv2.cvtColor(shifted,cv2.COLOR_BGR2GRAY)\n",
    "\n",
    "                        #x0, y0 = np.argwhere(gray > 0).min(axis=0)\n",
    "                        #x1, y1 = np.argwhere(gray > 0).max(axis=0) \n",
    "\n",
    "                        #cropped=shifted[x0:x1,y0:y1,:]\n",
    "\n",
    "                        #image_resized=imresize(cropped,(image_height,image_width,3))\n",
    "\n",
    "                        #shifted = cv2.warpAffine(image_resized, \n",
    "                        #                        np.float32([[1, 0, np.random.randint(-3,3)],[0, 1, np.random.randint(-3,3)]]), \n",
    "                        #                        (image_resized.shape[1], image_resized.shape[0]))\n",
    "\n",
    "                        #batch_data_aug[folder,idx,:,:,0] = (image_resized[:,:,0])/255\n",
    "                        #batch_data_aug[folder,idx,:,:,1] = (image_resized[:,:,1])/255\n",
    "                        #batch_data_aug[folder,idx,:,:,2] = (image_resized[:,:,2])/255\n",
    "                \n",
    "            \n",
    "            #batch_labels[folder, int(t[folder + (batch*batch_size)].strip().split(';')[2])] = 1\n",
    "                    \n",
    "                    \n",
    "                    \n",
    "                    \n",
    "                batch_labels[folder, int(t[folder + (batch*batch_size)].strip().split(';')[2])] = 1\n",
    "                \n",
    "\n",
    "                    #fig, axes = plt.subplots(nrows=1, ncols=2)\n",
    "                    #axes[0].imshow(shifted)   \n",
    "                    #axes[1].imshow(batch_data_aug[folder,idx,:,:,:])\n",
    "                    \n",
    "                \n",
    "            \n",
    "            if(augment):        \n",
    "                batch_data=np.concatenate([batch_data,batch_data_aug])\n",
    "                batch_labels=np.concatenate([batch_labels,batch_labels])        \n",
    "            yield batch_data, batch_labels #you yield the batch_data and the batch_labels, remember what does yield do\n",
    "            \n",
    "        \n",
    "        \n",
    "        # write the code for the remaining data points which are left after full batches\n",
    "        \n",
    "        if(len(t)%batch_size!=0):\n",
    "            print(t[0])\n",
    "            last_read=((batch+1)*batch_size)\n",
    "            batch_size_new=len(t)%batch_size\n",
    "            \n",
    "\n",
    "            \n",
    "            \n",
    "            batch_data = np.zeros((batch_size_new,len(img_idx),image_height,image_width,3)) # x is the number of images you use for each video, (y,z) is the final size of the input images and 3 is the number of channels RGB\n",
    "            batch_labels = np.zeros((batch_size_new,5)) # batch_labels is the one hot representation of the output\n",
    "            \n",
    "            for folder in range(batch_size_new): # iterate over the batch_size\n",
    "                \n",
    "                imgs = os.listdir(source_path+'/'+ t[folder + last_read].split(';')[0]) # read all the images in the folder\n",
    "                for idx,item in enumerate(img_idx): #  Iterate iver the frames/images of a folder to read them in\n",
    "                    image = imread(source_path+'/'+ t[folder + last_read].strip().split(';')[0]+'/'+imgs[item]).astype(np.float32)\n",
    "\n",
    "                        #crop the images and resize them. Note that the images are of 2 different shape \n",
    "                        #and the conv3D will throw error if the inputs in a batch have different shapes\n",
    "                    image_resize=imresize(image,(image_height,image_width,3))\n",
    "                    batch_data[folder,idx,:,:,0] = image_resize[:,:,0]/255 #normalise and feed in the image\n",
    "                    batch_data[folder,idx,:,:,0] = image_resize[:,:,1]/255 #normalise and feed in the image\n",
    "                    batch_data[folder,idx,:,:,0] = image_resize[:,:,2]/255 #normalise and feed in the image\n",
    "                        \n",
    "                batch_labels[folder, int(t[folder + (batch*batch_size_new)].strip().split(';')[2])] = 1\n",
    "            yield batch_data, batch_labels\n"
   ]
  },
  {
   "cell_type": "markdown",
   "metadata": {},
   "source": [
    "Note here that a video is represented above in the generator as (number of images, height, width, number of channels). Take this into consideration while creating the model architecture."
   ]
  },
  {
   "cell_type": "code",
   "execution_count": 8,
   "metadata": {},
   "outputs": [],
   "source": [
    "import matplotlib.pyplot as plt\n",
    "def plot(model):\n",
    "    fig, axes = plt.subplots(nrows=1, ncols=2, figsize=(15,4))\n",
    "    axes[0].plot(model.history['loss'])   \n",
    "    axes[0].plot(model.history['val_loss'])\n",
    "    axes[0].legend(['loss','val_loss'])\n",
    "\n",
    "    axes[1].plot(model.history['categorical_accuracy'])   \n",
    "    axes[1].plot(model.history['val_categorical_accuracy'])\n",
    "    axes[1].legend(['categorical_accuracy','val_categorical_accuracy'])"
   ]
  },
  {
   "cell_type": "code",
   "execution_count": 9,
   "metadata": {},
   "outputs": [
    {
     "name": "stdout",
     "output_type": "stream",
     "text": [
      "# training sequences = 663\n",
      "# validation sequences = 100\n",
      "# epochs = 50\n"
     ]
    }
   ],
   "source": [
    "curr_dt_time = datetime.datetime.now()\n",
    "train_path = 'Project_data/train'\n",
    "val_path = 'Project_data/val'\n",
    "num_train_sequences = len(train_doc)\n",
    "print('# training sequences =', num_train_sequences)\n",
    "num_val_sequences = len(val_doc)\n",
    "print('# validation sequences =', num_val_sequences)\n",
    "num_epochs = 50\n",
    "print ('# epochs =', num_epochs)"
   ]
  },
  {
   "cell_type": "code",
   "execution_count": 10,
   "metadata": {},
   "outputs": [],
   "source": [
    "image_frames=[0,3,5,6,7,8,9,10,11,12,13,14,15,16,17,18,19,20,21,22,23,24,25,27,29]"
   ]
  },
  {
   "cell_type": "code",
   "execution_count": 11,
   "metadata": {},
   "outputs": [],
   "source": [
    "a=generator(train_path, train_doc, 20,100,100,image_frames,aug=True)"
   ]
  },
  {
   "cell_type": "code",
   "execution_count": 12,
   "metadata": {},
   "outputs": [
    {
     "name": "stdout",
     "output_type": "stream",
     "text": [
      "Source path =  Project_data/train ; batch size = 20\n"
     ]
    },
    {
     "name": "stderr",
     "output_type": "stream",
     "text": [
      "/mnt/disks/user/anaconda3/lib/python3.6/site-packages/ipykernel_launcher.py:29: DeprecationWarning: `imread` is deprecated!\n",
      "`imread` is deprecated in SciPy 1.0.0, and will be removed in 1.2.0.\n",
      "Use ``imageio.imread`` instead.\n",
      "/mnt/disks/user/anaconda3/lib/python3.6/site-packages/ipykernel_launcher.py:33: DeprecationWarning: `imresize` is deprecated!\n",
      "`imresize` is deprecated in SciPy 1.0.0, and will be removed in 1.2.0.\n",
      "Use ``skimage.transform.resize`` instead.\n"
     ]
    }
   ],
   "source": [
    "batch_data, batch_labels=next(a)"
   ]
  },
  {
   "cell_type": "code",
   "execution_count": 13,
   "metadata": {},
   "outputs": [
    {
     "name": "stdout",
     "output_type": "stream",
     "text": [
      "(40, 25, 100, 100, 3)\n"
     ]
    }
   ],
   "source": [
    "print((batch_data).shape)"
   ]
  },
  {
   "cell_type": "code",
   "execution_count": 14,
   "metadata": {},
   "outputs": [],
   "source": [
    "import matplotlib.pyplot as plt"
   ]
  },
  {
   "cell_type": "code",
   "execution_count": 15,
   "metadata": {},
   "outputs": [
    {
     "data": {
      "text/plain": [
       "(40, 5)"
      ]
     },
     "execution_count": 15,
     "metadata": {},
     "output_type": "execute_result"
    }
   ],
   "source": [
    "batch_labels.shape"
   ]
  },
  {
   "cell_type": "markdown",
   "metadata": {},
   "source": [
    "### Testing augmentation"
   ]
  },
  {
   "cell_type": "code",
   "execution_count": 16,
   "metadata": {},
   "outputs": [
    {
     "data": {
      "text/plain": [
       "<matplotlib.image.AxesImage at 0x7f2fc1885b70>"
      ]
     },
     "execution_count": 16,
     "metadata": {},
     "output_type": "execute_result"
    },
    {
     "data": {
      "image/png": "[encoded data removed]",
      "text/plain": [
       "<Figure size 432x288 with 2 Axes>"
      ]
     },
     "metadata": {},
     "output_type": "display_data"
    }
   ],
   "source": [
    "fig, axes = plt.subplots(nrows=1, ncols=2)\n",
    "axes[0].imshow(batch_data[6,11,:,:,:])   \n",
    "axes[1].imshow(batch_data[26,11,:,:,:])"
   ]
  },
  {
   "cell_type": "markdown",
   "metadata": {},
   "source": [
    "## Model\n",
    "Here you make the model using different functionalities that Keras provides. Remember to use `Conv3D` and `MaxPooling3D` and not `Conv2D` and `Maxpooling2D` for a 3D convolution model. You would want to use `TimeDistributed` while building a Conv2D + RNN model. Also remember that the last layer is the softmax. Design the network in such a way that the model is able to give good accuracy on the least number of parameters so that it can fit in the memory of the webcam."
   ]
  },
  {
   "cell_type": "code",
   "execution_count": 17,
   "metadata": {},
   "outputs": [],
   "source": [
    "from keras.models import Sequential, Model\n",
    "from keras.layers import Dense, GRU, Flatten, TimeDistributed, Flatten, BatchNormalization, Activation, Dropout\n",
    "from keras.layers.convolutional import Conv3D, MaxPooling3D\n",
    "from keras.callbacks import ModelCheckpoint, ReduceLROnPlateau\n",
    "from keras import optimizers\n",
    "\n",
    "#write your model here\n",
    "\n",
    "    \n",
    "def define_model(frames_to_sample,image_height,image_width):\n",
    "\n",
    "        model = Sequential()\n",
    "        model.add(Conv3D(16, (3, 3, 3), padding='same',\n",
    "                 input_shape=(frames_to_sample,image_height,image_width,3)))\n",
    "        model.add(Activation('relu'))\n",
    "        model.add(BatchNormalization())\n",
    "        model.add(MaxPooling3D(pool_size=(2, 2, 2)))\n",
    "\n",
    "        model.add(Conv3D(32, (2, 2, 2), padding='same'))\n",
    "        model.add(Activation('relu'))\n",
    "        model.add(BatchNormalization())\n",
    "        model.add(MaxPooling3D(pool_size=(2, 2, 2)))\n",
    "\n",
    "        model.add(Conv3D(64, (2, 2, 2), padding='same'))\n",
    "        model.add(Activation('relu'))\n",
    "        model.add(BatchNormalization())\n",
    "        model.add(MaxPooling3D(pool_size=(2, 2, 2)))\n",
    "\n",
    "        model.add(Conv3D(128, (2, 2, 2), padding='same'))\n",
    "        model.add(Activation('relu'))\n",
    "        model.add(BatchNormalization())\n",
    "        model.add(MaxPooling3D(pool_size=(2, 2, 2)))\n",
    "\n",
    "        model.add(Flatten())\n",
    "        model.add(Dense(128,activation='relu'))\n",
    "        model.add(BatchNormalization())\n",
    "        model.add(Dropout(0.5))\n",
    "\n",
    "        model.add(Dense(64,activation='relu'))\n",
    "        model.add(BatchNormalization())\n",
    "        model.add(Dropout(0.25))\n",
    "\n",
    "\n",
    "        model.add(Dense(5,activation='softmax'))\n",
    "\n",
    "        optimiser = optimizers.Adam()\n",
    "        #optimiser = 'sgd'\n",
    "        model.compile(optimizer=optimiser, loss='categorical_crossentropy', metrics=['categorical_accuracy'])\n",
    "        return model"
   ]
  },
  {
   "cell_type": "code",
   "execution_count": null,
   "metadata": {},
   "outputs": [],
   "source": []
  },
  {
   "cell_type": "markdown",
   "metadata": {},
   "source": [
    "Now that you have written the model, the next step is to `compile` the model. When you print the `summary` of the model, you'll see the total number of parameters you have to train."
   ]
  },
  {
   "cell_type": "code",
   "execution_count": 18,
   "metadata": {
    "scrolled": true
   },
   "outputs": [
    {
     "name": "stdout",
     "output_type": "stream",
     "text": [
      "_________________________________________________________________\n",
      "Layer (type)                 Output Shape              Param #   \n",
      "=================================================================\n",
      "conv3d_1 (Conv3D)            (None, 25, 100, 100, 16)  1312      \n",
      "_________________________________________________________________\n",
      "activation_1 (Activation)    (None, 25, 100, 100, 16)  0         \n",
      "_________________________________________________________________\n",
      "batch_normalization_1 (Batch (None, 25, 100, 100, 16)  64        \n",
      "_________________________________________________________________\n",
      "max_pooling3d_1 (MaxPooling3 (None, 12, 50, 50, 16)    0         \n",
      "_________________________________________________________________\n",
      "conv3d_2 (Conv3D)            (None, 12, 50, 50, 32)    4128      \n",
      "_________________________________________________________________\n",
      "activation_2 (Activation)    (None, 12, 50, 50, 32)    0         \n",
      "_________________________________________________________________\n",
      "batch_normalization_2 (Batch (None, 12, 50, 50, 32)    128       \n",
      "_________________________________________________________________\n",
      "max_pooling3d_2 (MaxPooling3 (None, 6, 25, 25, 32)     0         \n",
      "_________________________________________________________________\n",
      "conv3d_3 (Conv3D)            (None, 6, 25, 25, 64)     16448     \n",
      "_________________________________________________________________\n",
      "activation_3 (Activation)    (None, 6, 25, 25, 64)     0         \n",
      "_________________________________________________________________\n",
      "batch_normalization_3 (Batch (None, 6, 25, 25, 64)     256       \n",
      "_________________________________________________________________\n",
      "max_pooling3d_3 (MaxPooling3 (None, 3, 12, 12, 64)     0         \n",
      "_________________________________________________________________\n",
      "conv3d_4 (Conv3D)            (None, 3, 12, 12, 128)    65664     \n",
      "_________________________________________________________________\n",
      "activation_4 (Activation)    (None, 3, 12, 12, 128)    0         \n",
      "_________________________________________________________________\n",
      "batch_normalization_4 (Batch (None, 3, 12, 12, 128)    512       \n",
      "_________________________________________________________________\n",
      "max_pooling3d_4 (MaxPooling3 (None, 1, 6, 6, 128)      0         \n",
      "_________________________________________________________________\n",
      "flatten_1 (Flatten)          (None, 4608)              0         \n",
      "_________________________________________________________________\n",
      "dense_1 (Dense)              (None, 128)               589952    \n",
      "_________________________________________________________________\n",
      "batch_normalization_5 (Batch (None, 128)               512       \n",
      "_________________________________________________________________\n",
      "dropout_1 (Dropout)          (None, 128)               0         \n",
      "_________________________________________________________________\n",
      "dense_2 (Dense)              (None, 64)                8256      \n",
      "_________________________________________________________________\n",
      "batch_normalization_6 (Batch (None, 64)                256       \n",
      "_________________________________________________________________\n",
      "dropout_2 (Dropout)          (None, 64)                0         \n",
      "_________________________________________________________________\n",
      "dense_3 (Dense)              (None, 5)                 325       \n",
      "=================================================================\n",
      "Total params: 687,813\n",
      "Trainable params: 686,949\n",
      "Non-trainable params: 864\n",
      "_________________________________________________________________\n",
      "None\n"
     ]
    }
   ],
   "source": [
    "model=define_model(25,100,100)\n",
    "print (model.summary())"
   ]
  },
  {
   "cell_type": "markdown",
   "metadata": {},
   "source": [
    "Let us create the `train_generator` and the `val_generator` which will be used in `.fit_generator`."
   ]
  },
  {
   "cell_type": "code",
   "execution_count": 19,
   "metadata": {},
   "outputs": [],
   "source": [
    "image_height=100\n",
    "image_width=100\n",
    "image_frames=[0,3,5,6,7,8,9,10,11,12,13,14,15,16,17,18,19,20,21,22,23,24,25,27,29]\n",
    "\n",
    "train_generator = generator(train_path, train_doc, batch_size,image_height, image_width, image_frames)\n",
    "val_generator = generator(train_path, train_doc, batch_size,image_height, image_width, image_frames)"
   ]
  },
  {
   "cell_type": "code",
   "execution_count": 20,
   "metadata": {},
   "outputs": [],
   "source": [
    "model_name = 'model_init' + '_' + str(curr_dt_time).replace(' ','').replace(':','_') + '/'\n",
    "    \n",
    "if not os.path.exists(model_name):\n",
    "    os.mkdir(model_name)\n",
    "        \n",
    "filepath = model_name + 'model-{epoch:05d}-{loss:.5f}-{categorical_accuracy:.5f}-{val_loss:.5f}-{val_categorical_accuracy:.5f}.h5'\n",
    "\n",
    "checkpoint = ModelCheckpoint(filepath, monitor='val_loss', verbose=1, save_best_only=False, save_weights_only=False, mode='auto', period=1)\n",
    "\n",
    "LR = ReduceLROnPlateau(monitor='val_loss', factor=0.2, verbose=1, patience=4)\n",
    "callbacks_list = [checkpoint, LR]"
   ]
  },
  {
   "cell_type": "markdown",
   "metadata": {},
   "source": [
    "The `steps_per_epoch` and `validation_steps` are used by `fit_generator` to decide the number of next() calls it need to make."
   ]
  },
  {
   "cell_type": "code",
   "execution_count": 21,
   "metadata": {},
   "outputs": [],
   "source": [
    "if (num_train_sequences%batch_size) == 0:\n",
    "    steps_per_epoch = int(num_train_sequences/batch_size)\n",
    "else:\n",
    "    steps_per_epoch = (num_train_sequences//batch_size) + 1\n",
    "\n",
    "if (num_val_sequences%batch_size) == 0:\n",
    "    validation_steps = int(num_val_sequences/batch_size)\n",
    "else:\n",
    "    validation_steps = (num_val_sequences//batch_size) + 1"
   ]
  },
  {
   "cell_type": "markdown",
   "metadata": {},
   "source": [
    "Let us now fit the model. This will start training the model and with the help of the checkpoints, you'll be able to save the model at the end of each epoch."
   ]
  },
  {
   "cell_type": "markdown",
   "metadata": {},
   "source": [
    "## Performing ablation experiments"
   ]
  },
  {
   "cell_type": "code",
   "execution_count": 75,
   "metadata": {},
   "outputs": [],
   "source": [
    "image_height=160\n",
    "image_width=160\n",
    "image_frames=[i for i in range(0,30)]\n",
    "\n",
    "train_generator = generator(train_path, train_doc, batch_size,image_height, image_width, image_frames,aug=True)\n",
    "val_generator = generator(val_path, val_doc, batch_size,image_height, image_width, image_frames)"
   ]
  },
  {
   "cell_type": "code",
   "execution_count": 76,
   "metadata": {},
   "outputs": [],
   "source": [
    "model=define_model(30,160,160)"
   ]
  },
  {
   "cell_type": "code",
   "execution_count": 50,
   "metadata": {
    "scrolled": true
   },
   "outputs": [],
   "source": [
    "# md1 = model.fit_generator(train_generator, steps_per_epoch=steps_per_epoch, epochs=2, verbose=1, \n",
    "#                    callbacks=callbacks_list, validation_data=val_generator, \n",
    "#                    validation_steps=validation_steps, class_weight=None, workers=1, initial_epoch=0)"
   ]
  },
  {
   "cell_type": "markdown",
   "metadata": {},
   "source": [
    "### Getting OOM error when processing 160x160 image. Changing the resolution"
   ]
  },
  {
   "cell_type": "markdown",
   "metadata": {},
   "source": [
    "#### The above used resolution is too big to be fed as an input to the neural network. It results in the ResourceExhaustedError exception. "
   ]
  },
  {
   "cell_type": "code",
   "execution_count": 62,
   "metadata": {},
   "outputs": [],
   "source": [
    "image_height=150\n",
    "image_width=150\n",
    "image_frames=[i for i in range(0,30)]\n",
    "\n",
    "train_generator = generator(train_path, train_doc, batch_size,image_height, image_width, image_frames,aug=True)\n",
    "val_generator = generator(val_path, train_doc, batch_size,image_height, image_width, image_frames)"
   ]
  },
  {
   "cell_type": "code",
   "execution_count": 63,
   "metadata": {},
   "outputs": [],
   "source": [
    "model=define_model(30,150,150)"
   ]
  },
  {
   "cell_type": "code",
   "execution_count": 57,
   "metadata": {},
   "outputs": [],
   "source": [
    "if (num_train_sequences%batch_size) == 0:\n",
    "    steps_per_epoch = int(num_train_sequences/batch_size)\n",
    "else:\n",
    "    steps_per_epoch = (num_train_sequences//batch_size) + 1\n",
    "\n",
    "if (num_val_sequences%batch_size) == 0:\n",
    "    validation_steps = int(num_val_sequences/batch_size)\n",
    "else:\n",
    "    validation_steps = (num_val_sequences//batch_size) + 1"
   ]
  },
  {
   "cell_type": "code",
   "execution_count": 54,
   "metadata": {
    "scrolled": true
   },
   "outputs": [],
   "source": [
    "#md2=model.fit_generator(train_generator, steps_per_epoch=steps_per_epoch, epochs=2, verbose=1, \n",
    "#                    callbacks=callbacks_list, validation_data=val_generator, \n",
    "#                    validation_steps=validation_steps, class_weight=None, workers=1, initial_epoch=0)"
   ]
  },
  {
   "cell_type": "markdown",
   "metadata": {},
   "source": [
    "#### Still getting OOM error with the current resolution. Next, we will try decreasing it."
   ]
  },
  {
   "cell_type": "code",
   "execution_count": 72,
   "metadata": {},
   "outputs": [],
   "source": [
    "image_height=140\n",
    "image_width=140\n",
    "image_frames=[i for i in range(0,30)]\n",
    "\n",
    "train_generator = generator(train_path, train_doc, batch_size,image_height, image_width, image_frames,aug=True)\n",
    "val_generator = generator(val_path, train_doc, batch_size,image_height, image_width, image_frames)"
   ]
  },
  {
   "cell_type": "code",
   "execution_count": 73,
   "metadata": {},
   "outputs": [],
   "source": [
    "model=define_model(30,140,140)"
   ]
  },
  {
   "cell_type": "code",
   "execution_count": 58,
   "metadata": {},
   "outputs": [],
   "source": [
    "if (num_train_sequences%batch_size) == 0:\n",
    "    steps_per_epoch = int(num_train_sequences/batch_size)\n",
    "else:\n",
    "    steps_per_epoch = (num_train_sequences//batch_size) + 1\n",
    "\n",
    "if (num_val_sequences%batch_size) == 0:\n",
    "    validation_steps = int(num_val_sequences/batch_size)\n",
    "else:\n",
    "    validation_steps = (num_val_sequences//batch_size) + 1"
   ]
  },
  {
   "cell_type": "code",
   "execution_count": 1,
   "metadata": {
    "scrolled": true
   },
   "outputs": [],
   "source": [
    "#md3=model.fit_generator(train_generator, steps_per_epoch=steps_per_epoch, epochs=2, verbose=1, \n",
    "#                    callbacks=callbacks_list, validation_data=val_generator, \n",
    "#                    validation_steps=validation_steps, class_weight=None, workers=1, initial_epoch=0)"
   ]
  },
  {
   "cell_type": "markdown",
   "metadata": {},
   "source": [
    "#### Changing the frame size to 140*140 doesn't seem to work. Still getting OOM error."
   ]
  },
  {
   "cell_type": "code",
   "execution_count": 60,
   "metadata": {},
   "outputs": [],
   "source": [
    "image_height=130\n",
    "image_width=130\n",
    "image_frames=[i for i in range(0,30)]\n",
    "\n",
    "train_generator = generator(train_path, train_doc, batch_size,image_height, image_width, image_frames,aug=True)\n",
    "val_generator = generator(val_path, val_doc, batch_size,image_height, image_width, image_frames)"
   ]
  },
  {
   "cell_type": "code",
   "execution_count": 61,
   "metadata": {},
   "outputs": [],
   "source": [
    "model=define_model(30,130,130)"
   ]
  },
  {
   "cell_type": "code",
   "execution_count": 62,
   "metadata": {},
   "outputs": [],
   "source": [
    "if (num_train_sequences%batch_size) == 0:\n",
    "    steps_per_epoch = int(num_train_sequences/batch_size)\n",
    "else:\n",
    "    steps_per_epoch = (num_train_sequences//batch_size) + 1\n",
    "\n",
    "if (num_val_sequences%batch_size) == 0:\n",
    "    validation_steps = int(num_val_sequences/batch_size)\n",
    "else:\n",
    "    validation_steps = (num_val_sequences//batch_size) + 1"
   ]
  },
  {
   "cell_type": "code",
   "execution_count": 64,
   "metadata": {},
   "outputs": [],
   "source": [
    "#md4=model.fit_generator(train_generator, steps_per_epoch=steps_per_epoch, epochs=2, verbose=1, \n",
    "#                    callbacks=callbacks_list, validation_data=val_generator, \n",
    "#                   validation_steps=validation_steps, class_weight=None, workers=1, initial_epoch=0)"
   ]
  },
  {
   "cell_type": "markdown",
   "metadata": {},
   "source": [
    "#### Resolution of 130*130 is still to large for memory and throws a OOM(ResourceExhaustedError) error."
   ]
  },
  {
   "cell_type": "markdown",
   "metadata": {},
   "source": [
    "#### Next up, we will work with a 120*120 frame size to see if it fits into the memory."
   ]
  },
  {
   "cell_type": "code",
   "execution_count": 78,
   "metadata": {},
   "outputs": [],
   "source": [
    "image_height=120\n",
    "image_width=120\n",
    "image_frames=[i for i in range(0,30)]\n",
    "\n",
    "train_generator = generator(train_path, train_doc, batch_size,image_height, image_width, image_frames,aug=True)\n",
    "val_generator = generator(val_path, val_doc, batch_size,image_height, image_width, image_frames)"
   ]
  },
  {
   "cell_type": "code",
   "execution_count": 79,
   "metadata": {},
   "outputs": [],
   "source": [
    "model=define_model(30,120,120)"
   ]
  },
  {
   "cell_type": "code",
   "execution_count": 65,
   "metadata": {},
   "outputs": [],
   "source": [
    "if (num_train_sequences%batch_size) == 0:\n",
    "    steps_per_epoch = int(num_train_sequences/batch_size)\n",
    "else:\n",
    "    steps_per_epoch = (num_train_sequences//batch_size) + 1\n",
    "\n",
    "if (num_val_sequences%batch_size) == 0:\n",
    "    validation_steps = int(num_val_sequences/batch_size)\n",
    "else:\n",
    "    validation_steps = (num_val_sequences//batch_size) + 1"
   ]
  },
  {
   "cell_type": "code",
   "execution_count": 67,
   "metadata": {},
   "outputs": [],
   "source": [
    "#md5=model.fit_generator(train_generator, steps_per_epoch=steps_per_epoch, epochs=2, verbose=1, \n",
    "#                    callbacks=callbacks_list, validation_data=val_generator, \n",
    "#                    validation_steps=validation_steps, class_weight=None, workers=1, initial_epoch=0)"
   ]
  },
  {
   "cell_type": "markdown",
   "metadata": {},
   "source": [
    "#### Resolution of 120*120 is still to large for memory and throws a OOM(ResourceExhaustedError) error."
   ]
  },
  {
   "cell_type": "code",
   "execution_count": 77,
   "metadata": {},
   "outputs": [],
   "source": [
    "image_height=110\n",
    "image_width=110\n",
    "image_frames=[i for i in range(0,30)]\n",
    "batch_size=30\n",
    "train_generator = generator(train_path, train_doc, batch_size,image_height, image_width, image_frames,aug=True)\n",
    "val_generator = generator(val_path, val_doc, batch_size,image_height, image_width, image_frames)"
   ]
  },
  {
   "cell_type": "code",
   "execution_count": 78,
   "metadata": {},
   "outputs": [],
   "source": [
    "model=define_model(30,110,110)"
   ]
  },
  {
   "cell_type": "code",
   "execution_count": 68,
   "metadata": {},
   "outputs": [],
   "source": [
    "if (num_train_sequences%batch_size) == 0:\n",
    "    steps_per_epoch = int(num_train_sequences/batch_size)\n",
    "else:\n",
    "    steps_per_epoch = (num_train_sequences//batch_size) + 1\n",
    "\n",
    "if (num_val_sequences%batch_size) == 0:\n",
    "    validation_steps = int(num_val_sequences/batch_size)\n",
    "else:\n",
    "    validation_steps = (num_val_sequences//batch_size) + 1"
   ]
  },
  {
   "cell_type": "code",
   "execution_count": 79,
   "metadata": {},
   "outputs": [
    {
     "name": "stdout",
     "output_type": "stream",
     "text": [
      "Source path =  Project_data/val ; batch size =Source path =  Project_data/train ; batch size =Epoch 1/2\n",
      " 30\n",
      " 30\n"
     ]
    },
    {
     "name": "stderr",
     "output_type": "stream",
     "text": [
      "/mnt/disks/user/anaconda3/lib/python3.6/site-packages/ipykernel_launcher.py:29: DeprecationWarning: `imread` is deprecated!\n",
      "`imread` is deprecated in SciPy 1.0.0, and will be removed in 1.2.0.\n",
      "Use ``imageio.imread`` instead.\n",
      "/mnt/disks/user/anaconda3/lib/python3.6/site-packages/ipykernel_launcher.py:33: DeprecationWarning: `imresize` is deprecated!\n",
      "`imresize` is deprecated in SciPy 1.0.0, and will be removed in 1.2.0.\n",
      "Use ``skimage.transform.resize`` instead.\n"
     ]
    },
    {
     "name": "stdout",
     "output_type": "stream",
     "text": [
      " 2/23 [=>............................] - ETA: 2:27 - loss: 2.2918 - categorical_accuracy: 0.2250WIN_20180926_17_29_34_Pro_Right_Swipe_new;Right_Swipe_new;1\n",
      "\n"
     ]
    },
    {
     "name": "stderr",
     "output_type": "stream",
     "text": [
      "/mnt/disks/user/anaconda3/lib/python3.6/site-packages/ipykernel_launcher.py:125: DeprecationWarning: `imread` is deprecated!\n",
      "`imread` is deprecated in SciPy 1.0.0, and will be removed in 1.2.0.\n",
      "Use ``imageio.imread`` instead.\n",
      "/mnt/disks/user/anaconda3/lib/python3.6/site-packages/ipykernel_launcher.py:129: DeprecationWarning: `imresize` is deprecated!\n",
      "`imresize` is deprecated in SciPy 1.0.0, and will be removed in 1.2.0.\n",
      "Use ``skimage.transform.resize`` instead.\n"
     ]
    },
    {
     "name": "stdout",
     "output_type": "stream",
     "text": [
      " 5/23 [=====>........................] - ETA: 1:47 - loss: 2.0754 - categorical_accuracy: 0.2800WIN_20180925_17_42_34_Pro_Thumbs_Up_new;Thumbs_Up_new;4\n",
      "\n",
      "21/23 [==========================>...] - ETA: 9s - loss: 1.6657 - categorical_accuracy: 0.3921 WIN_20180907_16_22_23_Pro_Right Swipe_new;Right Swipe_new;1\n",
      "\n",
      "23/23 [==============================] - 107s 5s/step - loss: 1.7094 - categorical_accuracy: 0.3936 - val_loss: 1.7457 - val_categorical_accuracy: 0.4600\n",
      "\n",
      "Epoch 00001: saving model to model_init_2021-02-0809_36_09.430274/model-00001-1.64829-0.39607-1.74568-0.46000.h5\n",
      "WIN_20180926_17_01_52_Pro_Right_Swipe_new;Right_Swipe_new;1\n",
      "\n",
      "Epoch 2/2\n",
      "21/23 [==========================>...] - ETA: 8s - loss: 1.1492 - categorical_accuracy: 0.5603 WIN_20180926_16_51_55_Pro_Left_Swipe_new;Left_Swipe_new;0\n",
      "\n",
      "23/23 [==============================] - 94s 4s/step - loss: 1.1935 - categorical_accuracy: 0.5672 - val_loss: 1.5592 - val_categorical_accuracy: 0.5000\n",
      "\n",
      "Epoch 00002: saving model to model_init_2021-02-0809_36_09.430274/model-00002-1.14219-0.56311-1.55920-0.50000.h5\n"
     ]
    }
   ],
   "source": [
    "md6=model.fit_generator(train_generator, steps_per_epoch=steps_per_epoch, epochs=2, verbose=1, \n",
    "                    callbacks=callbacks_list, validation_data=val_generator, \n",
    "                    validation_steps=validation_steps, class_weight=None, workers=1, initial_epoch=0)"
   ]
  },
  {
   "cell_type": "markdown",
   "metadata": {},
   "source": [
    "#### The input with the resolution 110*110 works well for us. However, it seems to be overfitting.Let's try something different now and see the effects of change in number of frame's to sample on model performance"
   ]
  },
  {
   "cell_type": "code",
   "execution_count": 80,
   "metadata": {},
   "outputs": [
    {
     "name": "stdout",
     "output_type": "stream",
     "text": [
      "_________________________________________________________________\n",
      "Layer (type)                 Output Shape              Param #   \n",
      "=================================================================\n",
      "conv3d_29 (Conv3D)           (None, 30, 110, 110, 16)  1312      \n",
      "_________________________________________________________________\n",
      "activation_29 (Activation)   (None, 30, 110, 110, 16)  0         \n",
      "_________________________________________________________________\n",
      "batch_normalization_43 (Batc (None, 30, 110, 110, 16)  64        \n",
      "_________________________________________________________________\n",
      "max_pooling3d_29 (MaxPooling (None, 15, 55, 55, 16)    0         \n",
      "_________________________________________________________________\n",
      "conv3d_30 (Conv3D)           (None, 15, 55, 55, 32)    4128      \n",
      "_________________________________________________________________\n",
      "activation_30 (Activation)   (None, 15, 55, 55, 32)    0         \n",
      "_________________________________________________________________\n",
      "batch_normalization_44 (Batc (None, 15, 55, 55, 32)    128       \n",
      "_________________________________________________________________\n",
      "max_pooling3d_30 (MaxPooling (None, 7, 27, 27, 32)     0         \n",
      "_________________________________________________________________\n",
      "conv3d_31 (Conv3D)           (None, 7, 27, 27, 64)     16448     \n",
      "_________________________________________________________________\n",
      "activation_31 (Activation)   (None, 7, 27, 27, 64)     0         \n",
      "_________________________________________________________________\n",
      "batch_normalization_45 (Batc (None, 7, 27, 27, 64)     256       \n",
      "_________________________________________________________________\n",
      "max_pooling3d_31 (MaxPooling (None, 3, 13, 13, 64)     0         \n",
      "_________________________________________________________________\n",
      "conv3d_32 (Conv3D)           (None, 3, 13, 13, 128)    65664     \n",
      "_________________________________________________________________\n",
      "activation_32 (Activation)   (None, 3, 13, 13, 128)    0         \n",
      "_________________________________________________________________\n",
      "batch_normalization_46 (Batc (None, 3, 13, 13, 128)    512       \n",
      "_________________________________________________________________\n",
      "max_pooling3d_32 (MaxPooling (None, 1, 6, 6, 128)      0         \n",
      "_________________________________________________________________\n",
      "flatten_8 (Flatten)          (None, 4608)              0         \n",
      "_________________________________________________________________\n",
      "dense_22 (Dense)             (None, 128)               589952    \n",
      "_________________________________________________________________\n",
      "batch_normalization_47 (Batc (None, 128)               512       \n",
      "_________________________________________________________________\n",
      "dropout_15 (Dropout)         (None, 128)               0         \n",
      "_________________________________________________________________\n",
      "dense_23 (Dense)             (None, 64)                8256      \n",
      "_________________________________________________________________\n",
      "batch_normalization_48 (Batc (None, 64)                256       \n",
      "_________________________________________________________________\n",
      "dropout_16 (Dropout)         (None, 64)                0         \n",
      "_________________________________________________________________\n",
      "dense_24 (Dense)             (None, 5)                 325       \n",
      "=================================================================\n",
      "Total params: 687,813\n",
      "Trainable params: 686,949\n",
      "Non-trainable params: 864\n",
      "_________________________________________________________________\n"
     ]
    }
   ],
   "source": [
    "model.summary()"
   ]
  },
  {
   "cell_type": "markdown",
   "metadata": {},
   "source": [
    "#### The number of training parameter is decently low.So, in our next set of experiments we will observe the effects of number of frames to sample and batch size on the accuracy and the model memory footprint."
   ]
  },
  {
   "cell_type": "markdown",
   "metadata": {},
   "source": [
    "#### We will start off by decreasing the number of frames we were previously sending in as input into the model."
   ]
  },
  {
   "cell_type": "code",
   "execution_count": 51,
   "metadata": {},
   "outputs": [],
   "source": [
    "image_height=110\n",
    "image_width=110\n",
    "image_frames=[int(round(i)) for i in np.arange(0,30,1.5)]\n",
    "train_generator = generator(train_path, train_doc, batch_size,image_height, image_width, image_frames,aug=True)\n",
    "val_generator = generator(val_path, val_doc, batch_size,image_height, image_width, image_frames)"
   ]
  },
  {
   "cell_type": "code",
   "execution_count": 52,
   "metadata": {},
   "outputs": [],
   "source": [
    "model=define_model(len(image_frames),110,110)"
   ]
  },
  {
   "cell_type": "code",
   "execution_count": 69,
   "metadata": {},
   "outputs": [],
   "source": [
    "if (num_train_sequences%batch_size) == 0:\n",
    "    steps_per_epoch = int(num_train_sequences/batch_size)\n",
    "else:\n",
    "    steps_per_epoch = (num_train_sequences//batch_size) + 1\n",
    "\n",
    "if (num_val_sequences%batch_size) == 0:\n",
    "    validation_steps = int(num_val_sequences/batch_size)\n",
    "else:\n",
    "    validation_steps = (num_val_sequences//batch_size) + 1"
   ]
  },
  {
   "cell_type": "code",
   "execution_count": 50,
   "metadata": {
    "scrolled": true
   },
   "outputs": [
    {
     "name": "stdout",
     "output_type": "stream",
     "text": [
      "Source path =  Project_data/val ; batch size = 30\n",
      "Source path =  Project_data/train ; batch size = 30\n",
      "Epoch 1/2\n"
     ]
    },
    {
     "name": "stderr",
     "output_type": "stream",
     "text": [
      "/mnt/disks/user/anaconda3/lib/python3.6/site-packages/ipykernel_launcher.py:29: DeprecationWarning: `imread` is deprecated!\n",
      "`imread` is deprecated in SciPy 1.0.0, and will be removed in 1.2.0.\n",
      "Use ``imageio.imread`` instead.\n",
      "/mnt/disks/user/anaconda3/lib/python3.6/site-packages/ipykernel_launcher.py:33: DeprecationWarning: `imresize` is deprecated!\n",
      "`imresize` is deprecated in SciPy 1.0.0, and will be removed in 1.2.0.\n",
      "Use ``skimage.transform.resize`` instead.\n"
     ]
    },
    {
     "name": "stdout",
     "output_type": "stream",
     "text": [
      "WIN_20180907_15_50_39_Pro_Right Swipe_new;Right Swipe_new;1\n",
      "\n"
     ]
    },
    {
     "name": "stderr",
     "output_type": "stream",
     "text": [
      "/mnt/disks/user/anaconda3/lib/python3.6/site-packages/ipykernel_launcher.py:125: DeprecationWarning: `imread` is deprecated!\n",
      "`imread` is deprecated in SciPy 1.0.0, and will be removed in 1.2.0.\n",
      "Use ``imageio.imread`` instead.\n",
      "/mnt/disks/user/anaconda3/lib/python3.6/site-packages/ipykernel_launcher.py:129: DeprecationWarning: `imresize` is deprecated!\n",
      "`imresize` is deprecated in SciPy 1.0.0, and will be removed in 1.2.0.\n",
      "Use ``skimage.transform.resize`` instead.\n"
     ]
    },
    {
     "name": "stdout",
     "output_type": "stream",
     "text": [
      " 4/23 [====>.........................] - ETA: 1:23 - loss: 2.0140 - categorical_accuracy: 0.2875WIN_20180907_15_42_17_Pro_Stop Gesture_new;Stop Gesture_new;2\n",
      "\n",
      "21/23 [==========================>...] - ETA: 6s - loss: 1.6520 - categorical_accuracy: 0.3802WIN_20180907_16_29_13_Pro_Stop Gesture_new;Stop Gesture_new;2\n",
      "\n",
      "23/23 [==============================] - 73s 3s/step - loss: 1.6950 - categorical_accuracy: 0.3827 - val_loss: 1.7449 - val_categorical_accuracy: 0.5100\n",
      "\n",
      "Epoch 00001: saving model to model_init_2021-02-0809_02_40.930436/model-00001-1.63966-0.38473-1.74490-0.51000.h5\n",
      "Epoch 2/2\n",
      "WIN_20180907_15_30_06_Pro_Right Swipe_new;Right Swipe_new;1\n",
      "\n",
      "21/23 [==========================>...] - ETA: 5s - loss: 1.2565 - categorical_accuracy: 0.5119WIN_20180907_16_19_31_Pro_Right Swipe_new;Right Swipe_new;1\n",
      "\n",
      "23/23 [==============================] - 63s 3s/step - loss: 1.3805 - categorical_accuracy: 0.4907 - val_loss: 1.2465 - val_categorical_accuracy: 0.5700\n",
      "\n",
      "Epoch 00002: saving model to model_init_2021-02-0809_02_40.930436/model-00002-1.25473-0.51096-1.24647-0.57000.h5\n"
     ]
    },
    {
     "data": {
      "text/plain": [
       "<keras.callbacks.History at 0x7f8db686c7b8>"
      ]
     },
     "execution_count": 50,
     "metadata": {},
     "output_type": "execute_result"
    }
   ],
   "source": [
    "md7= model.fit_generator(train_generator, steps_per_epoch=steps_per_epoch, epochs=2, verbose=1, \n",
    "                    callbacks=callbacks_list, validation_data=val_generator, \n",
    "                    validation_steps=validation_steps, class_weight=None, workers=1, initial_epoch=0)"
   ]
  },
  {
   "cell_type": "markdown",
   "metadata": {},
   "source": [
    "#### We see that the accuracy decreases but not by a lot when the number of frames being sampled decreases to 20."
   ]
  },
  {
   "cell_type": "markdown",
   "metadata": {},
   "source": [
    "#### We shall now observe what happens when the number of frames to sample are further decreased to 16."
   ]
  },
  {
   "cell_type": "code",
   "execution_count": 82,
   "metadata": {},
   "outputs": [],
   "source": [
    "image_height=110\n",
    "image_width=110\n",
    "image_frames=[int(round(i)) for i in np.arange(0,30,1.9)]\n",
    "train_generator = generator(train_path, train_doc, batch_size,image_height, image_width, image_frames,aug=True)\n",
    "val_generator = generator(val_path, val_doc, batch_size,image_height, image_width, image_frames)"
   ]
  },
  {
   "cell_type": "code",
   "execution_count": 83,
   "metadata": {},
   "outputs": [],
   "source": [
    "model=define_model(len(image_frames),110,110)"
   ]
  },
  {
   "cell_type": "code",
   "execution_count": 70,
   "metadata": {},
   "outputs": [],
   "source": [
    "if (num_train_sequences%batch_size) == 0:\n",
    "    steps_per_epoch = int(num_train_sequences/batch_size)\n",
    "else:\n",
    "    steps_per_epoch = (num_train_sequences//batch_size) + 1\n",
    "\n",
    "if (num_val_sequences%batch_size) == 0:\n",
    "    validation_steps = int(num_val_sequences/batch_size)\n",
    "else:\n",
    "    validation_steps = (num_val_sequences//batch_size) + 1"
   ]
  },
  {
   "cell_type": "code",
   "execution_count": 84,
   "metadata": {},
   "outputs": [
    {
     "name": "stdout",
     "output_type": "stream",
     "text": [
      "Source path =  Source path =  Project_data/train ; batch size = 30\n",
      "Epoch 1/2Project_data/val ; batch size = 30\n",
      "\n"
     ]
    },
    {
     "name": "stderr",
     "output_type": "stream",
     "text": [
      "/mnt/disks/user/anaconda3/lib/python3.6/site-packages/ipykernel_launcher.py:29: DeprecationWarning: `imread` is deprecated!\n",
      "`imread` is deprecated in SciPy 1.0.0, and will be removed in 1.2.0.\n",
      "Use ``imageio.imread`` instead.\n",
      "/mnt/disks/user/anaconda3/lib/python3.6/site-packages/ipykernel_launcher.py:33: DeprecationWarning: `imresize` is deprecated!\n",
      "`imresize` is deprecated in SciPy 1.0.0, and will be removed in 1.2.0.\n",
      "Use ``skimage.transform.resize`` instead.\n"
     ]
    },
    {
     "name": "stdout",
     "output_type": "stream",
     "text": [
      "WIN_20180925_17_43_46_Pro_Right_Swipe_new;Right_Swipe_new;1\n",
      "\n"
     ]
    },
    {
     "name": "stderr",
     "output_type": "stream",
     "text": [
      "/mnt/disks/user/anaconda3/lib/python3.6/site-packages/ipykernel_launcher.py:125: DeprecationWarning: `imread` is deprecated!\n",
      "`imread` is deprecated in SciPy 1.0.0, and will be removed in 1.2.0.\n",
      "Use ``imageio.imread`` instead.\n",
      "/mnt/disks/user/anaconda3/lib/python3.6/site-packages/ipykernel_launcher.py:129: DeprecationWarning: `imresize` is deprecated!\n",
      "`imresize` is deprecated in SciPy 1.0.0, and will be removed in 1.2.0.\n",
      "Use ``skimage.transform.resize`` instead.\n"
     ]
    },
    {
     "name": "stdout",
     "output_type": "stream",
     "text": [
      " 4/23 [====>.........................] - ETA: 1:07 - loss: 2.0382 - categorical_accuracy: 0.3000WIN_20180925_17_48_16_Pro_Thumbs_Down_new;Thumbs_Down_new;3\n",
      "\n",
      "21/23 [==========================>...] - ETA: 5s - loss: 1.6048 - categorical_accuracy: 0.3873WIN_20180926_17_31_45_Pro_Thumbs_Up_new;Thumbs_Up_new;4\n",
      "\n",
      "23/23 [==============================] - 58s 3s/step - loss: 1.7074 - categorical_accuracy: 0.3739 - val_loss: 1.9015 - val_categorical_accuracy: 0.4600\n",
      "\n",
      "Epoch 00001: saving model to model_init_2021-02-0809_36_09.430274/model-00001-1.61171-0.38927-1.90153-0.46000.h5\n",
      "WIN_20180907_16_00_42_Pro_Left Swipe_new_Left Swipe_new;Left Swipe_new_Left Swipe_new;0\n",
      "\n",
      "Epoch 2/2\n",
      "21/23 [==========================>...] - ETA: 4s - loss: 1.2088 - categorical_accuracy: 0.5302WIN_20180925_17_53_03_Pro_Stop_new;Stop_new;2\n",
      "\n",
      "23/23 [==============================] - 48s 2s/step - loss: 1.2436 - categorical_accuracy: 0.5272 - val_loss: 1.4589 - val_categorical_accuracy: 0.6000\n",
      "\n",
      "Epoch 00002: saving model to model_init_2021-02-0809_36_09.430274/model-00002-1.20280-0.53515-1.45892-0.60000.h5\n"
     ]
    },
    {
     "data": {
      "text/plain": [
       "<keras.callbacks.History at 0x7f8db058cd68>"
      ]
     },
     "execution_count": 84,
     "metadata": {},
     "output_type": "execute_result"
    }
   ],
   "source": [
    "md8= model.fit_generator(train_generator, steps_per_epoch=steps_per_epoch, epochs=2, verbose=1, \n",
    "                    callbacks=callbacks_list, validation_data=val_generator, \n",
    "                    validation_steps=validation_steps, class_weight=None, workers=1, initial_epoch=0)"
   ]
  },
  {
   "cell_type": "markdown",
   "metadata": {},
   "source": [
    "#### It seems that dropping the number of frames being sampled increases the accuracy of the model. But since the number of epochs used for this experiment is low so the results are a bit inconclusive. However, we will take this into account in our future experiments."
   ]
  },
  {
   "cell_type": "code",
   "execution_count": 85,
   "metadata": {
    "scrolled": false
   },
   "outputs": [
    {
     "name": "stdout",
     "output_type": "stream",
     "text": [
      "_________________________________________________________________\n",
      "Layer (type)                 Output Shape              Param #   \n",
      "=================================================================\n",
      "conv3d_33 (Conv3D)           (None, 16, 110, 110, 16)  1312      \n",
      "_________________________________________________________________\n",
      "activation_33 (Activation)   (None, 16, 110, 110, 16)  0         \n",
      "_________________________________________________________________\n",
      "batch_normalization_49 (Batc (None, 16, 110, 110, 16)  64        \n",
      "_________________________________________________________________\n",
      "max_pooling3d_33 (MaxPooling (None, 8, 55, 55, 16)     0         \n",
      "_________________________________________________________________\n",
      "conv3d_34 (Conv3D)           (None, 8, 55, 55, 32)     4128      \n",
      "_________________________________________________________________\n",
      "activation_34 (Activation)   (None, 8, 55, 55, 32)     0         \n",
      "_________________________________________________________________\n",
      "batch_normalization_50 (Batc (None, 8, 55, 55, 32)     128       \n",
      "_________________________________________________________________\n",
      "max_pooling3d_34 (MaxPooling (None, 4, 27, 27, 32)     0         \n",
      "_________________________________________________________________\n",
      "conv3d_35 (Conv3D)           (None, 4, 27, 27, 64)     16448     \n",
      "_________________________________________________________________\n",
      "activation_35 (Activation)   (None, 4, 27, 27, 64)     0         \n",
      "_________________________________________________________________\n",
      "batch_normalization_51 (Batc (None, 4, 27, 27, 64)     256       \n",
      "_________________________________________________________________\n",
      "max_pooling3d_35 (MaxPooling (None, 2, 13, 13, 64)     0         \n",
      "_________________________________________________________________\n",
      "conv3d_36 (Conv3D)           (None, 2, 13, 13, 128)    65664     \n",
      "_________________________________________________________________\n",
      "activation_36 (Activation)   (None, 2, 13, 13, 128)    0         \n",
      "_________________________________________________________________\n",
      "batch_normalization_52 (Batc (None, 2, 13, 13, 128)    512       \n",
      "_________________________________________________________________\n",
      "max_pooling3d_36 (MaxPooling (None, 1, 6, 6, 128)      0         \n",
      "_________________________________________________________________\n",
      "flatten_9 (Flatten)          (None, 4608)              0         \n",
      "_________________________________________________________________\n",
      "dense_25 (Dense)             (None, 128)               589952    \n",
      "_________________________________________________________________\n",
      "batch_normalization_53 (Batc (None, 128)               512       \n",
      "_________________________________________________________________\n",
      "dropout_17 (Dropout)         (None, 128)               0         \n",
      "_________________________________________________________________\n",
      "dense_26 (Dense)             (None, 64)                8256      \n",
      "_________________________________________________________________\n",
      "batch_normalization_54 (Batc (None, 64)                256       \n",
      "_________________________________________________________________\n",
      "dropout_18 (Dropout)         (None, 64)                0         \n",
      "_________________________________________________________________\n",
      "dense_27 (Dense)             (None, 5)                 325       \n",
      "=================================================================\n",
      "Total params: 687,813\n",
      "Trainable params: 686,949\n",
      "Non-trainable params: 864\n",
      "_________________________________________________________________\n"
     ]
    }
   ],
   "source": [
    "model.summary()"
   ]
  },
  {
   "cell_type": "markdown",
   "metadata": {},
   "source": [
    "#### Also, sampling lesser number of frames doesn't decrease the number of trainaible parameter either."
   ]
  },
  {
   "cell_type": "markdown",
   "metadata": {},
   "source": [
    "#### Hence, based on these observations, there seems to be a correlation between model performance and the number of frames being sampled."
   ]
  },
  {
   "cell_type": "markdown",
   "metadata": {},
   "source": [
    "#### Now, we will keep our frame size ,number of frames to sample fixed while experimenting with the batch size"
   ]
  },
  {
   "cell_type": "code",
   "execution_count": 78,
   "metadata": {},
   "outputs": [],
   "source": [
    "image_height=110\n",
    "image_width=110\n",
    "image_frames=[int(round(i)) for i in np.arange(0,30)]\n",
    "batch_size=40\n",
    "train_generator = generator(train_path, train_doc, batch_size,image_height, image_width, image_frames,aug=True)\n",
    "val_generator = generator(val_path, val_doc, batch_size,image_height, image_width, image_frames)"
   ]
  },
  {
   "cell_type": "code",
   "execution_count": 79,
   "metadata": {},
   "outputs": [],
   "source": [
    "model=define_model(len(image_frames),110,110)"
   ]
  },
  {
   "cell_type": "code",
   "execution_count": 80,
   "metadata": {},
   "outputs": [],
   "source": [
    "if (num_train_sequences%batch_size) == 0:\n",
    "    steps_per_epoch = int(num_train_sequences/batch_size)\n",
    "else:\n",
    "    steps_per_epoch = (num_train_sequences//batch_size) + 1\n",
    "\n",
    "if (num_val_sequences%batch_size) == 0:\n",
    "    validation_steps = int(num_val_sequences/batch_size)\n",
    "else:\n",
    "    validation_steps = (num_val_sequences//batch_size) + 1"
   ]
  },
  {
   "cell_type": "code",
   "execution_count": 81,
   "metadata": {
    "scrolled": true
   },
   "outputs": [
    {
     "name": "stdout",
     "output_type": "stream",
     "text": [
      "Source path =  Project_data/valSource path =   ; batch size = 40\n",
      "Project_data/train ; batch size = 40\n",
      "Epoch 1/2\n"
     ]
    },
    {
     "name": "stderr",
     "output_type": "stream",
     "text": [
      "/mnt/disks/user/anaconda3/lib/python3.6/site-packages/ipykernel_launcher.py:29: DeprecationWarning: `imread` is deprecated!\n",
      "`imread` is deprecated in SciPy 1.0.0, and will be removed in 1.2.0.\n",
      "Use ``imageio.imread`` instead.\n",
      "/mnt/disks/user/anaconda3/lib/python3.6/site-packages/ipykernel_launcher.py:33: DeprecationWarning: `imresize` is deprecated!\n",
      "`imresize` is deprecated in SciPy 1.0.0, and will be removed in 1.2.0.\n",
      "Use ``skimage.transform.resize`` instead.\n"
     ]
    },
    {
     "name": "stdout",
     "output_type": "stream",
     "text": [
      "WIN_20180907_15_52_05_Pro_Thumbs Up_new;Thumbs Up_new;4\n",
      "\n"
     ]
    },
    {
     "name": "stderr",
     "output_type": "stream",
     "text": [
      "/mnt/disks/user/anaconda3/lib/python3.6/site-packages/ipykernel_launcher.py:125: DeprecationWarning: `imread` is deprecated!\n",
      "`imread` is deprecated in SciPy 1.0.0, and will be removed in 1.2.0.\n",
      "Use ``imageio.imread`` instead.\n",
      "/mnt/disks/user/anaconda3/lib/python3.6/site-packages/ipykernel_launcher.py:129: DeprecationWarning: `imresize` is deprecated!\n",
      "`imresize` is deprecated in SciPy 1.0.0, and will be removed in 1.2.0.\n",
      "Use ``skimage.transform.resize`` instead.\n"
     ]
    },
    {
     "name": "stdout",
     "output_type": "stream",
     "text": [
      " 3/17 [====>.........................] - ETA: 1:46 - loss: 2.5405 - categorical_accuracy: 0.2000WIN_20180926_17_04_53_Pro_Stop_new;Stop_new;2\n",
      "\n",
      " 5/17 [=======>......................] - ETA: 1:27 - loss: 2.4432 - categorical_accuracy: 0.2075WIN_20180907_15_45_04_Pro_Left Swipe_new_Left Swipe_new;Left Swipe_new_Left Swipe_new;0\n",
      "\n",
      "15/17 [=========================>....] - ETA: 12s - loss: 2.1558 - categorical_accuracy: 0.2758WIN_20180925_17_41_54_Pro_Thumbs_Up_new;Thumbs_Up_new;4\n",
      "\n",
      "17/17 [==============================] - 105s 6s/step - loss: 2.1872 - categorical_accuracy: 0.2663 - val_loss: 1.7443 - val_categorical_accuracy: 0.2900\n",
      "\n",
      "Epoch 00001: saving model to model_init_2021-02-0810_45_39.832185/model-00001-2.17546-0.27015-1.74434-0.29000.h5\n",
      "WIN_20180925_17_33_30_Pro_Thumbs_Down_new;Thumbs_Down_new;3\n",
      "\n",
      "Epoch 2/2\n",
      "15/17 [=========================>....] - ETA: 10s - loss: 1.6602 - categorical_accuracy: 0.3708WIN_20180907_16_12_53_Pro_Left Swipe_new_Left Swipe_new;Left Swipe_new_Left Swipe_new;0\n",
      "\n",
      "17/17 [==============================] - 90s 5s/step - loss: 1.7189 - categorical_accuracy: 0.3624 - val_loss: 1.7464 - val_categorical_accuracy: 0.3700\n",
      "\n",
      "Epoch 00002: saving model to model_init_2021-02-0810_45_39.832185/model-00002-1.67542-0.36838-1.74642-0.37000.h5\n",
      "WIN_20180925_17_17_04_Pro_Left_Swipe_new;Left_Swipe_new;0\n",
      "\n"
     ]
    }
   ],
   "source": [
    "md9= model.fit_generator(train_generator, steps_per_epoch=steps_per_epoch, epochs=2, verbose=1, \n",
    "                    callbacks=callbacks_list, validation_data=val_generator, \n",
    "                    validation_steps=validation_steps, class_weight=None, workers=1, initial_epoch=0)"
   ]
  },
  {
   "cell_type": "markdown",
   "metadata": {},
   "source": [
    "#### The batch size of 40 fits into the memory.Let's see what happens when the bacth size is gradually increased"
   ]
  },
  {
   "cell_type": "code",
   "execution_count": 84,
   "metadata": {},
   "outputs": [],
   "source": [
    "image_height=110\n",
    "image_width=110\n",
    "image_frames=[int(round(i)) for i in np.arange(0,30)]\n",
    "batch_size=50\n",
    "train_generator = generator(train_path, train_doc, batch_size,image_height, image_width, image_frames,aug=True)\n",
    "val_generator = generator(val_path, val_doc, batch_size,image_height, image_width, image_frames)"
   ]
  },
  {
   "cell_type": "code",
   "execution_count": 85,
   "metadata": {},
   "outputs": [],
   "source": [
    "model=define_model(len(image_frames),110,110)"
   ]
  },
  {
   "cell_type": "code",
   "execution_count": 86,
   "metadata": {},
   "outputs": [],
   "source": [
    "if (num_train_sequences%batch_size) == 0:\n",
    "    steps_per_epoch = int(num_train_sequences/batch_size)\n",
    "else:\n",
    "    steps_per_epoch = (num_train_sequences//batch_size) + 1\n",
    "\n",
    "if (num_val_sequences%batch_size) == 0:\n",
    "    validation_steps = int(num_val_sequences/batch_size)\n",
    "else:\n",
    "    validation_steps = (num_val_sequences//batch_size) + 1"
   ]
  },
  {
   "cell_type": "code",
   "execution_count": 87,
   "metadata": {
    "scrolled": true
   },
   "outputs": [
    {
     "name": "stdout",
     "output_type": "stream",
     "text": [
      "Source path =  Project_data/val ; batch size = 50\n",
      "Source path =  Project_data/train ; batch size = Epoch 1/2\n",
      "50\n"
     ]
    },
    {
     "name": "stderr",
     "output_type": "stream",
     "text": [
      "/mnt/disks/user/anaconda3/lib/python3.6/site-packages/ipykernel_launcher.py:29: DeprecationWarning: `imread` is deprecated!\n",
      "`imread` is deprecated in SciPy 1.0.0, and will be removed in 1.2.0.\n",
      "Use ``imageio.imread`` instead.\n",
      "/mnt/disks/user/anaconda3/lib/python3.6/site-packages/ipykernel_launcher.py:33: DeprecationWarning: `imresize` is deprecated!\n",
      "`imresize` is deprecated in SciPy 1.0.0, and will be removed in 1.2.0.\n",
      "Use ``skimage.transform.resize`` instead.\n"
     ]
    },
    {
     "name": "stdout",
     "output_type": "stream",
     "text": [
      "12/14 [========================>.....] - ETA: 20s - loss: 2.1042 - categorical_accuracy: 0.2658WIN_20180926_17_42_50_Pro_Thumbs_Down_new;Thumbs_Down_new;3\n",
      "\n"
     ]
    },
    {
     "name": "stderr",
     "output_type": "stream",
     "text": [
      "/mnt/disks/user/anaconda3/lib/python3.6/site-packages/ipykernel_launcher.py:125: DeprecationWarning: `imread` is deprecated!\n",
      "`imread` is deprecated in SciPy 1.0.0, and will be removed in 1.2.0.\n",
      "Use ``imageio.imread`` instead.\n",
      "/mnt/disks/user/anaconda3/lib/python3.6/site-packages/ipykernel_launcher.py:129: DeprecationWarning: `imresize` is deprecated!\n",
      "`imresize` is deprecated in SciPy 1.0.0, and will be removed in 1.2.0.\n",
      "Use ``skimage.transform.resize`` instead.\n"
     ]
    },
    {
     "name": "stdout",
     "output_type": "stream",
     "text": [
      "14/14 [==============================] - 148s 11s/step - loss: 2.0721 - categorical_accuracy: 0.2584 - val_loss: 1.5490 - val_categorical_accuracy: 0.4300\n",
      "\n",
      "Epoch 00001: saving model to model_init_2021-02-0810_45_39.832185/model-00001-2.08135-0.26961-1.54901-0.43000.h5\n",
      "Epoch 2/2\n",
      "12/14 [========================>.....] - ETA: 27s - loss: 1.6945 - categorical_accuracy: 0.3592WIN_20180926_17_17_07_Pro_Thumbs_Down_new;Thumbs_Down_new;3\n",
      "\n",
      "14/14 [==============================] - 184s 13s/step - loss: 1.6909 - categorical_accuracy: 0.3558 - val_loss: 1.4278 - val_categorical_accuracy: 0.4700\n",
      "\n",
      "Epoch 00002: saving model to model_init_2021-02-0810_45_39.832185/model-00002-1.68279-0.35872-1.42777-0.47000.h5\n"
     ]
    }
   ],
   "source": [
    "md10= model.fit_generator(train_generator, steps_per_epoch=steps_per_epoch, epochs=2, verbose=1, \n",
    "                    callbacks=callbacks_list, validation_data=val_generator, \n",
    "                    validation_steps=validation_steps, class_weight=None, workers=1, initial_epoch=0)"
   ]
  },
  {
   "cell_type": "markdown",
   "metadata": {},
   "source": [
    "#### Increasing the batch size again"
   ]
  },
  {
   "cell_type": "code",
   "execution_count": 88,
   "metadata": {},
   "outputs": [],
   "source": [
    "image_height=110\n",
    "image_width=110\n",
    "image_frames=[int(round(i)) for i in np.arange(0,30)]\n",
    "batch_size=60\n",
    "train_generator = generator(train_path, train_doc, batch_size,image_height, image_width, image_frames,aug=True)\n",
    "val_generator = generator(val_path, val_doc, batch_size,image_height, image_width, image_frames)"
   ]
  },
  {
   "cell_type": "code",
   "execution_count": 89,
   "metadata": {},
   "outputs": [],
   "source": [
    "model=define_model(len(image_frames),110,110)"
   ]
  },
  {
   "cell_type": "code",
   "execution_count": 90,
   "metadata": {},
   "outputs": [],
   "source": [
    "if (num_train_sequences%batch_size) == 0:\n",
    "    steps_per_epoch = int(num_train_sequences/batch_size)\n",
    "else:\n",
    "    steps_per_epoch = (num_train_sequences//batch_size) + 1\n",
    "\n",
    "if (num_val_sequences%batch_size) == 0:\n",
    "    validation_steps = int(num_val_sequences/batch_size)\n",
    "else:\n",
    "    validation_steps = (num_val_sequences//batch_size) + 1"
   ]
  },
  {
   "cell_type": "code",
   "execution_count": 91,
   "metadata": {},
   "outputs": [
    {
     "name": "stdout",
     "output_type": "stream",
     "text": [
      "Source path =  Project_data/val ; batch size = 60\n",
      "Source path =  Project_data/trainEpoch 1/2\n",
      " ; batch size = 60\n"
     ]
    },
    {
     "name": "stderr",
     "output_type": "stream",
     "text": [
      "/mnt/disks/user/anaconda3/lib/python3.6/site-packages/ipykernel_launcher.py:29: DeprecationWarning: `imread` is deprecated!\n",
      "`imread` is deprecated in SciPy 1.0.0, and will be removed in 1.2.0.\n",
      "Use ``imageio.imread`` instead.\n",
      "/mnt/disks/user/anaconda3/lib/python3.6/site-packages/ipykernel_launcher.py:33: DeprecationWarning: `imresize` is deprecated!\n",
      "`imresize` is deprecated in SciPy 1.0.0, and will be removed in 1.2.0.\n",
      "Use ``skimage.transform.resize`` instead.\n"
     ]
    },
    {
     "name": "stdout",
     "output_type": "stream",
     "text": [
      "WIN_20180926_17_21_48_Pro_Left_Swipe_new;Left_Swipe_new;0\n",
      "\n"
     ]
    },
    {
     "name": "stderr",
     "output_type": "stream",
     "text": [
      "/mnt/disks/user/anaconda3/lib/python3.6/site-packages/ipykernel_launcher.py:125: DeprecationWarning: `imread` is deprecated!\n",
      "`imread` is deprecated in SciPy 1.0.0, and will be removed in 1.2.0.\n",
      "Use ``imageio.imread`` instead.\n",
      "/mnt/disks/user/anaconda3/lib/python3.6/site-packages/ipykernel_launcher.py:129: DeprecationWarning: `imresize` is deprecated!\n",
      "`imresize` is deprecated in SciPy 1.0.0, and will be removed in 1.2.0.\n",
      "Use ``skimage.transform.resize`` instead.\n"
     ]
    },
    {
     "name": "stdout",
     "output_type": "stream",
     "text": [
      " 1/12 [=>............................] - ETA: 5:19 - loss: 2.6763 - categorical_accuracy: 0.1667WIN_20180907_15_50_39_Pro_Right Swipe_new;Right Swipe_new;1\n",
      "\n",
      " 2/12 [====>.........................] - ETA: 2:56 - loss: 2.4461 - categorical_accuracy: 0.2125WIN_20180926_17_29_34_Pro_Right_Swipe_new;Right_Swipe_new;1\n",
      "\n",
      " 3/12 [======>.......................] - ETA: 2:27 - loss: 2.3623 - categorical_accuracy: 0.2222WIN_20180926_16_37_56_Pro_Stop_new;Stop_new;2\n",
      "\n",
      " 4/12 [=========>....................] - ETA: 2:11 - loss: 2.3651 - categorical_accuracy: 0.2125WIN_20180925_17_43_01_Pro_Left_Swipe_new;Left_Swipe_new;0\n",
      "\n",
      "10/12 [========================>.....] - ETA: 33s - loss: 2.2006 - categorical_accuracy: 0.2433WIN_20180907_16_22_03_Pro_Left Swipe_new_Left Swipe_new;Left Swipe_new_Left Swipe_new;0\n",
      "\n",
      "12/12 [==============================] - 192s 16s/step - loss: 2.2112 - categorical_accuracy: 0.2314 - val_loss: 2.1835 - val_categorical_accuracy: 0.3000\n",
      "\n",
      "Epoch 00001: saving model to model_init_2021-02-0810_45_39.832185/model-00001-2.17594-0.25019-2.18353-0.30000.h5\n",
      "Epoch 2/2\n",
      " 1/12 [=>............................] - ETA: 1:12 - loss: 1.4571 - categorical_accuracy: 0.4750WIN_20180926_17_34_05_Pro_Right_Swipe_new;Right_Swipe_new;1\n",
      "\n",
      "10/12 [========================>.....] - ETA: 34s - loss: 1.6438 - categorical_accuracy: 0.3933WIN_20180926_17_08_38_Pro_Thumbs_Down_new;Thumbs_Down_new;3\n",
      "\n",
      "12/12 [==============================] - 191s 16s/step - loss: 1.7012 - categorical_accuracy: 0.3837 - val_loss: 2.3640 - val_categorical_accuracy: 0.3400\n",
      "\n",
      "Epoch 00002: saving model to model_init_2021-02-0810_45_39.832185/model-00002-1.65863-0.38776-2.36399-0.34000.h5\n"
     ]
    }
   ],
   "source": [
    "md11= model.fit_generator(train_generator, steps_per_epoch=steps_per_epoch, epochs=2, verbose=1, \n",
    "                    callbacks=callbacks_list, validation_data=val_generator, \n",
    "                    validation_steps=validation_steps, class_weight=None, workers=1, initial_epoch=0)"
   ]
  },
  {
   "cell_type": "markdown",
   "metadata": {},
   "source": [
    "#### Based on the above experiments, it seems that the increase in batch size negatively affects the model performance as the validation accuracy has decreased as we have increased the batch size."
   ]
  },
  {
   "cell_type": "markdown",
   "metadata": {},
   "source": [
    "#### Based on our initial experiments we can draw the following inferences :-\n",
    "<ul>\n",
    "    <li>Increase in frame size results in an <b>increment</b> of both our model performace and model memory footprint.</li>\n",
    "    <li>There seems to be a <b>correlation</b> between the model performance and the number of frames being sampled</li>\n",
    "    <li>Finally, the increase in batch size seems to negatively affect the model performance.</li>\n",
    "</ul>"
   ]
  },
  {
   "cell_type": "markdown",
   "metadata": {},
   "source": [
    "#### Now, we will be performing a few different permutations in order to arrive at a decent model."
   ]
  },
  {
   "cell_type": "code",
   "execution_count": 93,
   "metadata": {},
   "outputs": [],
   "source": [
    "image_height=120\n",
    "image_width=120\n",
    "image_frames=[0,3,5,6,7,8,9,10,11,12,13,14,15,16,17,18,19,20,21,22,23,24,25,27,29]\n",
    "batch_size=20\n",
    "train_generator = generator(train_path, train_doc, batch_size,image_height, image_width, image_frames,aug=True)\n",
    "val_generator = generator(val_path, val_doc, batch_size,image_height, image_width, image_frames)"
   ]
  },
  {
   "cell_type": "code",
   "execution_count": 94,
   "metadata": {},
   "outputs": [],
   "source": [
    "model=define_model(25,120,120)"
   ]
  },
  {
   "cell_type": "code",
   "execution_count": 95,
   "metadata": {},
   "outputs": [],
   "source": [
    "if (num_train_sequences%batch_size) == 0:\n",
    "    steps_per_epoch = int(num_train_sequences/batch_size)\n",
    "else:\n",
    "    steps_per_epoch = (num_train_sequences//batch_size) + 1\n",
    "\n",
    "if (num_val_sequences%batch_size) == 0:\n",
    "    validation_steps = int(num_val_sequences/batch_size)\n",
    "else:\n",
    "    validation_steps = (num_val_sequences//batch_size) + 1"
   ]
  },
  {
   "cell_type": "code",
   "execution_count": 96,
   "metadata": {
    "scrolled": true
   },
   "outputs": [
    {
     "name": "stdout",
     "output_type": "stream",
     "text": [
      "_________________________________________________________________\n",
      "Layer (type)                 Output Shape              Param #   \n",
      "=================================================================\n",
      "conv3d_49 (Conv3D)           (None, 25, 120, 120, 8)   656       \n",
      "_________________________________________________________________\n",
      "activation_49 (Activation)   (None, 25, 120, 120, 8)   0         \n",
      "_________________________________________________________________\n",
      "batch_normalization_73 (Batc (None, 25, 120, 120, 8)   32        \n",
      "_________________________________________________________________\n",
      "max_pooling3d_49 (MaxPooling (None, 12, 60, 60, 8)     0         \n",
      "_________________________________________________________________\n",
      "conv3d_50 (Conv3D)           (None, 12, 60, 60, 16)    3472      \n",
      "_________________________________________________________________\n",
      "activation_50 (Activation)   (None, 12, 60, 60, 16)    0         \n",
      "_________________________________________________________________\n",
      "batch_normalization_74 (Batc (None, 12, 60, 60, 16)    64        \n",
      "_________________________________________________________________\n",
      "max_pooling3d_50 (MaxPooling (None, 6, 30, 30, 16)     0         \n",
      "_________________________________________________________________\n",
      "conv3d_51 (Conv3D)           (None, 6, 30, 30, 32)     4128      \n",
      "_________________________________________________________________\n",
      "activation_51 (Activation)   (None, 6, 30, 30, 32)     0         \n",
      "_________________________________________________________________\n",
      "batch_normalization_75 (Batc (None, 6, 30, 30, 32)     128       \n",
      "_________________________________________________________________\n",
      "max_pooling3d_51 (MaxPooling (None, 3, 15, 15, 32)     0         \n",
      "_________________________________________________________________\n",
      "conv3d_52 (Conv3D)           (None, 3, 15, 15, 64)     16448     \n",
      "_________________________________________________________________\n",
      "activation_52 (Activation)   (None, 3, 15, 15, 64)     0         \n",
      "_________________________________________________________________\n",
      "batch_normalization_76 (Batc (None, 3, 15, 15, 64)     256       \n",
      "_________________________________________________________________\n",
      "max_pooling3d_52 (MaxPooling (None, 1, 7, 7, 64)       0         \n",
      "_________________________________________________________________\n",
      "flatten_13 (Flatten)         (None, 3136)              0         \n",
      "_________________________________________________________________\n",
      "dense_37 (Dense)             (None, 64)                200768    \n",
      "_________________________________________________________________\n",
      "batch_normalization_77 (Batc (None, 64)                256       \n",
      "_________________________________________________________________\n",
      "dropout_25 (Dropout)         (None, 64)                0         \n",
      "_________________________________________________________________\n",
      "dense_38 (Dense)             (None, 64)                4160      \n",
      "_________________________________________________________________\n",
      "batch_normalization_78 (Batc (None, 64)                256       \n",
      "_________________________________________________________________\n",
      "dropout_26 (Dropout)         (None, 64)                0         \n",
      "_________________________________________________________________\n",
      "dense_39 (Dense)             (None, 5)                 325       \n",
      "=================================================================\n",
      "Total params: 230,949\n",
      "Trainable params: 230,453\n",
      "Non-trainable params: 496\n",
      "_________________________________________________________________\n"
     ]
    }
   ],
   "source": [
    "model.summary()"
   ]
  },
  {
   "cell_type": "code",
   "execution_count": 97,
   "metadata": {},
   "outputs": [
    {
     "name": "stdout",
     "output_type": "stream",
     "text": [
      "Source path =  Project_data/val ; batch size = 20\n",
      "Source path =  Project_data/train ; batch size = 20\n",
      "Epoch 1/25\n"
     ]
    },
    {
     "name": "stderr",
     "output_type": "stream",
     "text": [
      "/mnt/disks/user/anaconda3/lib/python3.6/site-packages/ipykernel_launcher.py:29: DeprecationWarning: `imread` is deprecated!\n",
      "`imread` is deprecated in SciPy 1.0.0, and will be removed in 1.2.0.\n",
      "Use ``imageio.imread`` instead.\n",
      "/mnt/disks/user/anaconda3/lib/python3.6/site-packages/ipykernel_launcher.py:33: DeprecationWarning: `imresize` is deprecated!\n",
      "`imresize` is deprecated in SciPy 1.0.0, and will be removed in 1.2.0.\n",
      "Use ``skimage.transform.resize`` instead.\n"
     ]
    },
    {
     "name": "stdout",
     "output_type": "stream",
     "text": [
      "32/34 [===========================>..] - ETA: 10s - loss: 1.9291 - categorical_accuracy: 0.3031WIN_20180907_16_02_21_Pro_Left Swipe_new_Left Swipe_new;Left Swipe_new_Left Swipe_new;0\n",
      "\n"
     ]
    },
    {
     "name": "stderr",
     "output_type": "stream",
     "text": [
      "/mnt/disks/user/anaconda3/lib/python3.6/site-packages/ipykernel_launcher.py:125: DeprecationWarning: `imread` is deprecated!\n",
      "`imread` is deprecated in SciPy 1.0.0, and will be removed in 1.2.0.\n",
      "Use ``imageio.imread`` instead.\n",
      "/mnt/disks/user/anaconda3/lib/python3.6/site-packages/ipykernel_launcher.py:129: DeprecationWarning: `imresize` is deprecated!\n",
      "`imresize` is deprecated in SciPy 1.0.0, and will be removed in 1.2.0.\n",
      "Use ``skimage.transform.resize`` instead.\n"
     ]
    },
    {
     "name": "stdout",
     "output_type": "stream",
     "text": [
      "34/34 [==============================] - 170s 5s/step - loss: 1.9376 - categorical_accuracy: 0.3061 - val_loss: 1.4748 - val_categorical_accuracy: 0.3600\n",
      "\n",
      "Epoch 00001: saving model to model_init_2021-02-0810_45_39.832185/model-00001-1.92353-0.30537-1.47478-0.36000.h5\n",
      "Epoch 2/25\n",
      "32/34 [===========================>..] - ETA: 4s - loss: 1.4383 - categorical_accuracy: 0.4367WIN_20180926_17_04_58_Pro_Right_Swipe_new;Right_Swipe_new;1\n",
      "\n",
      "34/34 [==============================] - 78s 2s/step - loss: 1.4704 - categorical_accuracy: 0.4268 - val_loss: 1.2952 - val_categorical_accuracy: 0.4900\n",
      "\n",
      "Epoch 00002: saving model to model_init_2021-02-0810_45_39.832185/model-00002-1.43988-0.43840-1.29522-0.49000.h5\n",
      "Epoch 3/25\n",
      "32/34 [===========================>..] - ETA: 5s - loss: 1.2465 - categorical_accuracy: 0.5125WIN_20180926_16_40_01_Pro_Thumbs_Up_new;Thumbs_Up_new;4\n",
      "\n",
      "34/34 [==============================] - 85s 2s/step - loss: 1.2745 - categorical_accuracy: 0.5070 - val_loss: 1.1566 - val_categorical_accuracy: 0.5000\n",
      "\n",
      "Epoch 00003: saving model to model_init_2021-02-0810_45_39.832185/model-00003-1.25004-0.51172-1.15659-0.50000.h5\n",
      "Epoch 4/25\n",
      "32/34 [===========================>..] - ETA: 4s - loss: 1.1846 - categorical_accuracy: 0.5352WIN_20180926_17_20_19_Pro_Left_Swipe_new;Left_Swipe_new;0\n",
      "\n",
      "34/34 [==============================] - 84s 2s/step - loss: 1.2058 - categorical_accuracy: 0.5254 - val_loss: 1.2099 - val_categorical_accuracy: 0.5000\n",
      "\n",
      "Epoch 00004: saving model to model_init_2021-02-0810_45_39.832185/model-00004-1.19128-0.53061-1.20987-0.50000.h5\n",
      "Epoch 5/25\n",
      "32/34 [===========================>..] - ETA: 4s - loss: 1.1663 - categorical_accuracy: 0.5437WIN_20180926_17_06_12_Pro_Left_Swipe_new;Left_Swipe_new;0\n",
      "\n",
      "34/34 [==============================] - 84s 2s/step - loss: 1.2341 - categorical_accuracy: 0.5276 - val_loss: 1.1882 - val_categorical_accuracy: 0.5300\n",
      "\n",
      "Epoch 00005: saving model to model_init_2021-02-0810_45_39.832185/model-00005-1.17376-0.54195-1.18822-0.53000.h5\n",
      "Epoch 6/25\n",
      "32/34 [===========================>..] - ETA: 4s - loss: 1.0748 - categorical_accuracy: 0.5891WIN_20180926_16_59_27_Pro_Thumbs_Up_new;Thumbs_Up_new;4\n",
      "\n",
      "34/34 [==============================] - 84s 2s/step - loss: 1.2085 - categorical_accuracy: 0.5703 - val_loss: 1.0368 - val_categorical_accuracy: 0.6100\n",
      "\n",
      "Epoch 00006: saving model to model_init_2021-02-0810_45_39.832185/model-00006-1.08784-0.58579-1.03680-0.61000.h5\n",
      "Epoch 7/25\n",
      "32/34 [===========================>..] - ETA: 5s - loss: 1.0018 - categorical_accuracy: 0.6055WIN_20180925_18_00_23_Pro_Right_Swipe_new;Right_Swipe_new;1\n",
      "\n",
      "34/34 [==============================] - 85s 3s/step - loss: 1.0310 - categorical_accuracy: 0.5887 - val_loss: 0.9383 - val_categorical_accuracy: 0.6300\n",
      "\n",
      "Epoch 00007: saving model to model_init_2021-02-0810_45_39.832185/model-00007-1.00430-0.60469-0.93830-0.63000.h5\n",
      "Epoch 8/25\n",
      "32/34 [===========================>..] - ETA: 5s - loss: 0.9875 - categorical_accuracy: 0.6133WIN_20180925_17_44_12_Pro_Thumbs_Up_new;Thumbs_Up_new;4\n",
      "\n",
      "34/34 [==============================] - 86s 3s/step - loss: 1.0231 - categorical_accuracy: 0.6056 - val_loss: 0.8877 - val_categorical_accuracy: 0.6500\n",
      "\n",
      "Epoch 00008: saving model to model_init_2021-02-0810_45_39.832185/model-00008-0.99418-0.61300-0.88768-0.65000.h5\n",
      "Epoch 9/25\n",
      "32/34 [===========================>..] - ETA: 5s - loss: 0.9630 - categorical_accuracy: 0.6344WIN_20180925_18_11_52_Pro_Right_Swipe_new;Right_Swipe_new;1\n",
      "\n",
      "34/34 [==============================] - 87s 3s/step - loss: 1.0165 - categorical_accuracy: 0.6123 - val_loss: 0.8976 - val_categorical_accuracy: 0.6400\n",
      "\n",
      "Epoch 00009: saving model to model_init_2021-02-0810_45_39.832185/model-00009-0.97397-0.62887-0.89758-0.64000.h5\n",
      "Epoch 10/25\n",
      "32/34 [===========================>..] - ETA: 5s - loss: 0.9088 - categorical_accuracy: 0.6609WIN_20180907_15_59_28_Pro_Thumbs Up_new;Thumbs Up_new;4\n",
      "\n",
      "34/34 [==============================] - 88s 3s/step - loss: 0.9636 - categorical_accuracy: 0.6417 - val_loss: 0.8735 - val_categorical_accuracy: 0.6200\n",
      "\n",
      "Epoch 00010: saving model to model_init_2021-02-0810_45_39.832185/model-00010-0.91376-0.65911-0.87347-0.62000.h5\n",
      "Epoch 11/25\n",
      "32/34 [===========================>..] - ETA: 5s - loss: 0.8302 - categorical_accuracy: 0.6867WIN_20180926_16_49_22_Pro_Thumbs_Down_new;Thumbs_Down_new;3\n",
      "\n",
      "34/34 [==============================] - 88s 3s/step - loss: 0.9062 - categorical_accuracy: 0.6660 - val_loss: 0.8928 - val_categorical_accuracy: 0.6800\n",
      "\n",
      "Epoch 00011: saving model to model_init_2021-02-0810_45_39.832185/model-00011-0.84056-0.68405-0.89275-0.68000.h5\n",
      "Epoch 12/25\n",
      "32/34 [===========================>..] - ETA: 5s - loss: 0.8302 - categorical_accuracy: 0.6836WIN_20180926_16_41_27_Pro_Right_Swipe_new;Right_Swipe_new;1\n",
      "\n",
      "34/34 [==============================] - 86s 3s/step - loss: 0.8568 - categorical_accuracy: 0.6806 - val_loss: 0.9607 - val_categorical_accuracy: 0.6500\n",
      "\n",
      "Epoch 00012: saving model to model_init_2021-02-0810_45_39.832185/model-00012-0.83744-0.68103-0.96074-0.65000.h5\n",
      "Epoch 13/25\n",
      "32/34 [===========================>..] - ETA: 5s - loss: 0.8072 - categorical_accuracy: 0.6820WIN_20180926_17_27_34_Pro_Thumbs_Down_new;Thumbs_Down_new;3\n",
      "\n",
      "34/34 [==============================] - 86s 3s/step - loss: 0.8384 - categorical_accuracy: 0.6652 - val_loss: 0.9508 - val_categorical_accuracy: 0.6200\n",
      "\n",
      "Epoch 00013: saving model to model_init_2021-02-0810_45_39.832185/model-00013-0.80546-0.68330-0.95080-0.62000.h5\n",
      "Epoch 14/25\n",
      "32/34 [===========================>..] - ETA: 5s - loss: 0.8435 - categorical_accuracy: 0.6680WIN_20180926_17_22_54_Pro_Stop_new;Stop_new;2\n",
      "\n",
      "34/34 [==============================] - 85s 2s/step - loss: 0.8850 - categorical_accuracy: 0.6490 - val_loss: 0.9308 - val_categorical_accuracy: 0.5900\n",
      "\n",
      "Epoch 00014: saving model to model_init_2021-02-0810_45_39.832185/model-00014-0.84203-0.66667-0.93081-0.59000.h5\n",
      "\n",
      "Epoch 00014: ReduceLROnPlateau reducing learning rate to 3.9999998989515007e-05.\n",
      "Epoch 15/25\n",
      "32/34 [===========================>..] - ETA: 4s - loss: 0.7914 - categorical_accuracy: 0.7023WIN_20180926_16_41_27_Pro_Right_Swipe_new;Right_Swipe_new;1\n",
      "\n",
      "34/34 [==============================] - 83s 2s/step - loss: 0.8929 - categorical_accuracy: 0.6800 - val_loss: 0.8246 - val_categorical_accuracy: 0.6200\n",
      "\n",
      "Epoch 00015: saving model to model_init_2021-02-0810_45_39.832185/model-00015-0.80359-0.69841-0.82465-0.62000.h5\n",
      "Epoch 16/25\n",
      "32/34 [===========================>..] - ETA: 4s - loss: 0.7957 - categorical_accuracy: 0.7078WIN_20180925_17_45_23_Pro_Thumbs_Down_new;Thumbs_Down_new;3\n",
      "\n",
      "34/34 [==============================] - 84s 2s/step - loss: 0.8814 - categorical_accuracy: 0.6836 - val_loss: 0.7947 - val_categorical_accuracy: 0.6400\n",
      "\n",
      "Epoch 00016: saving model to model_init_2021-02-0810_45_39.832185/model-00016-0.81014-0.70219-0.79468-0.64000.h5\n",
      "Epoch 17/25\n",
      "32/34 [===========================>..] - ETA: 5s - loss: 0.7808 - categorical_accuracy: 0.7117WIN_20180907_16_56_18_Pro_Stop Gesture_new;Stop Gesture_new;2\n",
      "\n",
      "34/34 [==============================] - 84s 2s/step - loss: 0.8717 - categorical_accuracy: 0.6917 - val_loss: 0.7686 - val_categorical_accuracy: 0.6500\n",
      "\n",
      "Epoch 00017: saving model to model_init_2021-02-0810_45_39.832185/model-00017-0.78309-0.71051-0.76865-0.65000.h5\n",
      "Epoch 18/25\n",
      "32/34 [===========================>..] - ETA: 4s - loss: 0.7483 - categorical_accuracy: 0.7227WIN_20180925_17_43_11_Pro_Thumbs_Up_new;Thumbs_Up_new;4\n",
      "\n",
      "34/34 [==============================] - 83s 2s/step - loss: 0.7819 - categorical_accuracy: 0.7101 - val_loss: 0.7639 - val_categorical_accuracy: 0.6800\n",
      "\n",
      "Epoch 00018: saving model to model_init_2021-02-0810_45_39.832185/model-00018-0.75293-0.72033-0.76392-0.68000.h5\n",
      "Epoch 19/25\n",
      "32/34 [===========================>..] - ETA: 4s - loss: 0.7602 - categorical_accuracy: 0.7125WIN_20180926_17_05_38_Pro_Thumbs_Up_new;Thumbs_Up_new;4\n",
      "\n",
      "34/34 [==============================] - 81s 2s/step - loss: 0.7705 - categorical_accuracy: 0.7101 - val_loss: 0.7982 - val_categorical_accuracy: 0.6500\n",
      "\n",
      "Epoch 00019: saving model to model_init_2021-02-0810_45_39.832185/model-00019-0.75980-0.71126-0.79821-0.65000.h5\n",
      "Epoch 20/25\n",
      "32/34 [===========================>..] - ETA: 4s - loss: 0.7471 - categorical_accuracy: 0.7141WIN_20180925_17_18_28_Pro_Left_Swipe_new;Left_Swipe_new;0\n",
      "\n",
      "34/34 [==============================] - 82s 2s/step - loss: 0.8286 - categorical_accuracy: 0.6947 - val_loss: 0.8103 - val_categorical_accuracy: 0.6400\n",
      "\n",
      "Epoch 00020: saving model to model_init_2021-02-0810_45_39.832185/model-00020-0.74972-0.71353-0.81028-0.64000.h5\n",
      "Epoch 21/25\n",
      "32/34 [===========================>..] - ETA: 4s - loss: 0.7089 - categorical_accuracy: 0.7250WIN_20180925_17_37_14_Pro_Stop_new;Stop_new;2\n",
      "\n",
      "34/34 [==============================] - 81s 2s/step - loss: 0.7596 - categorical_accuracy: 0.7050 - val_loss: 0.7942 - val_categorical_accuracy: 0.6600\n",
      "\n",
      "Epoch 00021: saving model to model_init_2021-02-0810_45_39.832185/model-00021-0.70962-0.72411-0.79423-0.66000.h5\n",
      "Epoch 22/25\n",
      "32/34 [===========================>..] - ETA: 4s - loss: 0.7144 - categorical_accuracy: 0.7500WIN_20180907_16_18_59_Pro_Stop Gesture_new;Stop Gesture_new;2\n",
      "\n",
      "34/34 [==============================] - 81s 2s/step - loss: 0.7354 - categorical_accuracy: 0.7300 - val_loss: 0.8192 - val_categorical_accuracy: 0.6300\n",
      "\n",
      "Epoch 00022: saving model to model_init_2021-02-0810_45_39.832185/model-00022-0.71069-0.74981-0.81916-0.63000.h5\n",
      "\n",
      "Epoch 00022: ReduceLROnPlateau reducing learning rate to 7.999999797903002e-06.\n",
      "Epoch 23/25\n",
      "32/34 [===========================>..] - ETA: 4s - loss: 0.6928 - categorical_accuracy: 0.7313WIN_20180907_16_42_19_Pro_Left Swipe_new_Left Swipe_new;Left Swipe_new_Left Swipe_new;0\n",
      "\n",
      "34/34 [==============================] - 81s 2s/step - loss: 0.8310 - categorical_accuracy: 0.7116 - val_loss: 0.7988 - val_categorical_accuracy: 0.6400\n",
      "\n",
      "Epoch 00023: saving model to model_init_2021-02-0810_45_39.832185/model-00023-0.69994-0.73091-0.79877-0.64000.h5\n",
      "Epoch 24/25\n",
      "32/34 [===========================>..] - ETA: 5s - loss: 0.7408 - categorical_accuracy: 0.7219WIN_20180907_16_07_50_Pro_Thumbs Down_new;Thumbs Down_new;3\n",
      "\n",
      "34/34 [==============================] - 87s 3s/step - loss: 0.8513 - categorical_accuracy: 0.6998 - val_loss: 0.7847 - val_categorical_accuracy: 0.6400\n",
      "\n",
      "Epoch 00024: saving model to model_init_2021-02-0810_45_39.832185/model-00024-0.75017-0.71882-0.78474-0.64000.h5\n",
      "Epoch 25/25\n",
      "32/34 [===========================>..] - ETA: 5s - loss: 0.7044 - categorical_accuracy: 0.7297WIN_20180926_17_11_17_Pro_Stop_new;Stop_new;2\n",
      "\n",
      "34/34 [==============================] - 86s 3s/step - loss: 0.8046 - categorical_accuracy: 0.7160 - val_loss: 0.7721 - val_categorical_accuracy: 0.6300\n",
      "\n",
      "Epoch 00025: saving model to model_init_2021-02-0810_45_39.832185/model-00025-0.71666-0.72638-0.77206-0.63000.h5\n"
     ]
    }
   ],
   "source": [
    "mdz=model.fit_generator(train_generator, steps_per_epoch=steps_per_epoch, epochs=25, verbose=1, \n",
    "                    callbacks=callbacks_list, validation_data=val_generator, \n",
    "                    validation_steps=validation_steps, class_weight=None, workers=1, initial_epoch=0)"
   ]
  },
  {
   "cell_type": "markdown",
   "metadata": {},
   "source": [
    "#### The validation accuracy = 63% and training accuracy is 72% for the above model."
   ]
  },
  {
   "cell_type": "markdown",
   "metadata": {},
   "source": [
    "#### This model doesn't have any augmentations done on its input and it seems to be over-fitting."
   ]
  },
  {
   "cell_type": "markdown",
   "metadata": {},
   "source": [
    "#### For our next experiment we will use the same model with augmentation enabled."
   ]
  },
  {
   "cell_type": "code",
   "execution_count": 27,
   "metadata": {},
   "outputs": [],
   "source": [
    "### Model 3"
   ]
  },
  {
   "cell_type": "code",
   "execution_count": 52,
   "metadata": {},
   "outputs": [],
   "source": [
    "image_height=120\n",
    "image_width=120\n",
    "image_frames=[0,3,5,6,7,8,9,10,11,12,13,14,15,16,17,18,19,20,21,22,23,24,25,27,29]\n",
    "batch_size=20\n",
    "train_generator = generator(train_path, train_doc, batch_size,image_height, image_width, image_frames,aug=True)\n",
    "val_generator = generator(val_path, val_doc, batch_size,image_height, image_width, image_frames)"
   ]
  },
  {
   "cell_type": "code",
   "execution_count": 53,
   "metadata": {},
   "outputs": [],
   "source": [
    "model=define_model(25,120,120)"
   ]
  },
  {
   "cell_type": "code",
   "execution_count": 54,
   "metadata": {},
   "outputs": [],
   "source": [
    "if (num_train_sequences%batch_size) == 0:\n",
    "    steps_per_epoch = int(num_train_sequences/batch_size)\n",
    "else:\n",
    "    steps_per_epoch = (num_train_sequences//batch_size) + 1\n",
    "\n",
    "if (num_val_sequences%batch_size) == 0:\n",
    "    validation_steps = int(num_val_sequences/batch_size)\n",
    "else:\n",
    "    validation_steps = (num_val_sequences//batch_size) + 1"
   ]
  },
  {
   "cell_type": "code",
   "execution_count": 55,
   "metadata": {},
   "outputs": [
    {
     "name": "stdout",
     "output_type": "stream",
     "text": [
      "_________________________________________________________________\n",
      "Layer (type)                 Output Shape              Param #   \n",
      "=================================================================\n",
      "conv3d_25 (Conv3D)           (None, 25, 120, 120, 16)  1312      \n",
      "_________________________________________________________________\n",
      "activation_25 (Activation)   (None, 25, 120, 120, 16)  0         \n",
      "_________________________________________________________________\n",
      "batch_normalization_37 (Batc (None, 25, 120, 120, 16)  64        \n",
      "_________________________________________________________________\n",
      "max_pooling3d_25 (MaxPooling (None, 12, 60, 60, 16)    0         \n",
      "_________________________________________________________________\n",
      "conv3d_26 (Conv3D)           (None, 12, 60, 60, 32)    4128      \n",
      "_________________________________________________________________\n",
      "activation_26 (Activation)   (None, 12, 60, 60, 32)    0         \n",
      "_________________________________________________________________\n",
      "batch_normalization_38 (Batc (None, 12, 60, 60, 32)    128       \n",
      "_________________________________________________________________\n",
      "max_pooling3d_26 (MaxPooling (None, 6, 30, 30, 32)     0         \n",
      "_________________________________________________________________\n",
      "conv3d_27 (Conv3D)           (None, 6, 30, 30, 64)     16448     \n",
      "_________________________________________________________________\n",
      "activation_27 (Activation)   (None, 6, 30, 30, 64)     0         \n",
      "_________________________________________________________________\n",
      "batch_normalization_39 (Batc (None, 6, 30, 30, 64)     256       \n",
      "_________________________________________________________________\n",
      "max_pooling3d_27 (MaxPooling (None, 3, 15, 15, 64)     0         \n",
      "_________________________________________________________________\n",
      "conv3d_28 (Conv3D)           (None, 3, 15, 15, 128)    65664     \n",
      "_________________________________________________________________\n",
      "activation_28 (Activation)   (None, 3, 15, 15, 128)    0         \n",
      "_________________________________________________________________\n",
      "batch_normalization_40 (Batc (None, 3, 15, 15, 128)    512       \n",
      "_________________________________________________________________\n",
      "max_pooling3d_28 (MaxPooling (None, 1, 7, 7, 128)      0         \n",
      "_________________________________________________________________\n",
      "flatten_7 (Flatten)          (None, 6272)              0         \n",
      "_________________________________________________________________\n",
      "dense_19 (Dense)             (None, 128)               802944    \n",
      "_________________________________________________________________\n",
      "batch_normalization_41 (Batc (None, 128)               512       \n",
      "_________________________________________________________________\n",
      "dropout_13 (Dropout)         (None, 128)               0         \n",
      "_________________________________________________________________\n",
      "dense_20 (Dense)             (None, 64)                8256      \n",
      "_________________________________________________________________\n",
      "batch_normalization_42 (Batc (None, 64)                256       \n",
      "_________________________________________________________________\n",
      "dropout_14 (Dropout)         (None, 64)                0         \n",
      "_________________________________________________________________\n",
      "dense_21 (Dense)             (None, 5)                 325       \n",
      "=================================================================\n",
      "Total params: 900,805\n",
      "Trainable params: 899,941\n",
      "Non-trainable params: 864\n",
      "_________________________________________________________________\n"
     ]
    }
   ],
   "source": [
    "model.summary()"
   ]
  },
  {
   "cell_type": "code",
   "execution_count": 56,
   "metadata": {},
   "outputs": [
    {
     "name": "stdout",
     "output_type": "stream",
     "text": [
      "Source path =  Project_data/val ; batch size = 20\n",
      "Source path =  Project_data/train ; batch size =Epoch 1/3\n",
      " 20\n"
     ]
    },
    {
     "name": "stderr",
     "output_type": "stream",
     "text": [
      "/mnt/disks/user/anaconda3/lib/python3.6/site-packages/ipykernel_launcher.py:29: DeprecationWarning: `imread` is deprecated!\n",
      "`imread` is deprecated in SciPy 1.0.0, and will be removed in 1.2.0.\n",
      "Use ``imageio.imread`` instead.\n",
      "/mnt/disks/user/anaconda3/lib/python3.6/site-packages/ipykernel_launcher.py:33: DeprecationWarning: `imresize` is deprecated!\n",
      "`imresize` is deprecated in SciPy 1.0.0, and will be removed in 1.2.0.\n",
      "Use ``skimage.transform.resize`` instead.\n"
     ]
    },
    {
     "name": "stdout",
     "output_type": "stream",
     "text": [
      "32/34 [===========================>..] - ETA: 5s - loss: 1.6743 - categorical_accuracy: 0.3992WIN_20180926_17_20_41_Pro_Stop_new;Stop_new;2\n",
      "\n"
     ]
    },
    {
     "name": "stderr",
     "output_type": "stream",
     "text": [
      "/mnt/disks/user/anaconda3/lib/python3.6/site-packages/ipykernel_launcher.py:125: DeprecationWarning: `imread` is deprecated!\n",
      "`imread` is deprecated in SciPy 1.0.0, and will be removed in 1.2.0.\n",
      "Use ``imageio.imread`` instead.\n",
      "/mnt/disks/user/anaconda3/lib/python3.6/site-packages/ipykernel_launcher.py:129: DeprecationWarning: `imresize` is deprecated!\n",
      "`imresize` is deprecated in SciPy 1.0.0, and will be removed in 1.2.0.\n",
      "Use ``skimage.transform.resize`` instead.\n"
     ]
    },
    {
     "name": "stdout",
     "output_type": "stream",
     "text": [
      "34/34 [==============================] - 95s 3s/step - loss: 1.7007 - categorical_accuracy: 0.3856 - val_loss: 2.2860 - val_categorical_accuracy: 0.3300\n",
      "\n",
      "Epoch 00001: saving model to model_init_2021-02-0812_36_52.539199/model-00001-1.67300-0.39607-2.28605-0.33000.h5\n",
      "Epoch 2/3\n",
      "32/34 [===========================>..] - ETA: 5s - loss: 1.2374 - categorical_accuracy: 0.5211WIN_20180907_16_42_19_Pro_Left Swipe_new_Left Swipe_new;Left Swipe_new_Left Swipe_new;0\n",
      "\n",
      "34/34 [==============================] - 84s 2s/step - loss: 1.2106 - categorical_accuracy: 0.5371 - val_loss: 0.8829 - val_categorical_accuracy: 0.6700\n",
      "\n",
      "Epoch 00002: saving model to model_init_2021-02-0812_36_52.539199/model-00002-1.22867-0.52457-0.88289-0.67000.h5\n",
      "Epoch 3/3\n",
      "32/34 [===========================>..] - ETA: 5s - loss: 1.0623 - categorical_accuracy: 0.5898WIN_20180926_17_28_52_Pro_Right_Swipe_new;Right_Swipe_new;1\n",
      "\n",
      "34/34 [==============================] - 89s 3s/step - loss: 1.1122 - categorical_accuracy: 0.5740 - val_loss: 0.8708 - val_categorical_accuracy: 0.6400\n",
      "\n",
      "Epoch 00003: saving model to model_init_2021-02-0812_36_52.539199/model-00003-1.06391-0.58957-0.87080-0.64000.h5\n"
     ]
    }
   ],
   "source": [
    "md1=model.fit_generator(train_generator, steps_per_epoch=steps_per_epoch, epochs=3, verbose=1, \n",
    "                    callbacks=callbacks_list, validation_data=val_generator, \n",
    "                    validation_steps=validation_steps, class_weight=None, workers=1, initial_epoch=0)"
   ]
  },
  {
   "cell_type": "code",
   "execution_count": 57,
   "metadata": {
    "scrolled": true
   },
   "outputs": [
    {
     "data": {
      "image/png": "[encoded data removed]",
      "text/plain": [
       "<Figure size 1080x288 with 2 Axes>"
      ]
     },
     "metadata": {},
     "output_type": "display_data"
    }
   ],
   "source": [
    "plot(md1)"
   ]
  },
  {
   "cell_type": "markdown",
   "metadata": {},
   "source": [
    "#### The following model was run for a lesser number of epochs.But, the validation and training accuracy seems to be promising."
   ]
  },
  {
   "cell_type": "markdown",
   "metadata": {},
   "source": [
    "### Changing number of frames and increasing resolution"
   ]
  },
  {
   "cell_type": "code",
   "execution_count": null,
   "metadata": {},
   "outputs": [],
   "source": [
    "####model 4"
   ]
  },
  {
   "cell_type": "code",
   "execution_count": 58,
   "metadata": {},
   "outputs": [],
   "source": [
    "image_height=130\n",
    "image_width=130\n",
    "image_frames=[int(round(i)) for i in np.arange(1,29,1.5)]\n",
    "batch_size=20\n",
    "train_generator = generator(train_path, train_doc, batch_size,image_height, image_width, image_frames,aug=True)\n",
    "val_generator = generator(val_path, val_doc, batch_size,image_height, image_width, image_frames)"
   ]
  },
  {
   "cell_type": "code",
   "execution_count": 59,
   "metadata": {},
   "outputs": [],
   "source": [
    "model=define_model(19,130,130)"
   ]
  },
  {
   "cell_type": "code",
   "execution_count": 60,
   "metadata": {},
   "outputs": [],
   "source": [
    "if (num_train_sequences%batch_size) == 0:\n",
    "    steps_per_epoch = int(num_train_sequences/batch_size)\n",
    "else:\n",
    "    steps_per_epoch = (num_train_sequences//batch_size) + 1\n",
    "\n",
    "if (num_val_sequences%batch_size) == 0:\n",
    "    validation_steps = int(num_val_sequences/batch_size)\n",
    "else:\n",
    "    validation_steps = (num_val_sequences//batch_size) + 1"
   ]
  },
  {
   "cell_type": "code",
   "execution_count": 62,
   "metadata": {},
   "outputs": [
    {
     "name": "stdout",
     "output_type": "stream",
     "text": [
      "_________________________________________________________________\n",
      "Layer (type)                 Output Shape              Param #   \n",
      "=================================================================\n",
      "conv3d_29 (Conv3D)           (None, 19, 130, 130, 16)  1312      \n",
      "_________________________________________________________________\n",
      "activation_29 (Activation)   (None, 19, 130, 130, 16)  0         \n",
      "_________________________________________________________________\n",
      "batch_normalization_43 (Batc (None, 19, 130, 130, 16)  64        \n",
      "_________________________________________________________________\n",
      "max_pooling3d_29 (MaxPooling (None, 9, 65, 65, 16)     0         \n",
      "_________________________________________________________________\n",
      "conv3d_30 (Conv3D)           (None, 9, 65, 65, 32)     4128      \n",
      "_________________________________________________________________\n",
      "activation_30 (Activation)   (None, 9, 65, 65, 32)     0         \n",
      "_________________________________________________________________\n",
      "batch_normalization_44 (Batc (None, 9, 65, 65, 32)     128       \n",
      "_________________________________________________________________\n",
      "max_pooling3d_30 (MaxPooling (None, 4, 32, 32, 32)     0         \n",
      "_________________________________________________________________\n",
      "conv3d_31 (Conv3D)           (None, 4, 32, 32, 64)     16448     \n",
      "_________________________________________________________________\n",
      "activation_31 (Activation)   (None, 4, 32, 32, 64)     0         \n",
      "_________________________________________________________________\n",
      "batch_normalization_45 (Batc (None, 4, 32, 32, 64)     256       \n",
      "_________________________________________________________________\n",
      "max_pooling3d_31 (MaxPooling (None, 2, 16, 16, 64)     0         \n",
      "_________________________________________________________________\n",
      "conv3d_32 (Conv3D)           (None, 2, 16, 16, 128)    65664     \n",
      "_________________________________________________________________\n",
      "activation_32 (Activation)   (None, 2, 16, 16, 128)    0         \n",
      "_________________________________________________________________\n",
      "batch_normalization_46 (Batc (None, 2, 16, 16, 128)    512       \n",
      "_________________________________________________________________\n",
      "max_pooling3d_32 (MaxPooling (None, 1, 8, 8, 128)      0         \n",
      "_________________________________________________________________\n",
      "flatten_8 (Flatten)          (None, 8192)              0         \n",
      "_________________________________________________________________\n",
      "dense_22 (Dense)             (None, 128)               1048704   \n",
      "_________________________________________________________________\n",
      "batch_normalization_47 (Batc (None, 128)               512       \n",
      "_________________________________________________________________\n",
      "dropout_15 (Dropout)         (None, 128)               0         \n",
      "_________________________________________________________________\n",
      "dense_23 (Dense)             (None, 64)                8256      \n",
      "_________________________________________________________________\n",
      "batch_normalization_48 (Batc (None, 64)                256       \n",
      "_________________________________________________________________\n",
      "dropout_16 (Dropout)         (None, 64)                0         \n",
      "_________________________________________________________________\n",
      "dense_24 (Dense)             (None, 5)                 325       \n",
      "=================================================================\n",
      "Total params: 1,146,565\n",
      "Trainable params: 1,145,701\n",
      "Non-trainable params: 864\n",
      "_________________________________________________________________\n"
     ]
    }
   ],
   "source": [
    "model.summary()"
   ]
  },
  {
   "cell_type": "code",
   "execution_count": 61,
   "metadata": {
    "scrolled": true
   },
   "outputs": [
    {
     "name": "stdout",
     "output_type": "stream",
     "text": [
      "Source path =  Project_data/val ; batch size = 20\n",
      "Source path =  Project_data/train ; batch size = 20Epoch 1/3\n",
      "\n"
     ]
    },
    {
     "name": "stderr",
     "output_type": "stream",
     "text": [
      "/mnt/disks/user/anaconda3/lib/python3.6/site-packages/ipykernel_launcher.py:29: DeprecationWarning: `imread` is deprecated!\n",
      "`imread` is deprecated in SciPy 1.0.0, and will be removed in 1.2.0.\n",
      "Use ``imageio.imread`` instead.\n",
      "/mnt/disks/user/anaconda3/lib/python3.6/site-packages/ipykernel_launcher.py:33: DeprecationWarning: `imresize` is deprecated!\n",
      "`imresize` is deprecated in SciPy 1.0.0, and will be removed in 1.2.0.\n",
      "Use ``skimage.transform.resize`` instead.\n"
     ]
    },
    {
     "name": "stdout",
     "output_type": "stream",
     "text": [
      "32/34 [===========================>..] - ETA: 4s - loss: 1.6353 - categorical_accuracy: 0.4141WIN_20180907_16_06_43_Pro_Stop Gesture_new;Stop Gesture_new;2\n",
      "\n"
     ]
    },
    {
     "name": "stderr",
     "output_type": "stream",
     "text": [
      "/mnt/disks/user/anaconda3/lib/python3.6/site-packages/ipykernel_launcher.py:125: DeprecationWarning: `imread` is deprecated!\n",
      "`imread` is deprecated in SciPy 1.0.0, and will be removed in 1.2.0.\n",
      "Use ``imageio.imread`` instead.\n",
      "/mnt/disks/user/anaconda3/lib/python3.6/site-packages/ipykernel_launcher.py:129: DeprecationWarning: `imresize` is deprecated!\n",
      "`imresize` is deprecated in SciPy 1.0.0, and will be removed in 1.2.0.\n",
      "Use ``skimage.transform.resize`` instead.\n"
     ]
    },
    {
     "name": "stdout",
     "output_type": "stream",
     "text": [
      "34/34 [==============================] - 79s 2s/step - loss: 1.6756 - categorical_accuracy: 0.4128 - val_loss: 1.7996 - val_categorical_accuracy: 0.4200\n",
      "\n",
      "Epoch 00001: saving model to model_init_2021-02-0812_36_52.539199/model-00001-1.62826-0.41497-1.79961-0.42000.h5\n",
      "Epoch 2/3\n",
      "32/34 [===========================>..] - ETA: 4s - loss: 1.1675 - categorical_accuracy: 0.5594WIN_20180926_17_19_35_Pro_Right_Swipe_new;Right_Swipe_new;1\n",
      "\n",
      "34/34 [==============================] - 70s 2s/step - loss: 1.2447 - categorical_accuracy: 0.5431 - val_loss: 1.0359 - val_categorical_accuracy: 0.5800\n",
      "\n",
      "Epoch 00002: saving model to model_init_2021-02-0812_36_52.539199/model-00002-1.17179-0.55782-1.03592-0.58000.h5\n",
      "Epoch 3/3\n",
      "32/34 [===========================>..] - ETA: 4s - loss: 1.0425 - categorical_accuracy: 0.5922WIN_20180925_17_27_22_Pro_Thumbs_Up_new;Thumbs_Up_new;4\n",
      "\n",
      "34/34 [==============================] - 74s 2s/step - loss: 1.0434 - categorical_accuracy: 0.5857 - val_loss: 0.7801 - val_categorical_accuracy: 0.6800\n",
      "\n",
      "Epoch 00003: saving model to model_init_2021-02-0812_36_52.539199/model-00003-1.04126-0.59259-0.78009-0.68000.h5\n"
     ]
    },
    {
     "data": {
      "text/plain": [
       "<keras.callbacks.History at 0x7f47c1b01828>"
      ]
     },
     "execution_count": 61,
     "metadata": {},
     "output_type": "execute_result"
    }
   ],
   "source": [
    "model.fit_generator(train_generator, steps_per_epoch=steps_per_epoch, epochs=3, verbose=1, \n",
    "                    callbacks=callbacks_list, validation_data=val_generator, \n",
    "                    validation_steps=validation_steps, class_weight=None, workers=1, initial_epoch=0)"
   ]
  },
  {
   "cell_type": "code",
   "execution_count": null,
   "metadata": {},
   "outputs": [],
   "source": []
  },
  {
   "cell_type": "markdown",
   "metadata": {},
   "source": [
    "## Adding More Layers, Without Augmentation"
   ]
  },
  {
   "cell_type": "code",
   "execution_count": 84,
   "metadata": {},
   "outputs": [],
   "source": [
    "###model7"
   ]
  },
  {
   "cell_type": "code",
   "execution_count": 79,
   "metadata": {},
   "outputs": [],
   "source": [
    "def define_model(frames_to_sample,image_height,image_width):\n",
    "        filtersize=(3,3,3)\n",
    "        dense_neurons=64\n",
    "        dropout=0.25\n",
    "        \n",
    "        model = Sequential()\n",
    "        model.add(Conv3D(16, filtersize, padding='same',\n",
    "                 input_shape=(frames_to_sample,image_height,image_width,3)))\n",
    "        model.add(Activation('relu'))\n",
    "        model.add(BatchNormalization())\n",
    "        \n",
    "        model.add(Conv3D(16, filtersize, padding='same',\n",
    "                 input_shape=(frames_to_sample,image_height,image_width,3)))\n",
    "        model.add(Activation('relu'))\n",
    "        model.add(BatchNormalization())\n",
    "        \n",
    "        model.add(MaxPooling3D(pool_size=(2, 2, 2)))\n",
    "\n",
    "        model.add(Conv3D(32, filtersize, padding='same'))\n",
    "        model.add(Activation('relu'))\n",
    "        model.add(BatchNormalization())\n",
    "        \n",
    "        model.add(Conv3D(32, filtersize, padding='same'))\n",
    "        model.add(Activation('relu'))\n",
    "        model.add(BatchNormalization())\n",
    "        \n",
    "        model.add(MaxPooling3D(pool_size=(2, 2, 2)))\n",
    "\n",
    "        model.add(Conv3D(64, filtersize, padding='same'))\n",
    "        model.add(Activation('relu'))\n",
    "        model.add(BatchNormalization())\n",
    "        \n",
    "        model.add(Conv3D(64, filtersize, padding='same'))\n",
    "        model.add(Activation('relu'))\n",
    "        model.add(BatchNormalization())\n",
    "        \n",
    "        model.add(MaxPooling3D(pool_size=(2, 2, 2)))\n",
    "\n",
    "        model.add(Conv3D(128, filtersize, padding='same'))\n",
    "        model.add(Activation('relu'))\n",
    "        model.add(BatchNormalization())\n",
    "        \n",
    "        model.add(Conv3D(128, filtersize, padding='same'))\n",
    "        model.add(Activation('relu'))\n",
    "        model.add(BatchNormalization())\n",
    "        \n",
    "        model.add(MaxPooling3D(pool_size=(2, 2, 2)))\n",
    "        \n",
    "\n",
    "        model.add(Flatten())\n",
    "        model.add(Dense(dense_neurons,activation='relu'))\n",
    "        model.add(BatchNormalization())\n",
    "        model.add(Dropout(.5))\n",
    "\n",
    "        model.add(Dense(dense_neurons,activation='relu'))\n",
    "        model.add(BatchNormalization())\n",
    "        model.add(Dropout(dropout))\n",
    "\n",
    "\n",
    "        model.add(Dense(5,activation='softmax'))\n",
    "\n",
    "        optimiser = optimizers.Adam()\n",
    "        model.compile(optimizer=optimiser, loss='categorical_crossentropy', metrics=['categorical_accuracy'])\n",
    "        return model"
   ]
  },
  {
   "cell_type": "code",
   "execution_count": 80,
   "metadata": {},
   "outputs": [],
   "source": [
    "image_height=100\n",
    "image_width=100\n",
    "image_frames=[0,3,5,6,7,8,9,10,11,12,13,14,15,16,17,18,19,20,21,22,23,24,25,27,29]\n",
    "batch_size=30\n",
    "train_generator = generator(train_path, train_doc, batch_size,image_height, image_width, image_frames)\n",
    "val_generator = generator(val_path, val_doc, batch_size,image_height, image_width, image_frames)"
   ]
  },
  {
   "cell_type": "code",
   "execution_count": 81,
   "metadata": {},
   "outputs": [],
   "source": [
    "model=define_model(25,100,100)"
   ]
  },
  {
   "cell_type": "code",
   "execution_count": 82,
   "metadata": {},
   "outputs": [
    {
     "name": "stdout",
     "output_type": "stream",
     "text": [
      "_________________________________________________________________\n",
      "Layer (type)                 Output Shape              Param #   \n",
      "=================================================================\n",
      "conv3d_45 (Conv3D)           (None, 25, 100, 100, 16)  1312      \n",
      "_________________________________________________________________\n",
      "activation_45 (Activation)   (None, 25, 100, 100, 16)  0         \n",
      "_________________________________________________________________\n",
      "batch_normalization_67 (Batc (None, 25, 100, 100, 16)  64        \n",
      "_________________________________________________________________\n",
      "conv3d_46 (Conv3D)           (None, 25, 100, 100, 16)  6928      \n",
      "_________________________________________________________________\n",
      "activation_46 (Activation)   (None, 25, 100, 100, 16)  0         \n",
      "_________________________________________________________________\n",
      "batch_normalization_68 (Batc (None, 25, 100, 100, 16)  64        \n",
      "_________________________________________________________________\n",
      "max_pooling3d_45 (MaxPooling (None, 12, 50, 50, 16)    0         \n",
      "_________________________________________________________________\n",
      "conv3d_47 (Conv3D)           (None, 12, 50, 50, 32)    13856     \n",
      "_________________________________________________________________\n",
      "activation_47 (Activation)   (None, 12, 50, 50, 32)    0         \n",
      "_________________________________________________________________\n",
      "batch_normalization_69 (Batc (None, 12, 50, 50, 32)    128       \n",
      "_________________________________________________________________\n",
      "conv3d_48 (Conv3D)           (None, 12, 50, 50, 32)    27680     \n",
      "_________________________________________________________________\n",
      "activation_48 (Activation)   (None, 12, 50, 50, 32)    0         \n",
      "_________________________________________________________________\n",
      "batch_normalization_70 (Batc (None, 12, 50, 50, 32)    128       \n",
      "_________________________________________________________________\n",
      "max_pooling3d_46 (MaxPooling (None, 6, 25, 25, 32)     0         \n",
      "_________________________________________________________________\n",
      "conv3d_49 (Conv3D)           (None, 6, 25, 25, 64)     55360     \n",
      "_________________________________________________________________\n",
      "activation_49 (Activation)   (None, 6, 25, 25, 64)     0         \n",
      "_________________________________________________________________\n",
      "batch_normalization_71 (Batc (None, 6, 25, 25, 64)     256       \n",
      "_________________________________________________________________\n",
      "conv3d_50 (Conv3D)           (None, 6, 25, 25, 64)     110656    \n",
      "_________________________________________________________________\n",
      "activation_50 (Activation)   (None, 6, 25, 25, 64)     0         \n",
      "_________________________________________________________________\n",
      "batch_normalization_72 (Batc (None, 6, 25, 25, 64)     256       \n",
      "_________________________________________________________________\n",
      "max_pooling3d_47 (MaxPooling (None, 3, 12, 12, 64)     0         \n",
      "_________________________________________________________________\n",
      "conv3d_51 (Conv3D)           (None, 3, 12, 12, 128)    221312    \n",
      "_________________________________________________________________\n",
      "activation_51 (Activation)   (None, 3, 12, 12, 128)    0         \n",
      "_________________________________________________________________\n",
      "batch_normalization_73 (Batc (None, 3, 12, 12, 128)    512       \n",
      "_________________________________________________________________\n",
      "conv3d_52 (Conv3D)           (None, 3, 12, 12, 128)    442496    \n",
      "_________________________________________________________________\n",
      "activation_52 (Activation)   (None, 3, 12, 12, 128)    0         \n",
      "_________________________________________________________________\n",
      "batch_normalization_74 (Batc (None, 3, 12, 12, 128)    512       \n",
      "_________________________________________________________________\n",
      "max_pooling3d_48 (MaxPooling (None, 1, 6, 6, 128)      0         \n",
      "_________________________________________________________________\n",
      "flatten_12 (Flatten)         (None, 4608)              0         \n",
      "_________________________________________________________________\n",
      "dense_34 (Dense)             (None, 64)                294976    \n",
      "_________________________________________________________________\n",
      "batch_normalization_75 (Batc (None, 64)                256       \n",
      "_________________________________________________________________\n",
      "dropout_23 (Dropout)         (None, 64)                0         \n",
      "_________________________________________________________________\n",
      "dense_35 (Dense)             (None, 64)                4160      \n",
      "_________________________________________________________________\n",
      "batch_normalization_76 (Batc (None, 64)                256       \n",
      "_________________________________________________________________\n",
      "dropout_24 (Dropout)         (None, 64)                0         \n",
      "_________________________________________________________________\n",
      "dense_36 (Dense)             (None, 5)                 325       \n",
      "=================================================================\n",
      "Total params: 1,181,493\n",
      "Trainable params: 1,180,277\n",
      "Non-trainable params: 1,216\n",
      "_________________________________________________________________\n"
     ]
    }
   ],
   "source": [
    "model.summary()"
   ]
  },
  {
   "cell_type": "code",
   "execution_count": 83,
   "metadata": {},
   "outputs": [],
   "source": [
    "if (num_train_sequences%batch_size) == 0:\n",
    "    steps_per_epoch = int(num_train_sequences/batch_size)\n",
    "else:\n",
    "    steps_per_epoch = (num_train_sequences//batch_size) + 1\n",
    "\n",
    "if (num_val_sequences%batch_size) == 0:\n",
    "    validation_steps = int(num_val_sequences/batch_size)\n",
    "else:\n",
    "    validation_steps = (num_val_sequences//batch_size) + 1"
   ]
  },
  {
   "cell_type": "code",
   "execution_count": 85,
   "metadata": {},
   "outputs": [
    {
     "name": "stdout",
     "output_type": "stream",
     "text": [
      "Source path =  Project_data/val ; batch size = 30\n",
      "Source path =  Project_data/train ; batch size = 30\n",
      "Epoch 1/3\n"
     ]
    },
    {
     "name": "stderr",
     "output_type": "stream",
     "text": [
      "/mnt/disks/user/anaconda3/lib/python3.6/site-packages/ipykernel_launcher.py:29: DeprecationWarning: `imread` is deprecated!\n",
      "`imread` is deprecated in SciPy 1.0.0, and will be removed in 1.2.0.\n",
      "Use ``imageio.imread`` instead.\n",
      "/mnt/disks/user/anaconda3/lib/python3.6/site-packages/ipykernel_launcher.py:33: DeprecationWarning: `imresize` is deprecated!\n",
      "`imresize` is deprecated in SciPy 1.0.0, and will be removed in 1.2.0.\n",
      "Use ``skimage.transform.resize`` instead.\n"
     ]
    },
    {
     "name": "stdout",
     "output_type": "stream",
     "text": [
      "WIN_20180926_17_05_38_Pro_Left_Swipe_new;Left_Swipe_new;0\n",
      "\n"
     ]
    },
    {
     "name": "stderr",
     "output_type": "stream",
     "text": [
      "/mnt/disks/user/anaconda3/lib/python3.6/site-packages/ipykernel_launcher.py:125: DeprecationWarning: `imread` is deprecated!\n",
      "`imread` is deprecated in SciPy 1.0.0, and will be removed in 1.2.0.\n",
      "Use ``imageio.imread`` instead.\n",
      "/mnt/disks/user/anaconda3/lib/python3.6/site-packages/ipykernel_launcher.py:129: DeprecationWarning: `imresize` is deprecated!\n",
      "`imresize` is deprecated in SciPy 1.0.0, and will be removed in 1.2.0.\n",
      "Use ``skimage.transform.resize`` instead.\n"
     ]
    },
    {
     "name": "stdout",
     "output_type": "stream",
     "text": [
      " 5/23 [=====>........................] - ETA: 1:41 - loss: 2.2602 - categorical_accuracy: 0.2600WIN_20180926_17_09_45_Pro_Thumbs_Down_new;Thumbs_Down_new;3\n",
      "\n",
      "21/23 [==========================>...] - ETA: 6s - loss: 1.8265 - categorical_accuracy: 0.3444 WIN_20180907_16_27_05_Pro_Right Swipe_new;Right Swipe_new;1\n",
      "\n",
      "23/23 [==============================] - 80s 3s/step - loss: 1.8295 - categorical_accuracy: 0.3508 - val_loss: 8.1907 - val_categorical_accuracy: 0.2200\n",
      "\n",
      "Epoch 00001: saving model to model_init_2021-02-0812_36_52.539199/model-00001-1.81743-0.35143-8.19071-0.22000.h5\n",
      "WIN_20180926_17_06_40_Pro_Thumbs_Up_new;Thumbs_Up_new;4\n",
      "\n",
      "Epoch 2/3\n",
      "21/23 [==========================>...] - ETA: 4s - loss: 1.3959 - categorical_accuracy: 0.4587WIN_20180926_18_09_50_Pro_Right_Swipe_new;Right_Swipe_new;1\n",
      "\n",
      "23/23 [==============================] - 53s 2s/step - loss: 1.3981 - categorical_accuracy: 0.4442 - val_loss: 8.0348 - val_categorical_accuracy: 0.2400\n",
      "\n",
      "Epoch 00002: saving model to model_init_2021-02-0812_36_52.539199/model-00002-1.37734-0.46154-8.03480-0.24000.h5\n",
      "Epoch 3/3\n",
      "WIN_20180926_17_32_40_Pro_Stop_new;Stop_new;2\n",
      "\n",
      "21/23 [==========================>...] - ETA: 5s - loss: 1.2441 - categorical_accuracy: 0.5095WIN_20180925_17_48_24_Pro_Left_Swipe_new;Left_Swipe_new;0\n",
      "\n",
      "23/23 [==============================] - 64s 3s/step - loss: 1.3502 - categorical_accuracy: 0.4907 - val_loss: 8.1744 - val_categorical_accuracy: 0.3100\n",
      "\n",
      "Epoch 00003: saving model to model_init_2021-02-0812_36_52.539199/model-00003-1.25624-0.50980-8.17444-0.31000.h5\n",
      "WIN_20180925_17_47_07_Pro_Thumbs_Up_new;Thumbs_Up_new;4\n",
      "\n"
     ]
    }
   ],
   "source": [
    "md7=model.fit_generator(train_generator, steps_per_epoch=steps_per_epoch, epochs=3, verbose=1, \n",
    "                    callbacks=callbacks_list, validation_data=val_generator, \n",
    "                    validation_steps=validation_steps, class_weight=None, workers=1, initial_epoch=0)"
   ]
  },
  {
   "cell_type": "code",
   "execution_count": 87,
   "metadata": {
    "scrolled": true
   },
   "outputs": [
    {
     "data": {
      "image/png": "[encoded data removed]",
      "text/plain": [
       "<Figure size 1080x288 with 2 Axes>"
      ]
     },
     "metadata": {},
     "output_type": "display_data"
    }
   ],
   "source": [
    "plot(md7)"
   ]
  },
  {
   "cell_type": "markdown",
   "metadata": {},
   "source": [
    "## Adding More Layers with augmentation enabled."
   ]
  },
  {
   "cell_type": "code",
   "execution_count": 62,
   "metadata": {},
   "outputs": [],
   "source": [
    "def define_model(frames_to_sample,image_height,image_width):\n",
    "        filtersize=(3,3,3)\n",
    "        dense_neurons=64\n",
    "        dropout=0.25\n",
    "        \n",
    "        model = Sequential()\n",
    "        model.add(Conv3D(16, filtersize, padding='same',\n",
    "                 input_shape=(frames_to_sample,image_height,image_width,3)))\n",
    "        model.add(Activation('relu'))\n",
    "        model.add(BatchNormalization())\n",
    "        \n",
    "        model.add(Conv3D(16, filtersize, padding='same',\n",
    "                 input_shape=(frames_to_sample,image_height,image_width,3)))\n",
    "        model.add(Activation('relu'))\n",
    "        model.add(BatchNormalization())\n",
    "        \n",
    "        model.add(MaxPooling3D(pool_size=(2, 2, 2)))\n",
    "\n",
    "        model.add(Conv3D(32, filtersize, padding='same'))\n",
    "        model.add(Activation('relu'))\n",
    "        model.add(BatchNormalization())\n",
    "        \n",
    "        model.add(Conv3D(32, filtersize, padding='same'))\n",
    "        model.add(Activation('relu'))\n",
    "        model.add(BatchNormalization())\n",
    "        \n",
    "        model.add(MaxPooling3D(pool_size=(2, 2, 2)))\n",
    "\n",
    "        model.add(Conv3D(64, filtersize, padding='same'))\n",
    "        model.add(Activation('relu'))\n",
    "        model.add(BatchNormalization())\n",
    "        \n",
    "        model.add(Conv3D(64, filtersize, padding='same'))\n",
    "        model.add(Activation('relu'))\n",
    "        model.add(BatchNormalization())\n",
    "        \n",
    "        model.add(MaxPooling3D(pool_size=(2, 2, 2)))\n",
    "\n",
    "        model.add(Conv3D(128, filtersize, padding='same'))\n",
    "        model.add(Activation('relu'))\n",
    "        model.add(BatchNormalization())\n",
    "        \n",
    "        model.add(Conv3D(128, filtersize, padding='same'))\n",
    "        model.add(Activation('relu'))\n",
    "        model.add(BatchNormalization())\n",
    "        \n",
    "        model.add(MaxPooling3D(pool_size=(2, 2, 2)))\n",
    "        \n",
    "\n",
    "        model.add(Flatten())\n",
    "        model.add(Dense(dense_neurons,activation='relu'))\n",
    "        model.add(BatchNormalization())\n",
    "        model.add(Dropout(.5))\n",
    "\n",
    "        model.add(Dense(dense_neurons,activation='relu'))\n",
    "        model.add(BatchNormalization())\n",
    "        model.add(Dropout(dropout))\n",
    "\n",
    "\n",
    "        model.add(Dense(5,activation='softmax'))\n",
    "\n",
    "        optimiser = optimizers.Adam()\n",
    "        model.compile(optimizer=optimiser, loss='categorical_crossentropy', metrics=['categorical_accuracy'])\n",
    "        return model"
   ]
  },
  {
   "cell_type": "code",
   "execution_count": 63,
   "metadata": {},
   "outputs": [],
   "source": [
    "image_height=100\n",
    "image_width=100\n",
    "image_frames=[0,3,5,6,7,8,9,10,11,12,13,14,15,16,17,18,19,20,21,22,23,24,25,27,29]\n",
    "batch_size=30\n",
    "train_generator = generator(train_path, train_doc, batch_size,image_height, image_width, image_frames,aug=True)\n",
    "val_generator = generator(val_path, val_doc, batch_size,image_height, image_width, image_frames)"
   ]
  },
  {
   "cell_type": "code",
   "execution_count": 64,
   "metadata": {},
   "outputs": [],
   "source": [
    "model=define_model(25,100,100)"
   ]
  },
  {
   "cell_type": "code",
   "execution_count": 65,
   "metadata": {},
   "outputs": [
    {
     "name": "stdout",
     "output_type": "stream",
     "text": [
      "_________________________________________________________________\n",
      "Layer (type)                 Output Shape              Param #   \n",
      "=================================================================\n",
      "conv3d_37 (Conv3D)           (None, 25, 100, 100, 16)  1312      \n",
      "_________________________________________________________________\n",
      "activation_37 (Activation)   (None, 25, 100, 100, 16)  0         \n",
      "_________________________________________________________________\n",
      "batch_normalization_55 (Batc (None, 25, 100, 100, 16)  64        \n",
      "_________________________________________________________________\n",
      "conv3d_38 (Conv3D)           (None, 25, 100, 100, 16)  6928      \n",
      "_________________________________________________________________\n",
      "activation_38 (Activation)   (None, 25, 100, 100, 16)  0         \n",
      "_________________________________________________________________\n",
      "batch_normalization_56 (Batc (None, 25, 100, 100, 16)  64        \n",
      "_________________________________________________________________\n",
      "max_pooling3d_37 (MaxPooling (None, 12, 50, 50, 16)    0         \n",
      "_________________________________________________________________\n",
      "conv3d_39 (Conv3D)           (None, 12, 50, 50, 32)    13856     \n",
      "_________________________________________________________________\n",
      "activation_39 (Activation)   (None, 12, 50, 50, 32)    0         \n",
      "_________________________________________________________________\n",
      "batch_normalization_57 (Batc (None, 12, 50, 50, 32)    128       \n",
      "_________________________________________________________________\n",
      "conv3d_40 (Conv3D)           (None, 12, 50, 50, 32)    27680     \n",
      "_________________________________________________________________\n",
      "activation_40 (Activation)   (None, 12, 50, 50, 32)    0         \n",
      "_________________________________________________________________\n",
      "batch_normalization_58 (Batc (None, 12, 50, 50, 32)    128       \n",
      "_________________________________________________________________\n",
      "max_pooling3d_38 (MaxPooling (None, 6, 25, 25, 32)     0         \n",
      "_________________________________________________________________\n",
      "conv3d_41 (Conv3D)           (None, 6, 25, 25, 64)     55360     \n",
      "_________________________________________________________________\n",
      "activation_41 (Activation)   (None, 6, 25, 25, 64)     0         \n",
      "_________________________________________________________________\n",
      "batch_normalization_59 (Batc (None, 6, 25, 25, 64)     256       \n",
      "_________________________________________________________________\n",
      "conv3d_42 (Conv3D)           (None, 6, 25, 25, 64)     110656    \n",
      "_________________________________________________________________\n",
      "activation_42 (Activation)   (None, 6, 25, 25, 64)     0         \n",
      "_________________________________________________________________\n",
      "batch_normalization_60 (Batc (None, 6, 25, 25, 64)     256       \n",
      "_________________________________________________________________\n",
      "max_pooling3d_39 (MaxPooling (None, 3, 12, 12, 64)     0         \n",
      "_________________________________________________________________\n",
      "conv3d_43 (Conv3D)           (None, 3, 12, 12, 128)    221312    \n",
      "_________________________________________________________________\n",
      "activation_43 (Activation)   (None, 3, 12, 12, 128)    0         \n",
      "_________________________________________________________________\n",
      "batch_normalization_61 (Batc (None, 3, 12, 12, 128)    512       \n",
      "_________________________________________________________________\n",
      "conv3d_44 (Conv3D)           (None, 3, 12, 12, 128)    442496    \n",
      "_________________________________________________________________\n",
      "activation_44 (Activation)   (None, 3, 12, 12, 128)    0         \n",
      "_________________________________________________________________\n",
      "batch_normalization_62 (Batc (None, 3, 12, 12, 128)    512       \n",
      "_________________________________________________________________\n",
      "max_pooling3d_40 (MaxPooling (None, 1, 6, 6, 128)      0         \n",
      "_________________________________________________________________\n",
      "flatten_10 (Flatten)         (None, 4608)              0         \n",
      "_________________________________________________________________\n",
      "dense_28 (Dense)             (None, 64)                294976    \n",
      "_________________________________________________________________\n",
      "batch_normalization_63 (Batc (None, 64)                256       \n",
      "_________________________________________________________________\n",
      "dropout_19 (Dropout)         (None, 64)                0         \n",
      "_________________________________________________________________\n",
      "dense_29 (Dense)             (None, 64)                4160      \n",
      "_________________________________________________________________\n",
      "batch_normalization_64 (Batc (None, 64)                256       \n",
      "_________________________________________________________________\n",
      "dropout_20 (Dropout)         (None, 64)                0         \n",
      "_________________________________________________________________\n",
      "dense_30 (Dense)             (None, 5)                 325       \n",
      "=================================================================\n",
      "Total params: 1,181,493\n",
      "Trainable params: 1,180,277\n",
      "Non-trainable params: 1,216\n",
      "_________________________________________________________________\n"
     ]
    }
   ],
   "source": [
    "model.summary()"
   ]
  },
  {
   "cell_type": "code",
   "execution_count": 57,
   "metadata": {},
   "outputs": [
    {
     "name": "stdout",
     "output_type": "stream",
     "text": [
      "Source path =  Project_data/val ; batch size = 30\n",
      "Source path =  Project_data/train ; batch size = 30\n",
      "Epoch 1/3\n"
     ]
    },
    {
     "name": "stderr",
     "output_type": "stream",
     "text": [
      "/mnt/disks/user/anaconda3/lib/python3.6/site-packages/ipykernel_launcher.py:29: DeprecationWarning: `imread` is deprecated!\n",
      "`imread` is deprecated in SciPy 1.0.0, and will be removed in 1.2.0.\n",
      "Use ``imageio.imread`` instead.\n",
      "/mnt/disks/user/anaconda3/lib/python3.6/site-packages/ipykernel_launcher.py:33: DeprecationWarning: `imresize` is deprecated!\n",
      "`imresize` is deprecated in SciPy 1.0.0, and will be removed in 1.2.0.\n",
      "Use ``skimage.transform.resize`` instead.\n"
     ]
    },
    {
     "name": "stdout",
     "output_type": "stream",
     "text": [
      " 2/34 [>.............................] - ETA: 2:57 - loss: 2.3655 - categorical_accuracy: 0.1667WIN_20180925_17_49_40_Pro_Stop_new;Stop_new;2\n",
      "\n"
     ]
    },
    {
     "name": "stderr",
     "output_type": "stream",
     "text": [
      "/mnt/disks/user/anaconda3/lib/python3.6/site-packages/ipykernel_launcher.py:125: DeprecationWarning: `imread` is deprecated!\n",
      "`imread` is deprecated in SciPy 1.0.0, and will be removed in 1.2.0.\n",
      "Use ``imageio.imread`` instead.\n",
      "/mnt/disks/user/anaconda3/lib/python3.6/site-packages/ipykernel_launcher.py:129: DeprecationWarning: `imresize` is deprecated!\n",
      "`imresize` is deprecated in SciPy 1.0.0, and will be removed in 1.2.0.\n",
      "Use ``skimage.transform.resize`` instead.\n"
     ]
    },
    {
     "name": "stdout",
     "output_type": "stream",
     "text": [
      " 5/34 [===>..........................] - ETA: 2:14 - loss: 2.1678 - categorical_accuracy: 0.2400WIN_20180907_16_29_12_Pro_Thumbs Down_new;Thumbs Down_new;3\n",
      "\n",
      "21/34 [=================>............] - ETA: 50s - loss: 1.9554 - categorical_accuracy: 0.2968WIN_20180926_17_13_59_Pro_Thumbs_Down_new;Thumbs_Down_new;3\n",
      "\n",
      "34/34 [==============================] - 126s 4s/step - loss: 1.7755 - categorical_accuracy: 0.3395 - val_loss: 1.4107 - val_categorical_accuracy: 0.4923\n",
      "\n",
      "Epoch 00001: saving model to model_init_2021-02-0815_01_47.572012/model-00001-1.77918-0.34897-1.41070-0.49231.h5\n",
      "WIN_20180907_15_43_36_Pro_Thumbs Up_new;Thumbs Up_new;4\n",
      "\n",
      "Epoch 2/3\n",
      "10/34 [=======>......................] - ETA: 1:20 - loss: 1.5266 - categorical_accuracy: 0.4083WIN_20180926_17_24_54_Pro_Thumbs_Down_new;Thumbs_Down_new;3\n",
      "\n",
      "33/34 [============================>.] - ETA: 3s - loss: 1.3889 - categorical_accuracy: 0.4813WIN_20180907_16_18_18_Pro_Right Swipe_new;Right Swipe_new;1\n",
      "\n",
      "WIN_20180926_17_09_45_Pro_Thumbs_Down_new;Thumbs_Down_new;3\n",
      "\n",
      "34/34 [==============================] - 113s 3s/step - loss: 1.3842 - categorical_accuracy: 0.4812 - val_loss: 1.2514 - val_categorical_accuracy: 0.5615\n",
      "\n",
      "Epoch 00002: saving model to model_init_2021-02-0815_01_47.572012/model-00002-1.36576-0.47605-1.25143-0.56154.h5\n",
      "Epoch 3/3\n",
      " 4/34 [==>...........................] - ETA: 1:28 - loss: 1.3593 - categorical_accuracy: 0.3833WIN_20180925_17_32_32_Pro_Stop_new;Stop_new;2\n",
      "\n",
      "22/34 [==================>...........] - ETA: 39s - loss: 1.2202 - categorical_accuracy: 0.4894WIN_20180926_16_39_58_Pro_Thumbs_Down_new;Thumbs_Down_new;3\n",
      "\n",
      "34/34 [==============================] - 112s 3s/step - loss: 1.1793 - categorical_accuracy: 0.5224 - val_loss: 1.0248 - val_categorical_accuracy: 0.6923\n",
      "\n",
      "Epoch 00003: saving model to model_init_2021-02-0815_01_47.572012/model-00003-1.16641-0.53323-1.02480-0.69231.h5\n"
     ]
    }
   ],
   "source": [
    "md12=model.fit_generator(train_generator, steps_per_epoch=steps_per_epoch, epochs=3, verbose=1, \n",
    "                    callbacks=callbacks_list, validation_data=val_generator, \n",
    "                    validation_steps=validation_steps, class_weight=None, workers=1, initial_epoch=0)"
   ]
  },
  {
   "cell_type": "markdown",
   "metadata": {},
   "source": [
    "#### Based on our initial experiments we can draw the following inferences :-\n",
    "<ul>\n",
    "    <li>Model with augmentations seems to perform better performance eventhough the memory footprint remains the same</li>\n",
    "    <li>There doessn't seem to be any benefit in increasing the number of layers for this problem statement</li>\n",
    "</ul>"
   ]
  },
  {
   "cell_type": "markdown",
   "metadata": {},
   "source": [
    "### Using our old model without any added layers and a few architectural changes."
   ]
  },
  {
   "cell_type": "code",
   "execution_count": 40,
   "metadata": {},
   "outputs": [],
   "source": [
    "def define_model(frames_to_sample,image_height,image_width):\n",
    "        \n",
    "        \n",
    "        dropout=0.25\n",
    "        dense_neurons=64\n",
    "        \n",
    "        \n",
    "        model = Sequential()\n",
    "        model.add(Conv3D(8, (3, 3, 3), padding='same',\n",
    "                 input_shape=(frames_to_sample,image_height,image_width,3)))\n",
    "        model.add(Activation('relu'))\n",
    "        model.add(BatchNormalization())\n",
    "        model.add(MaxPooling3D(pool_size=(2, 2, 2)))\n",
    "\n",
    "        model.add(Conv3D(16, (3, 3, 3), padding='same'))\n",
    "        model.add(Activation('relu'))\n",
    "        model.add(BatchNormalization())\n",
    "        model.add(MaxPooling3D(pool_size=(2, 2, 2)))\n",
    "\n",
    "        model.add(Conv3D(32, (2, 2, 2), padding='same'))\n",
    "        model.add(Activation('relu'))\n",
    "        model.add(BatchNormalization())\n",
    "        model.add(MaxPooling3D(pool_size=(2, 2, 2)))\n",
    "\n",
    "        model.add(Conv3D(64, (2, 2, 2), padding='same'))\n",
    "        model.add(Activation('relu'))\n",
    "        model.add(BatchNormalization())\n",
    "        model.add(MaxPooling3D(pool_size=(2, 2, 2)))\n",
    "        \n",
    "        model.add(Flatten())\n",
    "        model.add(Dense(dense_neurons,activation='relu'))\n",
    "        model.add(BatchNormalization())\n",
    "        model.add(Dropout(dropout))\n",
    "\n",
    "        model.add(Dense(dense_neurons,activation='relu'))\n",
    "        model.add(BatchNormalization())\n",
    "        model.add(Dropout(dropout))\n",
    "\n",
    "        model.add(Dense(5,activation='softmax'))\n",
    "\n",
    "        optimiser = optimizers.Adam(lr=0.0002)\n",
    "        model.compile(optimizer=optimiser, loss='categorical_crossentropy', metrics=['categorical_accuracy'])\n",
    "        return model"
   ]
  },
  {
   "cell_type": "code",
   "execution_count": 29,
   "metadata": {},
   "outputs": [],
   "source": [
    "image_height=120\n",
    "image_width=120\n",
    "image_frames=[0,3,5,6,7,8,9,10,11,12,13,14,15,16,17,18,19,20,21,22,23,24,25,27,29]\n",
    "batch_size=30\n",
    "train_generator = generator(train_path, train_doc, batch_size,image_height, image_width, image_frames,aug=True)\n",
    "val_generator = generator(val_path, val_doc, batch_size,image_height, image_width, image_frames)"
   ]
  },
  {
   "cell_type": "code",
   "execution_count": 30,
   "metadata": {},
   "outputs": [],
   "source": [
    "model=define_model(25,120,120)"
   ]
  },
  {
   "cell_type": "code",
   "execution_count": 31,
   "metadata": {},
   "outputs": [],
   "source": [
    "if (num_train_sequences%batch_size) == 0:\n",
    "    steps_per_epoch = int(num_train_sequences/batch_size)\n",
    "else:\n",
    "    steps_per_epoch = (num_train_sequences//batch_size) + 1\n",
    "\n",
    "if (num_val_sequences%batch_size) == 0:\n",
    "    validation_steps = int(num_val_sequences/batch_size)\n",
    "else:\n",
    "    validation_steps = (num_val_sequences//batch_size) + 1"
   ]
  },
  {
   "cell_type": "code",
   "execution_count": 32,
   "metadata": {
    "scrolled": true
   },
   "outputs": [
    {
     "name": "stdout",
     "output_type": "stream",
     "text": [
      "_________________________________________________________________\n",
      "Layer (type)                 Output Shape              Param #   \n",
      "=================================================================\n",
      "conv3d_9 (Conv3D)            (None, 25, 120, 120, 8)   656       \n",
      "_________________________________________________________________\n",
      "activation_9 (Activation)    (None, 25, 120, 120, 8)   0         \n",
      "_________________________________________________________________\n",
      "batch_normalization_13 (Batc (None, 25, 120, 120, 8)   32        \n",
      "_________________________________________________________________\n",
      "max_pooling3d_9 (MaxPooling3 (None, 12, 60, 60, 8)     0         \n",
      "_________________________________________________________________\n",
      "conv3d_10 (Conv3D)           (None, 12, 60, 60, 16)    3472      \n",
      "_________________________________________________________________\n",
      "activation_10 (Activation)   (None, 12, 60, 60, 16)    0         \n",
      "_________________________________________________________________\n",
      "batch_normalization_14 (Batc (None, 12, 60, 60, 16)    64        \n",
      "_________________________________________________________________\n",
      "max_pooling3d_10 (MaxPooling (None, 6, 30, 30, 16)     0         \n",
      "_________________________________________________________________\n",
      "conv3d_11 (Conv3D)           (None, 6, 30, 30, 32)     4128      \n",
      "_________________________________________________________________\n",
      "activation_11 (Activation)   (None, 6, 30, 30, 32)     0         \n",
      "_________________________________________________________________\n",
      "batch_normalization_15 (Batc (None, 6, 30, 30, 32)     128       \n",
      "_________________________________________________________________\n",
      "max_pooling3d_11 (MaxPooling (None, 3, 15, 15, 32)     0         \n",
      "_________________________________________________________________\n",
      "conv3d_12 (Conv3D)           (None, 3, 15, 15, 64)     16448     \n",
      "_________________________________________________________________\n",
      "activation_12 (Activation)   (None, 3, 15, 15, 64)     0         \n",
      "_________________________________________________________________\n",
      "batch_normalization_16 (Batc (None, 3, 15, 15, 64)     256       \n",
      "_________________________________________________________________\n",
      "max_pooling3d_12 (MaxPooling (None, 1, 7, 7, 64)       0         \n",
      "_________________________________________________________________\n",
      "flatten_3 (Flatten)          (None, 3136)              0         \n",
      "_________________________________________________________________\n",
      "dense_7 (Dense)              (None, 64)                200768    \n",
      "_________________________________________________________________\n",
      "batch_normalization_17 (Batc (None, 64)                256       \n",
      "_________________________________________________________________\n",
      "dropout_5 (Dropout)          (None, 64)                0         \n",
      "_________________________________________________________________\n",
      "dense_8 (Dense)              (None, 64)                4160      \n",
      "_________________________________________________________________\n",
      "batch_normalization_18 (Batc (None, 64)                256       \n",
      "_________________________________________________________________\n",
      "dropout_6 (Dropout)          (None, 64)                0         \n",
      "_________________________________________________________________\n",
      "dense_9 (Dense)              (None, 5)                 325       \n",
      "=================================================================\n",
      "Total params: 230,949\n",
      "Trainable params: 230,453\n",
      "Non-trainable params: 496\n",
      "_________________________________________________________________\n"
     ]
    }
   ],
   "source": [
    "model.summary()"
   ]
  },
  {
   "cell_type": "code",
   "execution_count": 33,
   "metadata": {},
   "outputs": [
    {
     "name": "stdout",
     "output_type": "stream",
     "text": [
      "Source path =  Project_data/val ; batch size = 30\n",
      "Source path =  Project_data/train ; batch size = 30\n",
      "Epoch 1/25\n"
     ]
    },
    {
     "name": "stderr",
     "output_type": "stream",
     "text": [
      "/mnt/disks/user/anaconda3/lib/python3.6/site-packages/ipykernel_launcher.py:29: DeprecationWarning: `imread` is deprecated!\n",
      "`imread` is deprecated in SciPy 1.0.0, and will be removed in 1.2.0.\n",
      "Use ``imageio.imread`` instead.\n",
      "/mnt/disks/user/anaconda3/lib/python3.6/site-packages/ipykernel_launcher.py:33: DeprecationWarning: `imresize` is deprecated!\n",
      "`imresize` is deprecated in SciPy 1.0.0, and will be removed in 1.2.0.\n",
      "Use ``skimage.transform.resize`` instead.\n"
     ]
    },
    {
     "name": "stdout",
     "output_type": "stream",
     "text": [
      " 3/23 [==>...........................] - ETA: 2:44 - loss: 2.5496 - categorical_accuracy: 0.1333WIN_20180926_17_24_12_Pro_Right_Swipe_new;Right_Swipe_new;1\n",
      "\n"
     ]
    },
    {
     "name": "stderr",
     "output_type": "stream",
     "text": [
      "/mnt/disks/user/anaconda3/lib/python3.6/site-packages/ipykernel_launcher.py:125: DeprecationWarning: `imread` is deprecated!\n",
      "`imread` is deprecated in SciPy 1.0.0, and will be removed in 1.2.0.\n",
      "Use ``imageio.imread`` instead.\n",
      "/mnt/disks/user/anaconda3/lib/python3.6/site-packages/ipykernel_launcher.py:129: DeprecationWarning: `imresize` is deprecated!\n",
      "`imresize` is deprecated in SciPy 1.0.0, and will be removed in 1.2.0.\n",
      "Use ``skimage.transform.resize`` instead.\n"
     ]
    },
    {
     "name": "stdout",
     "output_type": "stream",
     "text": [
      " 5/23 [=====>........................] - ETA: 2:33 - loss: 2.4533 - categorical_accuracy: 0.1700WIN_20180926_17_32_40_Pro_Stop_new;Stop_new;2\n",
      "\n",
      "21/23 [==========================>...] - ETA: 14s - loss: 2.0103 - categorical_accuracy: 0.2873WIN_20180907_15_49_56_Pro_Right Swipe_new;Right Swipe_new;1\n",
      "\n",
      "23/23 [==============================] - 168s 7s/step - loss: 2.0710 - categorical_accuracy: 0.2802 - val_loss: 1.5574 - val_categorical_accuracy: 0.3700\n",
      "\n",
      "Epoch 00001: saving model to model_init_2021-02-0810_45_39.832185/model-00001-2.00783-0.29176-1.55743-0.37000.h5\n",
      "Epoch 2/25\n",
      "WIN_20180907_16_02_09_Pro_Thumbs Down_new;Thumbs Down_new;3\n",
      "\n",
      "21/23 [==========================>...] - ETA: 7s - loss: 1.5104 - categorical_accuracy: 0.4103 WIN_20180926_17_43_07_Pro_Left_Swipe_new;Left_Swipe_new;0\n",
      "\n",
      "23/23 [==============================] - 89s 4s/step - loss: 1.5094 - categorical_accuracy: 0.3971 - val_loss: 1.4252 - val_categorical_accuracy: 0.4500\n",
      "\n",
      "Epoch 00002: saving model to model_init_2021-02-0810_45_39.832185/model-00002-1.49791-0.41345-1.42520-0.45000.h5\n",
      "Epoch 3/25\n",
      "WIN_20180907_16_30_54_Pro_Stop Gesture_new;Stop Gesture_new;2\n",
      "\n",
      "21/23 [==========================>...] - ETA: 7s - loss: 1.3684 - categorical_accuracy: 0.4659 WIN_20180907_16_40_47_Pro_Thumbs Down_new;Thumbs Down_new;3\n",
      "\n",
      "23/23 [==============================] - 85s 4s/step - loss: 1.5029 - categorical_accuracy: 0.4508 - val_loss: 1.5299 - val_categorical_accuracy: 0.5100\n",
      "\n",
      "Epoch 00003: saving model to model_init_2021-02-0810_45_39.832185/model-00003-1.37115-0.46939-1.52986-0.51000.h5\n",
      "Epoch 4/25\n",
      "WIN_20180926_17_34_23_Pro_Thumbs_Down_new;Thumbs_Down_new;3\n",
      "\n",
      "21/23 [==========================>...] - ETA: 7s - loss: 1.2468 - categorical_accuracy: 0.5159 WIN_20180925_18_02_41_Pro_Right_Swipe_new;Right_Swipe_new;1\n",
      "\n",
      "23/23 [==============================] - 85s 4s/step - loss: 1.3467 - categorical_accuracy: 0.4900 - val_loss: 1.5675 - val_categorical_accuracy: 0.5500\n",
      "\n",
      "Epoch 00004: saving model to model_init_2021-02-0810_45_39.832185/model-00004-1.25544-0.51020-1.56748-0.55000.h5\n",
      "Epoch 5/25\n",
      "WIN_20180925_17_49_40_Pro_Stop_new;Stop_new;2\n",
      "\n",
      "21/23 [==========================>...] - ETA: 7s - loss: 1.1674 - categorical_accuracy: 0.5437 WIN_20180926_17_29_54_Pro_Thumbs_Down_new;Thumbs_Down_new;3\n",
      "\n",
      "23/23 [==============================] - 85s 4s/step - loss: 1.2257 - categorical_accuracy: 0.5330 - val_loss: 1.2901 - val_categorical_accuracy: 0.5200\n",
      "\n",
      "Epoch 00005: saving model to model_init_2021-02-0810_45_39.832185/model-00005-1.17107-0.54119-1.29012-0.52000.h5\n",
      "Epoch 6/25\n",
      "WIN_20180907_16_02_09_Pro_Thumbs Down_new;Thumbs Down_new;3\n",
      "\n",
      "21/23 [==========================>...] - ETA: 7s - loss: 1.0996 - categorical_accuracy: 0.5611 WIN_20180926_17_30_24_Pro_Right_Swipe_new;Right_Swipe_new;1\n",
      "\n",
      "23/23 [==============================] - 85s 4s/step - loss: 1.1689 - categorical_accuracy: 0.5372 - val_loss: 1.3722 - val_categorical_accuracy: 0.5100\n",
      "\n",
      "Epoch 00006: saving model to model_init_2021-02-0810_45_39.832185/model-00006-1.10686-0.55933-1.37224-0.51000.h5\n",
      "Epoch 7/25\n",
      "WIN_20180926_16_57_50_Pro_Thumbs_Down_new;Thumbs_Down_new;3\n",
      "\n",
      "21/23 [==========================>...] - ETA: 7s - loss: 1.0719 - categorical_accuracy: 0.5746 WIN_20180926_16_35_06_Pro_Thumbs_Down_new;Thumbs_Down_new;3\n",
      "\n",
      "23/23 [==============================] - 84s 4s/step - loss: 1.1197 - categorical_accuracy: 0.5649 - val_loss: 1.4303 - val_categorical_accuracy: 0.4900\n",
      "\n",
      "Epoch 00007: saving model to model_init_2021-02-0810_45_39.832185/model-00007-1.07464-0.57445-1.43032-0.49000.h5\n",
      "Epoch 8/25\n",
      " 1/23 [>.............................] - ETA: 1:12 - loss: 0.8226 - categorical_accuracy: 0.7000WIN_20180907_16_31_41_Pro_Stop Gesture_new;Stop Gesture_new;2\n",
      "\n",
      "21/23 [==========================>...] - ETA: 7s - loss: 1.0037 - categorical_accuracy: 0.5881 WIN_20180925_17_37_54_Pro_Thumbs_Down_new;Thumbs_Down_new;3\n",
      "\n",
      "23/23 [==============================] - 85s 4s/step - loss: 1.0712 - categorical_accuracy: 0.5751 - val_loss: 1.3893 - val_categorical_accuracy: 0.5500\n",
      "\n",
      "Epoch 00008: saving model to model_init_2021-02-0810_45_39.832185/model-00008-1.01173-0.58503-1.38927-0.55000.h5\n",
      "Epoch 9/25\n",
      "WIN_20180907_16_16_48_Pro_Stop Gesture_new;Stop Gesture_new;2\n",
      "\n",
      "21/23 [==========================>...] - ETA: 7s - loss: 1.0014 - categorical_accuracy: 0.6008 WIN_20180926_17_01_50_Pro_Stop_new;Stop_new;2\n",
      "\n",
      "23/23 [==============================] - 84s 4s/step - loss: 1.1138 - categorical_accuracy: 0.5699 - val_loss: 1.5259 - val_categorical_accuracy: 0.4900\n",
      "\n",
      "Epoch 00009: saving model to model_init_2021-02-0810_45_39.832185/model-00009-1.02039-0.59335-1.52588-0.49000.h5\n",
      "\n",
      "Epoch 00009: ReduceLROnPlateau reducing learning rate to 3.9999998989515007e-05.\n",
      "Epoch 10/25\n",
      "WIN_20180926_17_14_26_Pro_Thumbs_Up_new;Thumbs_Up_new;4\n",
      "\n",
      "21/23 [==========================>...] - ETA: 7s - loss: 0.9140 - categorical_accuracy: 0.6310 WIN_20180925_17_48_24_Pro_Left_Swipe_new;Left_Swipe_new;0\n",
      "\n",
      "23/23 [==============================] - 85s 4s/step - loss: 1.0358 - categorical_accuracy: 0.6201 - val_loss: 1.6476 - val_categorical_accuracy: 0.4500\n",
      "\n",
      "Epoch 00010: saving model to model_init_2021-02-0810_45_39.832185/model-00010-0.91846-0.63190-1.64761-0.45000.h5\n",
      "Epoch 11/25\n",
      " 1/23 [>.............................] - ETA: 1:07 - loss: 0.6636 - categorical_accuracy: 0.7833WIN_20180907_16_31_41_Pro_Stop Gesture_new;Stop Gesture_new;2\n",
      "\n",
      "21/23 [==========================>...] - ETA: 7s - loss: 0.9180 - categorical_accuracy: 0.6278 WIN_20180926_17_06_24_Pro_Left_Swipe_new;Left_Swipe_new;0\n",
      "\n",
      "23/23 [==============================] - 84s 4s/step - loss: 0.9688 - categorical_accuracy: 0.6172 - val_loss: 1.4488 - val_categorical_accuracy: 0.5300\n",
      "\n",
      "Epoch 00011: saving model to model_init_2021-02-0810_45_39.832185/model-00011-0.91901-0.62887-1.44884-0.53000.h5\n",
      "Epoch 12/25\n",
      "WIN_20180907_16_21_39_Pro_Left Swipe_new_Left Swipe_new;Left Swipe_new_Left Swipe_new;0\n",
      "\n",
      "21/23 [==========================>...] - ETA: 7s - loss: 0.9226 - categorical_accuracy: 0.6230 WIN_20180925_18_16_51_Pro_Right_Swipe_new;Right_Swipe_new;1\n",
      "\n",
      "23/23 [==============================] - 86s 4s/step - loss: 0.9460 - categorical_accuracy: 0.6238 - val_loss: 1.3626 - val_categorical_accuracy: 0.5000\n",
      "\n",
      "Epoch 00012: saving model to model_init_2021-02-0810_45_39.832185/model-00012-0.92265-0.62207-1.36265-0.50000.h5\n",
      "Epoch 13/25\n",
      "WIN_20180925_17_32_32_Pro_Stop_new;Stop_new;2\n",
      "\n",
      "21/23 [==========================>...] - ETA: 7s - loss: 0.9183 - categorical_accuracy: 0.6373 WIN_20180925_17_28_57_Pro_Right_Swipe_new;Right_Swipe_new;1\n",
      "\n",
      "23/23 [==============================] - 85s 4s/step - loss: 1.0183 - categorical_accuracy: 0.6194 - val_loss: 1.1950 - val_categorical_accuracy: 0.5800\n",
      "\n",
      "Epoch 00013: saving model to model_init_2021-02-0810_45_39.832185/model-00013-0.93826-0.63114-1.19501-0.58000.h5\n",
      "Epoch 14/25\n",
      "WIN_20180925_17_30_40_Pro_Stop_new;Stop_new;2\n",
      "\n",
      "21/23 [==========================>...] - ETA: 7s - loss: 0.9077 - categorical_accuracy: 0.6421 WIN_20180926_17_12_37_Pro_Left_Swipe_new;Left_Swipe_new;0\n",
      "\n",
      "23/23 [==============================] - 85s 4s/step - loss: 1.0130 - categorical_accuracy: 0.6273 - val_loss: 1.3831 - val_categorical_accuracy: 0.5800\n",
      "\n",
      "Epoch 00014: saving model to model_init_2021-02-0810_45_39.832185/model-00014-0.91968-0.63946-1.38315-0.58000.h5\n",
      "Epoch 15/25\n",
      "WIN_20180925_17_25_06_Pro_Right_Swipe_new;Right_Swipe_new;1\n",
      "\n",
      "21/23 [==========================>...] - ETA: 7s - loss: 0.8742 - categorical_accuracy: 0.6579 WIN_20180926_16_48_34_Pro_Left_Swipe_new;Left_Swipe_new;0\n",
      "\n",
      "23/23 [==============================] - 85s 4s/step - loss: 0.9732 - categorical_accuracy: 0.6287 - val_loss: 1.2228 - val_categorical_accuracy: 0.5800\n",
      "\n",
      "Epoch 00015: saving model to model_init_2021-02-0810_45_39.832185/model-00015-0.87824-0.65457-1.22282-0.58000.h5\n",
      "Epoch 16/25\n",
      "WIN_20180926_16_47_09_Pro_Left_Swipe_new;Left_Swipe_new;0\n",
      "\n",
      "21/23 [==========================>...] - ETA: 7s - loss: 0.9039 - categorical_accuracy: 0.6373 WIN_20180926_17_23_38_Pro_Thumbs_Down_new;Thumbs_Down_new;3\n",
      "\n",
      "23/23 [==============================] - 85s 4s/step - loss: 1.0261 - categorical_accuracy: 0.6091 - val_loss: 1.2918 - val_categorical_accuracy: 0.5700\n",
      "\n",
      "Epoch 00016: saving model to model_init_2021-02-0810_45_39.832185/model-00016-0.91457-0.63416-1.29181-0.57000.h5\n",
      "Epoch 17/25\n",
      "WIN_20180907_16_25_44_Pro_Stop Gesture_new;Stop Gesture_new;2\n",
      "\n",
      "21/23 [==========================>...] - ETA: 7s - loss: 0.9132 - categorical_accuracy: 0.6397 WIN_20180926_17_39_43_Pro_Stop_new;Stop_new;2\n",
      "\n",
      "23/23 [==============================] - 84s 4s/step - loss: 0.9589 - categorical_accuracy: 0.6105 - val_loss: 1.3903 - val_categorical_accuracy: 0.5800\n",
      "\n",
      "Epoch 00017: saving model to model_init_2021-02-0810_45_39.832185/model-00017-0.92641-0.63568-1.39030-0.58000.h5\n",
      "\n",
      "Epoch 00017: ReduceLROnPlateau reducing learning rate to 7.999999797903002e-06.\n",
      "Epoch 18/25\n",
      "WIN_20180926_17_03_57_Pro_Right_Swipe_new;Right_Swipe_new;1\n",
      "\n",
      "21/23 [==========================>...] - ETA: 7s - loss: 0.8738 - categorical_accuracy: 0.6484 WIN_20180926_16_39_35_Pro_Stop_new;Stop_new;2\n",
      "\n",
      "23/23 [==============================] - 83s 4s/step - loss: 1.0606 - categorical_accuracy: 0.6324 - val_loss: 1.2952 - val_categorical_accuracy: 0.5800\n",
      "\n",
      "Epoch 00018: saving model to model_init_2021-02-0810_45_39.832185/model-00018-0.88654-0.64475-1.29516-0.58000.h5\n",
      "Epoch 19/25\n",
      "WIN_20180926_17_35_34_Pro_Right_Swipe_new;Right_Swipe_new;1\n",
      "\n",
      "21/23 [==========================>...] - ETA: 7s - loss: 0.8834 - categorical_accuracy: 0.6532 WIN_20180926_16_38_09_Pro_Thumbs_Up_new;Thumbs_Up_new;4\n",
      "\n",
      "23/23 [==============================] - 83s 4s/step - loss: 0.9704 - categorical_accuracy: 0.6397 - val_loss: 1.2838 - val_categorical_accuracy: 0.6000\n",
      "\n",
      "Epoch 00019: saving model to model_init_2021-02-0810_45_39.832185/model-00019-0.89164-0.65231-1.28378-0.60000.h5\n",
      "Epoch 20/25\n",
      "WIN_20180925_17_43_01_Pro_Left_Swipe_new;Left_Swipe_new;0\n",
      "\n",
      "21/23 [==========================>...] - ETA: 7s - loss: 0.8641 - categorical_accuracy: 0.6603 WIN_20180926_17_36_31_Pro_Thumbs_Down_new;Thumbs_Down_new;3\n",
      "\n",
      "23/23 [==============================] - 84s 4s/step - loss: 0.9595 - categorical_accuracy: 0.6308 - val_loss: 1.4266 - val_categorical_accuracy: 0.5900\n",
      "\n",
      "Epoch 00020: saving model to model_init_2021-02-0810_45_39.832185/model-00020-0.87306-0.65684-1.42662-0.59000.h5\n",
      "Epoch 21/25\n",
      "WIN_20180926_17_29_34_Pro_Right_Swipe_new;Right_Swipe_new;1\n",
      "\n",
      "21/23 [==========================>...] - ETA: 7s - loss: 0.8665 - categorical_accuracy: 0.6667 WIN_20180926_17_19_35_Pro_Right_Swipe_new;Right_Swipe_new;1\n",
      "\n",
      "23/23 [==============================] - 84s 4s/step - loss: 0.9398 - categorical_accuracy: 0.6403 - val_loss: 1.2184 - val_categorical_accuracy: 0.6000\n",
      "\n",
      "Epoch 00021: saving model to model_init_2021-02-0810_45_39.832185/model-00021-0.86759-0.66667-1.21836-0.60000.h5\n",
      "\n",
      "Epoch 00021: ReduceLROnPlateau reducing learning rate to 1.5999999959603884e-06.\n",
      "Epoch 22/25\n",
      "WIN_20180925_17_25_06_Pro_Right_Swipe_new;Right_Swipe_new;1\n",
      "\n",
      "21/23 [==========================>...] - ETA: 7s - loss: 0.8764 - categorical_accuracy: 0.6603 WIN_20180926_16_37_46_Pro_Stop_new;Stop_new;2\n",
      "\n",
      "23/23 [==============================] - 84s 4s/step - loss: 0.9350 - categorical_accuracy: 0.6352 - val_loss: 1.1154 - val_categorical_accuracy: 0.6300\n",
      "\n",
      "Epoch 00022: saving model to model_init_2021-02-0810_45_39.832185/model-00022-0.87748-0.66138-1.11544-0.63000.h5\n",
      "Epoch 23/25\n",
      " 1/23 [>.............................] - ETA: 1:17 - loss: 0.8001 - categorical_accuracy: 0.7500WIN_20180907_16_36_42_Pro_Left Swipe_new_Left Swipe_new;Left Swipe_new_Left Swipe_new;0\n",
      "\n",
      "21/23 [==========================>...] - ETA: 7s - loss: 0.8802 - categorical_accuracy: 0.6508 WIN_20180907_16_07_46_Pro_Left Swipe_new_Left Swipe_new;Left Swipe_new_Left Swipe_new;0\n",
      "\n",
      "23/23 [==============================] - 84s 4s/step - loss: 0.9476 - categorical_accuracy: 0.6243 - val_loss: 1.1756 - val_categorical_accuracy: 0.6100\n",
      "\n",
      "Epoch 00023: saving model to model_init_2021-02-0810_45_39.832185/model-00023-0.87904-0.65004-1.17562-0.61000.h5\n",
      "Epoch 24/25\n",
      " 1/23 [>.............................] - ETA: 1:08 - loss: 0.7885 - categorical_accuracy: 0.7167WIN_20180925_17_48_16_Pro_Thumbs_Down_new;Thumbs_Down_new;3\n",
      "\n",
      "21/23 [==========================>...] - ETA: 7s - loss: 0.8630 - categorical_accuracy: 0.6619 WIN_20180926_17_42_50_Pro_Thumbs_Down_new;Thumbs_Down_new;3\n",
      "\n",
      "23/23 [==============================] - 83s 4s/step - loss: 1.0928 - categorical_accuracy: 0.6316 - val_loss: 1.1864 - val_categorical_accuracy: 0.6100\n",
      "\n",
      "Epoch 00024: saving model to model_init_2021-02-0810_45_39.832185/model-00024-0.88032-0.65760-1.18636-0.61000.h5\n",
      "Epoch 25/25\n",
      "WIN_20180907_16_17_35_Pro_Stop Gesture_new;Stop Gesture_new;2\n",
      "\n",
      "21/23 [==========================>...] - ETA: 7s - loss: 0.8885 - categorical_accuracy: 0.6548 WIN_20180926_17_54_45_Pro_Right_Swipe_new;Right_Swipe_new;1\n",
      "\n",
      "23/23 [==============================] - 84s 4s/step - loss: 0.9424 - categorical_accuracy: 0.6236 - val_loss: 1.1926 - val_categorical_accuracy: 0.5900\n",
      "\n",
      "Epoch 00025: saving model to model_init_2021-02-0810_45_39.832185/model-00025-0.89412-0.64928-1.19263-0.59000.h5\n"
     ]
    }
   ],
   "source": [
    "mdy=model.fit_generator(train_generator, steps_per_epoch=steps_per_epoch, epochs=25, verbose=1, \n",
    "                    callbacks=callbacks_list, validation_data=val_generator, \n",
    "                    validation_steps=validation_steps, class_weight=None, workers=1, initial_epoch=0)"
   ]
  },
  {
   "cell_type": "code",
   "execution_count": 34,
   "metadata": {},
   "outputs": [
    {
     "data": {
      "image/png": "[encoded data removed]",
      "text/plain": [
       "<Figure size 1080x288 with 2 Axes>"
      ]
     },
     "metadata": {},
     "output_type": "display_data"
    }
   ],
   "source": [
    "plot(mdy)"
   ]
  },
  {
   "cell_type": "markdown",
   "metadata": {},
   "source": [
    "#### After 25 epochs, the highest training accuracy this model could achieve was 66% while the highest validation accuracy was 62%."
   ]
  },
  {
   "cell_type": "markdown",
   "metadata": {},
   "source": [
    "#### The one thing we can take away from this model is that it is not over-fitting a lot and maybe increasing the epochs might help achieve that."
   ]
  },
  {
   "cell_type": "markdown",
   "metadata": {},
   "source": [
    "### Increasing batch size to check its effect over multiple epochs."
   ]
  },
  {
   "cell_type": "code",
   "execution_count": 42,
   "metadata": {},
   "outputs": [],
   "source": [
    "image_height=120\n",
    "image_width=120\n",
    "image_frames=[int(round(i)) for i in np.arange(0,30,1.5)] \n",
    "batch_size=50\n",
    "train_generator = generator(train_path, train_doc, batch_size,image_height, image_width, image_frames,aug=True)\n",
    "val_generator = generator(val_path, val_doc, batch_size,image_height, image_width, image_frames)"
   ]
  },
  {
   "cell_type": "code",
   "execution_count": 43,
   "metadata": {},
   "outputs": [],
   "source": [
    "model=define_model(len(image_frames),120,120)"
   ]
  },
  {
   "cell_type": "code",
   "execution_count": 47,
   "metadata": {},
   "outputs": [],
   "source": [
    "if (num_train_sequences%batch_size) == 0:\n",
    "    steps_per_epoch = int(num_train_sequences/batch_size)\n",
    "else:\n",
    "    steps_per_epoch = (num_train_sequences//batch_size) + 1\n",
    "\n",
    "if (num_val_sequences%batch_size) == 0:\n",
    "    validation_steps = int(num_val_sequences/batch_size)\n",
    "else:\n",
    "    validation_steps = (num_val_sequences//batch_size) + 1"
   ]
  },
  {
   "cell_type": "code",
   "execution_count": 44,
   "metadata": {},
   "outputs": [
    {
     "name": "stdout",
     "output_type": "stream",
     "text": [
      "_________________________________________________________________\n",
      "Layer (type)                 Output Shape              Param #   \n",
      "=================================================================\n",
      "conv3d_17 (Conv3D)           (None, 20, 120, 120, 8)   656       \n",
      "_________________________________________________________________\n",
      "activation_17 (Activation)   (None, 20, 120, 120, 8)   0         \n",
      "_________________________________________________________________\n",
      "batch_normalization_25 (Batc (None, 20, 120, 120, 8)   32        \n",
      "_________________________________________________________________\n",
      "max_pooling3d_17 (MaxPooling (None, 10, 60, 60, 8)     0         \n",
      "_________________________________________________________________\n",
      "conv3d_18 (Conv3D)           (None, 10, 60, 60, 16)    3472      \n",
      "_________________________________________________________________\n",
      "activation_18 (Activation)   (None, 10, 60, 60, 16)    0         \n",
      "_________________________________________________________________\n",
      "batch_normalization_26 (Batc (None, 10, 60, 60, 16)    64        \n",
      "_________________________________________________________________\n",
      "max_pooling3d_18 (MaxPooling (None, 5, 30, 30, 16)     0         \n",
      "_________________________________________________________________\n",
      "conv3d_19 (Conv3D)           (None, 5, 30, 30, 32)     4128      \n",
      "_________________________________________________________________\n",
      "activation_19 (Activation)   (None, 5, 30, 30, 32)     0         \n",
      "_________________________________________________________________\n",
      "batch_normalization_27 (Batc (None, 5, 30, 30, 32)     128       \n",
      "_________________________________________________________________\n",
      "max_pooling3d_19 (MaxPooling (None, 2, 15, 15, 32)     0         \n",
      "_________________________________________________________________\n",
      "conv3d_20 (Conv3D)           (None, 2, 15, 15, 64)     16448     \n",
      "_________________________________________________________________\n",
      "activation_20 (Activation)   (None, 2, 15, 15, 64)     0         \n",
      "_________________________________________________________________\n",
      "batch_normalization_28 (Batc (None, 2, 15, 15, 64)     256       \n",
      "_________________________________________________________________\n",
      "max_pooling3d_20 (MaxPooling (None, 1, 7, 7, 64)       0         \n",
      "_________________________________________________________________\n",
      "flatten_5 (Flatten)          (None, 3136)              0         \n",
      "_________________________________________________________________\n",
      "dense_13 (Dense)             (None, 64)                200768    \n",
      "_________________________________________________________________\n",
      "batch_normalization_29 (Batc (None, 64)                256       \n",
      "_________________________________________________________________\n",
      "dropout_9 (Dropout)          (None, 64)                0         \n",
      "_________________________________________________________________\n",
      "dense_14 (Dense)             (None, 64)                4160      \n",
      "_________________________________________________________________\n",
      "batch_normalization_30 (Batc (None, 64)                256       \n",
      "_________________________________________________________________\n",
      "dropout_10 (Dropout)         (None, 64)                0         \n",
      "_________________________________________________________________\n",
      "dense_15 (Dense)             (None, 5)                 325       \n",
      "=================================================================\n",
      "Total params: 230,949\n",
      "Trainable params: 230,453\n",
      "Non-trainable params: 496\n",
      "_________________________________________________________________\n"
     ]
    }
   ],
   "source": [
    "model.summary()"
   ]
  },
  {
   "cell_type": "code",
   "execution_count": 45,
   "metadata": {},
   "outputs": [
    {
     "name": "stdout",
     "output_type": "stream",
     "text": [
      "Source path = Source path =  Project_data/train ; batch size = 50\n",
      "Epoch 1/25\n",
      " Project_data/val ; batch size = 50\n"
     ]
    },
    {
     "name": "stderr",
     "output_type": "stream",
     "text": [
      "/mnt/disks/user/anaconda3/lib/python3.6/site-packages/ipykernel_launcher.py:29: DeprecationWarning: `imread` is deprecated!\n",
      "`imread` is deprecated in SciPy 1.0.0, and will be removed in 1.2.0.\n",
      "Use ``imageio.imread`` instead.\n",
      "/mnt/disks/user/anaconda3/lib/python3.6/site-packages/ipykernel_launcher.py:33: DeprecationWarning: `imresize` is deprecated!\n",
      "`imresize` is deprecated in SciPy 1.0.0, and will be removed in 1.2.0.\n",
      "Use ``skimage.transform.resize`` instead.\n"
     ]
    },
    {
     "name": "stdout",
     "output_type": "stream",
     "text": [
      "12/23 [==============>...............] - ETA: 1:05 - loss: 1.9999 - categorical_accuracy: 0.2508WIN_20180925_17_36_58_Pro_Right_Swipe_new;Right_Swipe_new;1\n",
      "\n"
     ]
    },
    {
     "name": "stderr",
     "output_type": "stream",
     "text": [
      "/mnt/disks/user/anaconda3/lib/python3.6/site-packages/ipykernel_launcher.py:125: DeprecationWarning: `imread` is deprecated!\n",
      "`imread` is deprecated in SciPy 1.0.0, and will be removed in 1.2.0.\n",
      "Use ``imageio.imread`` instead.\n",
      "/mnt/disks/user/anaconda3/lib/python3.6/site-packages/ipykernel_launcher.py:129: DeprecationWarning: `imresize` is deprecated!\n",
      "`imresize` is deprecated in SciPy 1.0.0, and will be removed in 1.2.0.\n",
      "Use ``skimage.transform.resize`` instead.\n"
     ]
    },
    {
     "name": "stdout",
     "output_type": "stream",
     "text": [
      "23/23 [==============================] - 125s 5s/step - loss: 1.8569 - categorical_accuracy: 0.2875 - val_loss: 2.0147 - val_categorical_accuracy: 0.3000\n",
      "\n",
      "Epoch 00001: saving model to model_init_2021-02-0810_45_39.832185/model-00001-1.84912-0.28965-2.01474-0.30000.h5\n",
      "Epoch 2/25\n",
      " 3/23 [==>...........................] - ETA: 1:28 - loss: 1.4909 - categorical_accuracy: 0.4400WIN_20180925_18_01_30_Pro_Stop_new;Stop_new;2\n",
      "\n",
      "17/23 [=====================>........] - ETA: 27s - loss: 1.4943 - categorical_accuracy: 0.4242WIN_20180907_16_40_19_Pro_Left Swipe_new_Left Swipe_new;Left Swipe_new_Left Swipe_new;0\n",
      "\n",
      "23/23 [==============================] - 106s 5s/step - loss: 1.5022 - categorical_accuracy: 0.4321 - val_loss: 1.5250 - val_categorical_accuracy: 0.4300\n",
      "\n",
      "Epoch 00002: saving model to model_init_2021-02-0810_45_39.832185/model-00002-1.41261-0.44779-1.52504-0.43000.h5\n",
      "Epoch 3/25\n",
      " 8/23 [=========>....................] - ETA: 1:17 - loss: 1.2647 - categorical_accuracy: 0.5000WIN_20180925_17_22_32_Pro_Right_Swipe_new;Right_Swipe_new;1\n",
      "\n",
      "22/23 [===========================>..] - ETA: 4s - loss: 1.2913 - categorical_accuracy: 0.5038WIN_20180925_17_51_49_Pro_Left_Swipe_new;Left_Swipe_new;0\n",
      "\n",
      "23/23 [==============================] - 113s 5s/step - loss: 1.2921 - categorical_accuracy: 0.5020 - val_loss: 1.2906 - val_categorical_accuracy: 0.5400\n",
      "\n",
      "Epoch 00003: saving model to model_init_2021-02-0810_45_39.832185/model-00003-1.23071-0.51514-1.29065-0.54000.h5\n",
      "Epoch 4/25\n",
      "13/23 [===============>..............] - ETA: 47s - loss: 1.1896 - categorical_accuracy: 0.5355WIN_20180907_16_29_23_Pro_Left Swipe_new_Left Swipe_new;Left Swipe_new_Left Swipe_new;0\n",
      "\n",
      "23/23 [==============================] - 109s 5s/step - loss: 1.1936 - categorical_accuracy: 0.5438 - val_loss: 1.0509 - val_categorical_accuracy: 0.5900\n",
      "\n",
      "Epoch 00004: saving model to model_init_2021-02-0810_45_39.832185/model-00004-1.11879-0.55927-1.05087-0.59000.h5\n",
      "Epoch 5/25\n",
      " 4/23 [====>.........................] - ETA: 1:43 - loss: 0.9970 - categorical_accuracy: 0.6050WIN_20180907_15_38_24_Pro_Right Swipe_new;Right Swipe_new;1\n",
      "\n",
      "18/23 [======================>.......] - ETA: 23s - loss: 1.1330 - categorical_accuracy: 0.5838WIN_20180925_17_54_25_Pro_Left_Swipe_new;Left_Swipe_new;0\n",
      "\n",
      "23/23 [==============================] - 109s 5s/step - loss: 1.1939 - categorical_accuracy: 0.5816 - val_loss: 1.1241 - val_categorical_accuracy: 0.5600\n",
      "\n",
      "Epoch 00005: saving model to model_init_2021-02-0810_45_39.832185/model-00005-1.04939-0.60301-1.12406-0.56000.h5\n",
      "Epoch 6/25\n",
      " 9/23 [==========>...................] - ETA: 1:11 - loss: 0.9284 - categorical_accuracy: 0.6378WIN_20180925_17_32_38_Pro_Right_Swipe_new;Right_Swipe_new;1\n",
      "\n",
      "23/23 [==============================] - 111s 5s/step - loss: 0.9920 - categorical_accuracy: 0.6187 - val_loss: 0.9739 - val_categorical_accuracy: 0.6300\n",
      "\n",
      "Epoch 00006: saving model to model_init_2021-02-0810_45_39.832185/model-00006-0.95453-0.63037-0.97390-0.63000.h5\n",
      "Epoch 7/25\n",
      "WIN_20180926_16_57_19_Pro_Right_Swipe_new;Right_Swipe_new;1\n",
      "\n",
      "14/23 [=================>............] - ETA: 41s - loss: 1.0404 - categorical_accuracy: 0.6062WIN_20180925_17_40_22_Pro_Thumbs_Down_new;Thumbs_Down_new;3\n",
      "\n",
      "23/23 [==============================] - 106s 5s/step - loss: 0.9907 - categorical_accuracy: 0.6189 - val_loss: 1.0809 - val_categorical_accuracy: 0.5800\n",
      "\n",
      "Epoch 00007: saving model to model_init_2021-02-0810_45_39.832185/model-00007-0.89354-0.65522-1.08091-0.58000.h5\n",
      "Epoch 8/25\n",
      " 5/23 [=====>........................] - ETA: 1:31 - loss: 0.9505 - categorical_accuracy: 0.6280WIN_20180926_17_37_02_Pro_Stop_new;Stop_new;2\n",
      "\n",
      "19/23 [=======================>......] - ETA: 18s - loss: 0.9676 - categorical_accuracy: 0.6223WIN_20180926_16_40_38_Pro_Right_Swipe_new;Right_Swipe_new;1\n",
      "\n",
      "23/23 [==============================] - 106s 5s/step - loss: 1.0267 - categorical_accuracy: 0.6128 - val_loss: 0.8832 - val_categorical_accuracy: 0.6200\n",
      "\n",
      "Epoch 00008: saving model to model_init_2021-02-0810_45_39.832185/model-00008-0.89556-0.64864-0.88323-0.62000.h5\n",
      "Epoch 9/25\n",
      "10/23 [============>.................] - ETA: 1:03 - loss: 0.8522 - categorical_accuracy: 0.6680WIN_20180926_17_20_04_Pro_Right_Swipe_new;Right_Swipe_new;1\n",
      "\n",
      "23/23 [==============================] - 109s 5s/step - loss: 0.9126 - categorical_accuracy: 0.6443 - val_loss: 0.9612 - val_categorical_accuracy: 0.6800\n",
      "\n",
      "Epoch 00009: saving model to model_init_2021-02-0810_45_39.832185/model-00009-0.84534-0.66561-0.96117-0.68000.h5\n",
      "Epoch 10/25\n",
      " 1/23 [>.............................] - ETA: 1:48 - loss: 0.6950 - categorical_accuracy: 0.7300WIN_20180907_15_46_25_Pro_Stop Gesture_new;Stop Gesture_new;2\n",
      "\n",
      "15/23 [==================>...........] - ETA: 37s - loss: 0.9927 - categorical_accuracy: 0.6489WIN_20180907_16_03_09_Pro_Thumbs Down_new;Thumbs Down_new;3\n",
      "\n",
      "23/23 [==============================] - 108s 5s/step - loss: 1.0183 - categorical_accuracy: 0.6341 - val_loss: 0.9206 - val_categorical_accuracy: 0.6600\n",
      "\n",
      "Epoch 00010: saving model to model_init_2021-02-0810_45_39.832185/model-00010-0.84865-0.67168-0.92063-0.66000.h5\n",
      "Epoch 11/25\n",
      " 6/23 [======>.......................] - ETA: 1:25 - loss: 0.8217 - categorical_accuracy: 0.7017WIN_20180907_16_14_43_Pro_Thumbs Down_new;Thumbs Down_new;3\n",
      "\n",
      "20/23 [=========================>....] - ETA: 13s - loss: 0.9057 - categorical_accuracy: 0.6827WIN_20180925_18_16_51_Pro_Right_Swipe_new;Right_Swipe_new;1\n",
      "\n",
      "23/23 [==============================] - 105s 5s/step - loss: 0.9310 - categorical_accuracy: 0.6625 - val_loss: 0.9652 - val_categorical_accuracy: 0.6500\n",
      "\n",
      "Epoch 00011: saving model to model_init_2021-02-0810_45_39.832185/model-00011-0.79490-0.70226-0.96525-0.65000.h5\n",
      "Epoch 12/25\n",
      "11/23 [=============>................] - ETA: 59s - loss: 0.7741 - categorical_accuracy: 0.7091 WIN_20180925_18_21_50_Pro_Thumbs_Down_new;Thumbs_Down_new;3\n",
      "\n",
      "23/23 [==============================] - 110s 5s/step - loss: 0.8165 - categorical_accuracy: 0.7032 - val_loss: 0.9501 - val_categorical_accuracy: 0.6400\n",
      "\n",
      "Epoch 00012: saving model to model_init_2021-02-0810_45_39.832185/model-00012-0.74867-0.72390-0.95011-0.64000.h5\n",
      "\n",
      "Epoch 00012: ReduceLROnPlateau reducing learning rate to 3.9999998989515007e-05.\n",
      "Epoch 13/25\n",
      " 2/23 [=>............................] - ETA: 1:34 - loss: 0.6531 - categorical_accuracy: 0.7500WIN_20180907_15_50_05_Pro_Left Swipe_new_Left Swipe_new;Left Swipe_new_Left Swipe_new;0\n",
      "\n",
      "16/23 [===================>..........] - ETA: 31s - loss: 0.8541 - categorical_accuracy: 0.7096WIN_20180925_17_46_33_Pro_Thumbs_Down_new;Thumbs_Down_new;3\n",
      "\n",
      "23/23 [==============================] - 104s 5s/step - loss: 0.8465 - categorical_accuracy: 0.6984 - val_loss: 0.9648 - val_categorical_accuracy: 0.6400\n",
      "\n",
      "Epoch 00013: saving model to model_init_2021-02-0810_45_39.832185/model-00013-0.70555-0.73801-0.96481-0.64000.h5\n",
      "Epoch 14/25\n",
      " 7/23 [========>.....................] - ETA: 1:19 - loss: 0.6650 - categorical_accuracy: 0.7471WIN_20180925_17_46_33_Pro_Thumbs_Down_new;Thumbs_Down_new;3\n",
      "\n",
      "21/23 [==========================>...] - ETA: 9s - loss: 0.7235 - categorical_accuracy: 0.7193 WIN_20180926_17_16_29_Pro_Left_Swipe_new;Left_Swipe_new;0\n",
      "\n",
      "23/23 [==============================] - 103s 4s/step - loss: 0.8066 - categorical_accuracy: 0.6990 - val_loss: 1.0130 - val_categorical_accuracy: 0.6400\n",
      "\n",
      "Epoch 00014: saving model to model_init_2021-02-0810_45_39.832185/model-00014-0.69872-0.72954-1.01301-0.64000.h5\n",
      "Epoch 15/25\n",
      "12/23 [==============>...............] - ETA: 53s - loss: 0.6939 - categorical_accuracy: 0.7350WIN_20180925_17_20_22_Pro_Right_Swipe_new;Right_Swipe_new;1\n",
      "\n",
      "23/23 [==============================] - 108s 5s/step - loss: 0.8054 - categorical_accuracy: 0.7134 - val_loss: 0.9585 - val_categorical_accuracy: 0.6600\n",
      "\n",
      "Epoch 00015: saving model to model_init_2021-02-0810_45_39.832185/model-00015-0.71635-0.73159-0.95851-0.66000.h5\n",
      "Epoch 16/25\n",
      " 3/23 [==>...........................] - ETA: 1:41 - loss: 0.5811 - categorical_accuracy: 0.7800WIN_20180925_17_48_59_Pro_Stop_new;Stop_new;2\n",
      "\n",
      "17/23 [=====================>........] - ETA: 26s - loss: 0.7425 - categorical_accuracy: 0.7234WIN_20180907_15_43_58_Pro_Left Swipe_new_Left Swipe_new;Left Swipe_new_Left Swipe_new;0\n",
      "\n",
      "23/23 [==============================] - 104s 5s/step - loss: 0.8409 - categorical_accuracy: 0.6993 - val_loss: 0.9641 - val_categorical_accuracy: 0.6400\n",
      "\n",
      "Epoch 00016: saving model to model_init_2021-02-0810_45_39.832185/model-00016-0.68833-0.73895-0.96415-0.64000.h5\n",
      "\n",
      "Epoch 00016: ReduceLROnPlateau reducing learning rate to 7.999999797903002e-06.\n",
      "Epoch 17/25\n",
      " 8/23 [=========>....................] - ETA: 1:15 - loss: 0.6921 - categorical_accuracy: 0.7413WIN_20180925_17_48_24_Pro_Left_Swipe_new;Left_Swipe_new;0\n",
      "\n",
      "22/23 [===========================>..] - ETA: 4s - loss: 0.7626 - categorical_accuracy: 0.7140WIN_20180925_18_00_23_Pro_Right_Swipe_new;Right_Swipe_new;1\n",
      "\n",
      "23/23 [==============================] - 108s 5s/step - loss: 0.7595 - categorical_accuracy: 0.7153 - val_loss: 0.9643 - val_categorical_accuracy: 0.6400\n",
      "\n",
      "Epoch 00017: saving model to model_init_2021-02-0810_45_39.832185/model-00017-0.70329-0.73068-0.96435-0.64000.h5\n",
      "Epoch 18/25\n",
      "13/23 [===============>..............] - ETA: 44s - loss: 0.7969 - categorical_accuracy: 0.7165WIN_20180907_16_13_35_Pro_Thumbs Up_new;Thumbs Up_new;4\n",
      "\n",
      "23/23 [==============================] - 103s 4s/step - loss: 0.8335 - categorical_accuracy: 0.6988 - val_loss: 0.9629 - val_categorical_accuracy: 0.6600\n",
      "\n",
      "Epoch 00018: saving model to model_init_2021-02-0810_45_39.832185/model-00018-0.70955-0.73236-0.96292-0.66000.h5\n",
      "Epoch 19/25\n",
      " 4/23 [====>.........................] - ETA: 1:41 - loss: 0.6333 - categorical_accuracy: 0.7775WIN_20180926_17_15_56_Pro_Right_Swipe_new;Right_Swipe_new;1\n",
      "\n",
      "18/23 [======================>.......] - ETA: 22s - loss: 0.7598 - categorical_accuracy: 0.7334WIN_20180926_16_49_52_Pro_Left_Swipe_new;Left_Swipe_new;0\n",
      "\n",
      "23/23 [==============================] - 104s 5s/step - loss: 0.7984 - categorical_accuracy: 0.7209 - val_loss: 0.9656 - val_categorical_accuracy: 0.6600\n",
      "\n",
      "Epoch 00019: saving model to model_init_2021-02-0810_45_39.832185/model-00019-0.67181-0.75917-0.96563-0.66000.h5\n",
      "Epoch 20/25\n",
      " 9/23 [==========>...................] - ETA: 1:08 - loss: 0.6714 - categorical_accuracy: 0.7533WIN_20180925_17_34_40_Pro_Right_Swipe_new;Right_Swipe_new;1\n",
      "\n",
      "23/23 [==============================] - 107s 5s/step - loss: 0.7555 - categorical_accuracy: 0.7237 - val_loss: 0.9563 - val_categorical_accuracy: 0.6500\n",
      "\n",
      "Epoch 00020: saving model to model_init_2021-02-0810_45_39.832185/model-00020-0.68193-0.74514-0.95629-0.65000.h5\n",
      "\n",
      "Epoch 00020: ReduceLROnPlateau reducing learning rate to 1.5999999959603884e-06.\n",
      "Epoch 21/25\n",
      "WIN_20180926_17_36_08_Pro_Thumbs_Down_new;Thumbs_Down_new;3\n",
      "\n",
      "14/23 [=================>............] - ETA: 40s - loss: 0.8413 - categorical_accuracy: 0.7051WIN_20180907_15_53_00_Pro_Thumbs Down_new;Thumbs Down_new;3\n",
      "\n",
      "23/23 [==============================] - 102s 4s/step - loss: 0.8426 - categorical_accuracy: 0.7054 - val_loss: 0.9618 - val_categorical_accuracy: 0.6500\n",
      "\n",
      "Epoch 00021: saving model to model_init_2021-02-0810_45_39.832185/model-00021-0.69613-0.74553-0.96184-0.65000.h5\n",
      "Epoch 22/25\n",
      " 5/23 [=====>........................] - ETA: 1:35 - loss: 0.7127 - categorical_accuracy: 0.7180WIN_20180925_17_50_07_Pro_Thumbs_Down_new;Thumbs_Down_new;3\n",
      "\n",
      "19/23 [=======================>......] - ETA: 18s - loss: 0.8134 - categorical_accuracy: 0.7167WIN_20180926_16_45_45_Pro_Thumbs_Down_new;Thumbs_Down_new;3\n",
      "\n",
      "23/23 [==============================] - 104s 5s/step - loss: 0.8852 - categorical_accuracy: 0.6936 - val_loss: 0.9692 - val_categorical_accuracy: 0.6700\n",
      "\n",
      "Epoch 00022: saving model to model_init_2021-02-0810_45_39.832185/model-00022-0.69875-0.74177-0.96921-0.67000.h5\n",
      "Epoch 23/25\n",
      "10/23 [============>.................] - ETA: 1:02 - loss: 0.6605 - categorical_accuracy: 0.7520WIN_20180907_16_40_19_Pro_Left Swipe_new_Left Swipe_new;Left Swipe_new_Left Swipe_new;0\n",
      "\n",
      "23/23 [==============================] - 107s 5s/step - loss: 0.6874 - categorical_accuracy: 0.7491 - val_loss: 0.9595 - val_categorical_accuracy: 0.6600\n",
      "\n",
      "Epoch 00023: saving model to model_init_2021-02-0810_45_39.832185/model-00023-0.64448-0.76277-0.95954-0.66000.h5\n",
      "Epoch 24/25\n",
      " 1/23 [>.............................] - ETA: 1:27 - loss: 0.6666 - categorical_accuracy: 0.7500WIN_20180926_17_14_56_Pro_Right_Swipe_new;Right_Swipe_new;1\n",
      "\n",
      "15/23 [==================>...........] - ETA: 36s - loss: 0.8070 - categorical_accuracy: 0.7305WIN_20180926_17_41_15_Pro_Thumbs_Up_new;Thumbs_Up_new;4\n",
      "\n",
      "23/23 [==============================] - 103s 4s/step - loss: 0.8440 - categorical_accuracy: 0.7180 - val_loss: 0.9647 - val_categorical_accuracy: 0.6700\n",
      "\n",
      "Epoch 00024: saving model to model_init_2021-02-0810_45_39.832185/model-00024-0.67778-0.75306-0.96467-0.67000.h5\n",
      "\n",
      "Epoch 00024: ReduceLROnPlateau reducing learning rate to 3.200000037395512e-07.\n",
      "Epoch 25/25\n",
      " 6/23 [======>.......................] - ETA: 1:26 - loss: 0.6827 - categorical_accuracy: 0.7517WIN_20180907_16_25_22_Pro_Thumbs Down_new;Thumbs Down_new;3\n",
      "\n",
      "20/23 [=========================>....] - ETA: 13s - loss: 0.7239 - categorical_accuracy: 0.7346WIN_20180926_16_50_21_Pro_Left_Swipe_new;Left_Swipe_new;0\n",
      "\n",
      "23/23 [==============================] - 103s 4s/step - loss: 0.7964 - categorical_accuracy: 0.7157 - val_loss: 0.9721 - val_categorical_accuracy: 0.6800\n",
      "\n",
      "Epoch 00025: saving model to model_init_2021-02-0810_45_39.832185/model-00025-0.68455-0.74459-0.97205-0.68000.h5\n"
     ]
    }
   ],
   "source": [
    "mdx=model.fit_generator(train_generator, steps_per_epoch=steps_per_epoch, epochs=25, verbose=1, \n",
    "                    callbacks=callbacks_list, validation_data=val_generator, \n",
    "                    validation_steps=validation_steps, class_weight=None, workers=1, initial_epoch=0)"
   ]
  },
  {
   "cell_type": "code",
   "execution_count": 48,
   "metadata": {},
   "outputs": [
    {
     "name": "stdout",
     "output_type": "stream",
     "text": [
      "_________________________________________________________________\n",
      "Layer (type)                 Output Shape              Param #   \n",
      "=================================================================\n",
      "conv3d_17 (Conv3D)           (None, 20, 120, 120, 8)   656       \n",
      "_________________________________________________________________\n",
      "activation_17 (Activation)   (None, 20, 120, 120, 8)   0         \n",
      "_________________________________________________________________\n",
      "batch_normalization_25 (Batc (None, 20, 120, 120, 8)   32        \n",
      "_________________________________________________________________\n",
      "max_pooling3d_17 (MaxPooling (None, 10, 60, 60, 8)     0         \n",
      "_________________________________________________________________\n",
      "conv3d_18 (Conv3D)           (None, 10, 60, 60, 16)    3472      \n",
      "_________________________________________________________________\n",
      "activation_18 (Activation)   (None, 10, 60, 60, 16)    0         \n",
      "_________________________________________________________________\n",
      "batch_normalization_26 (Batc (None, 10, 60, 60, 16)    64        \n",
      "_________________________________________________________________\n",
      "max_pooling3d_18 (MaxPooling (None, 5, 30, 30, 16)     0         \n",
      "_________________________________________________________________\n",
      "conv3d_19 (Conv3D)           (None, 5, 30, 30, 32)     4128      \n",
      "_________________________________________________________________\n",
      "activation_19 (Activation)   (None, 5, 30, 30, 32)     0         \n",
      "_________________________________________________________________\n",
      "batch_normalization_27 (Batc (None, 5, 30, 30, 32)     128       \n",
      "_________________________________________________________________\n",
      "max_pooling3d_19 (MaxPooling (None, 2, 15, 15, 32)     0         \n",
      "_________________________________________________________________\n",
      "conv3d_20 (Conv3D)           (None, 2, 15, 15, 64)     16448     \n",
      "_________________________________________________________________\n",
      "activation_20 (Activation)   (None, 2, 15, 15, 64)     0         \n",
      "_________________________________________________________________\n",
      "batch_normalization_28 (Batc (None, 2, 15, 15, 64)     256       \n",
      "_________________________________________________________________\n",
      "max_pooling3d_20 (MaxPooling (None, 1, 7, 7, 64)       0         \n",
      "_________________________________________________________________\n",
      "flatten_5 (Flatten)          (None, 3136)              0         \n",
      "_________________________________________________________________\n",
      "dense_13 (Dense)             (None, 64)                200768    \n",
      "_________________________________________________________________\n",
      "batch_normalization_29 (Batc (None, 64)                256       \n",
      "_________________________________________________________________\n",
      "dropout_9 (Dropout)          (None, 64)                0         \n",
      "_________________________________________________________________\n",
      "dense_14 (Dense)             (None, 64)                4160      \n",
      "_________________________________________________________________\n",
      "batch_normalization_30 (Batc (None, 64)                256       \n",
      "_________________________________________________________________\n",
      "dropout_10 (Dropout)         (None, 64)                0         \n",
      "_________________________________________________________________\n",
      "dense_15 (Dense)             (None, 5)                 325       \n",
      "=================================================================\n",
      "Total params: 230,949\n",
      "Trainable params: 230,453\n",
      "Non-trainable params: 496\n",
      "_________________________________________________________________\n"
     ]
    }
   ],
   "source": [
    "model.summary()"
   ]
  },
  {
   "cell_type": "code",
   "execution_count": 49,
   "metadata": {},
   "outputs": [
    {
     "data": {
      "image/png": "[encoded data removed]",
      "text/plain": [
       "<Figure size 1080x288 with 2 Axes>"
      ]
     },
     "metadata": {},
     "output_type": "display_data"
    }
   ],
   "source": [
    "plot(mdx)"
   ]
  },
  {
   "cell_type": "markdown",
   "metadata": {},
   "source": [
    "#### Validation accuracy comes up to 68% and training accuracy comes upto 72%."
   ]
  },
  {
   "cell_type": "markdown",
   "metadata": {},
   "source": [
    "### Decreasing the number of batches to see its effect over multiple epochs."
   ]
  },
  {
   "cell_type": "code",
   "execution_count": 93,
   "metadata": {},
   "outputs": [],
   "source": [
    "image_height=120\n",
    "image_width=120\n",
    "image_frames=[0,3,5,6,7,8,9,10,11,12,13,14,15,16,17,18,19,20,21,22,23,24,25,27,29]\n",
    "batch_size=20\n",
    "train_generator = generator(train_path, train_doc, batch_size,image_height, image_width, image_frames,aug=True)\n",
    "val_generator = generator(val_path, val_doc, batch_size,image_height, image_width, image_frames)"
   ]
  },
  {
   "cell_type": "code",
   "execution_count": 94,
   "metadata": {},
   "outputs": [],
   "source": [
    "model=define_model(25,120,120)"
   ]
  },
  {
   "cell_type": "code",
   "execution_count": 95,
   "metadata": {},
   "outputs": [],
   "source": [
    "if (num_train_sequences%batch_size) == 0:\n",
    "    steps_per_epoch = int(num_train_sequences/batch_size)\n",
    "else:\n",
    "    steps_per_epoch = (num_train_sequences//batch_size) + 1\n",
    "\n",
    "if (num_val_sequences%batch_size) == 0:\n",
    "    validation_steps = int(num_val_sequences/batch_size)\n",
    "else:\n",
    "    validation_steps = (num_val_sequences//batch_size) + 1"
   ]
  },
  {
   "cell_type": "code",
   "execution_count": 96,
   "metadata": {
    "scrolled": true
   },
   "outputs": [
    {
     "name": "stdout",
     "output_type": "stream",
     "text": [
      "_________________________________________________________________\n",
      "Layer (type)                 Output Shape              Param #   \n",
      "=================================================================\n",
      "conv3d_49 (Conv3D)           (None, 25, 120, 120, 8)   656       \n",
      "_________________________________________________________________\n",
      "activation_49 (Activation)   (None, 25, 120, 120, 8)   0         \n",
      "_________________________________________________________________\n",
      "batch_normalization_73 (Batc (None, 25, 120, 120, 8)   32        \n",
      "_________________________________________________________________\n",
      "max_pooling3d_49 (MaxPooling (None, 12, 60, 60, 8)     0         \n",
      "_________________________________________________________________\n",
      "conv3d_50 (Conv3D)           (None, 12, 60, 60, 16)    3472      \n",
      "_________________________________________________________________\n",
      "activation_50 (Activation)   (None, 12, 60, 60, 16)    0         \n",
      "_________________________________________________________________\n",
      "batch_normalization_74 (Batc (None, 12, 60, 60, 16)    64        \n",
      "_________________________________________________________________\n",
      "max_pooling3d_50 (MaxPooling (None, 6, 30, 30, 16)     0         \n",
      "_________________________________________________________________\n",
      "conv3d_51 (Conv3D)           (None, 6, 30, 30, 32)     4128      \n",
      "_________________________________________________________________\n",
      "activation_51 (Activation)   (None, 6, 30, 30, 32)     0         \n",
      "_________________________________________________________________\n",
      "batch_normalization_75 (Batc (None, 6, 30, 30, 32)     128       \n",
      "_________________________________________________________________\n",
      "max_pooling3d_51 (MaxPooling (None, 3, 15, 15, 32)     0         \n",
      "_________________________________________________________________\n",
      "conv3d_52 (Conv3D)           (None, 3, 15, 15, 64)     16448     \n",
      "_________________________________________________________________\n",
      "activation_52 (Activation)   (None, 3, 15, 15, 64)     0         \n",
      "_________________________________________________________________\n",
      "batch_normalization_76 (Batc (None, 3, 15, 15, 64)     256       \n",
      "_________________________________________________________________\n",
      "max_pooling3d_52 (MaxPooling (None, 1, 7, 7, 64)       0         \n",
      "_________________________________________________________________\n",
      "flatten_13 (Flatten)         (None, 3136)              0         \n",
      "_________________________________________________________________\n",
      "dense_37 (Dense)             (None, 64)                200768    \n",
      "_________________________________________________________________\n",
      "batch_normalization_77 (Batc (None, 64)                256       \n",
      "_________________________________________________________________\n",
      "dropout_25 (Dropout)         (None, 64)                0         \n",
      "_________________________________________________________________\n",
      "dense_38 (Dense)             (None, 64)                4160      \n",
      "_________________________________________________________________\n",
      "batch_normalization_78 (Batc (None, 64)                256       \n",
      "_________________________________________________________________\n",
      "dropout_26 (Dropout)         (None, 64)                0         \n",
      "_________________________________________________________________\n",
      "dense_39 (Dense)             (None, 5)                 325       \n",
      "=================================================================\n",
      "Total params: 230,949\n",
      "Trainable params: 230,453\n",
      "Non-trainable params: 496\n",
      "_________________________________________________________________\n"
     ]
    }
   ],
   "source": [
    "model.summary()"
   ]
  },
  {
   "cell_type": "code",
   "execution_count": 97,
   "metadata": {},
   "outputs": [
    {
     "name": "stdout",
     "output_type": "stream",
     "text": [
      "Source path =  Project_data/val ; batch size = 20\n",
      "Source path =  Project_data/train ; batch size = 20\n",
      "Epoch 1/25\n"
     ]
    },
    {
     "name": "stderr",
     "output_type": "stream",
     "text": [
      "/mnt/disks/user/anaconda3/lib/python3.6/site-packages/ipykernel_launcher.py:29: DeprecationWarning: `imread` is deprecated!\n",
      "`imread` is deprecated in SciPy 1.0.0, and will be removed in 1.2.0.\n",
      "Use ``imageio.imread`` instead.\n",
      "/mnt/disks/user/anaconda3/lib/python3.6/site-packages/ipykernel_launcher.py:33: DeprecationWarning: `imresize` is deprecated!\n",
      "`imresize` is deprecated in SciPy 1.0.0, and will be removed in 1.2.0.\n",
      "Use ``skimage.transform.resize`` instead.\n"
     ]
    },
    {
     "name": "stdout",
     "output_type": "stream",
     "text": [
      "32/34 [===========================>..] - ETA: 10s - loss: 1.9291 - categorical_accuracy: 0.3031WIN_20180907_16_02_21_Pro_Left Swipe_new_Left Swipe_new;Left Swipe_new_Left Swipe_new;0\n",
      "\n"
     ]
    },
    {
     "name": "stderr",
     "output_type": "stream",
     "text": [
      "/mnt/disks/user/anaconda3/lib/python3.6/site-packages/ipykernel_launcher.py:125: DeprecationWarning: `imread` is deprecated!\n",
      "`imread` is deprecated in SciPy 1.0.0, and will be removed in 1.2.0.\n",
      "Use ``imageio.imread`` instead.\n",
      "/mnt/disks/user/anaconda3/lib/python3.6/site-packages/ipykernel_launcher.py:129: DeprecationWarning: `imresize` is deprecated!\n",
      "`imresize` is deprecated in SciPy 1.0.0, and will be removed in 1.2.0.\n",
      "Use ``skimage.transform.resize`` instead.\n"
     ]
    },
    {
     "name": "stdout",
     "output_type": "stream",
     "text": [
      "34/34 [==============================] - 170s 5s/step - loss: 1.9376 - categorical_accuracy: 0.3061 - val_loss: 1.4748 - val_categorical_accuracy: 0.3600\n",
      "\n",
      "Epoch 00001: saving model to model_init_2021-02-0810_45_39.832185/model-00001-1.92353-0.30537-1.47478-0.36000.h5\n",
      "Epoch 2/25\n",
      "32/34 [===========================>..] - ETA: 4s - loss: 1.4383 - categorical_accuracy: 0.4367WIN_20180926_17_04_58_Pro_Right_Swipe_new;Right_Swipe_new;1\n",
      "\n",
      "34/34 [==============================] - 78s 2s/step - loss: 1.4704 - categorical_accuracy: 0.4268 - val_loss: 1.2952 - val_categorical_accuracy: 0.4900\n",
      "\n",
      "Epoch 00002: saving model to model_init_2021-02-0810_45_39.832185/model-00002-1.43988-0.43840-1.29522-0.49000.h5\n",
      "Epoch 3/25\n",
      "32/34 [===========================>..] - ETA: 5s - loss: 1.2465 - categorical_accuracy: 0.5125WIN_20180926_16_40_01_Pro_Thumbs_Up_new;Thumbs_Up_new;4\n",
      "\n",
      "34/34 [==============================] - 85s 2s/step - loss: 1.2745 - categorical_accuracy: 0.5070 - val_loss: 1.1566 - val_categorical_accuracy: 0.5000\n",
      "\n",
      "Epoch 00003: saving model to model_init_2021-02-0810_45_39.832185/model-00003-1.25004-0.51172-1.15659-0.50000.h5\n",
      "Epoch 4/25\n",
      "32/34 [===========================>..] - ETA: 4s - loss: 1.1846 - categorical_accuracy: 0.5352WIN_20180926_17_20_19_Pro_Left_Swipe_new;Left_Swipe_new;0\n",
      "\n",
      "34/34 [==============================] - 84s 2s/step - loss: 1.2058 - categorical_accuracy: 0.5254 - val_loss: 1.2099 - val_categorical_accuracy: 0.5000\n",
      "\n",
      "Epoch 00004: saving model to model_init_2021-02-0810_45_39.832185/model-00004-1.19128-0.53061-1.20987-0.50000.h5\n",
      "Epoch 5/25\n",
      "32/34 [===========================>..] - ETA: 4s - loss: 1.1663 - categorical_accuracy: 0.5437WIN_20180926_17_06_12_Pro_Left_Swipe_new;Left_Swipe_new;0\n",
      "\n",
      "34/34 [==============================] - 84s 2s/step - loss: 1.2341 - categorical_accuracy: 0.5276 - val_loss: 1.1882 - val_categorical_accuracy: 0.5300\n",
      "\n",
      "Epoch 00005: saving model to model_init_2021-02-0810_45_39.832185/model-00005-1.17376-0.54195-1.18822-0.53000.h5\n",
      "Epoch 6/25\n",
      "32/34 [===========================>..] - ETA: 4s - loss: 1.0748 - categorical_accuracy: 0.5891WIN_20180926_16_59_27_Pro_Thumbs_Up_new;Thumbs_Up_new;4\n",
      "\n",
      "34/34 [==============================] - 84s 2s/step - loss: 1.2085 - categorical_accuracy: 0.5703 - val_loss: 1.0368 - val_categorical_accuracy: 0.6100\n",
      "\n",
      "Epoch 00006: saving model to model_init_2021-02-0810_45_39.832185/model-00006-1.08784-0.58579-1.03680-0.61000.h5\n",
      "Epoch 7/25\n",
      "32/34 [===========================>..] - ETA: 5s - loss: 1.0018 - categorical_accuracy: 0.6055WIN_20180925_18_00_23_Pro_Right_Swipe_new;Right_Swipe_new;1\n",
      "\n",
      "34/34 [==============================] - 85s 3s/step - loss: 1.0310 - categorical_accuracy: 0.5887 - val_loss: 0.9383 - val_categorical_accuracy: 0.6300\n",
      "\n",
      "Epoch 00007: saving model to model_init_2021-02-0810_45_39.832185/model-00007-1.00430-0.60469-0.93830-0.63000.h5\n",
      "Epoch 8/25\n",
      "32/34 [===========================>..] - ETA: 5s - loss: 0.9875 - categorical_accuracy: 0.6133WIN_20180925_17_44_12_Pro_Thumbs_Up_new;Thumbs_Up_new;4\n",
      "\n",
      "34/34 [==============================] - 86s 3s/step - loss: 1.0231 - categorical_accuracy: 0.6056 - val_loss: 0.8877 - val_categorical_accuracy: 0.6500\n",
      "\n",
      "Epoch 00008: saving model to model_init_2021-02-0810_45_39.832185/model-00008-0.99418-0.61300-0.88768-0.65000.h5\n",
      "Epoch 9/25\n",
      "32/34 [===========================>..] - ETA: 5s - loss: 0.9630 - categorical_accuracy: 0.6344WIN_20180925_18_11_52_Pro_Right_Swipe_new;Right_Swipe_new;1\n",
      "\n",
      "34/34 [==============================] - 87s 3s/step - loss: 1.0165 - categorical_accuracy: 0.6123 - val_loss: 0.8976 - val_categorical_accuracy: 0.6400\n",
      "\n",
      "Epoch 00009: saving model to model_init_2021-02-0810_45_39.832185/model-00009-0.97397-0.62887-0.89758-0.64000.h5\n",
      "Epoch 10/25\n",
      "32/34 [===========================>..] - ETA: 5s - loss: 0.9088 - categorical_accuracy: 0.6609WIN_20180907_15_59_28_Pro_Thumbs Up_new;Thumbs Up_new;4\n",
      "\n",
      "34/34 [==============================] - 88s 3s/step - loss: 0.9636 - categorical_accuracy: 0.6417 - val_loss: 0.8735 - val_categorical_accuracy: 0.6200\n",
      "\n",
      "Epoch 00010: saving model to model_init_2021-02-0810_45_39.832185/model-00010-0.91376-0.65911-0.87347-0.62000.h5\n",
      "Epoch 11/25\n",
      "32/34 [===========================>..] - ETA: 5s - loss: 0.8302 - categorical_accuracy: 0.6867WIN_20180926_16_49_22_Pro_Thumbs_Down_new;Thumbs_Down_new;3\n",
      "\n",
      "34/34 [==============================] - 88s 3s/step - loss: 0.9062 - categorical_accuracy: 0.6660 - val_loss: 0.8928 - val_categorical_accuracy: 0.6800\n",
      "\n",
      "Epoch 00011: saving model to model_init_2021-02-0810_45_39.832185/model-00011-0.84056-0.68405-0.89275-0.68000.h5\n",
      "Epoch 12/25\n",
      "32/34 [===========================>..] - ETA: 5s - loss: 0.8302 - categorical_accuracy: 0.6836WIN_20180926_16_41_27_Pro_Right_Swipe_new;Right_Swipe_new;1\n",
      "\n",
      "34/34 [==============================] - 86s 3s/step - loss: 0.8568 - categorical_accuracy: 0.6806 - val_loss: 0.9607 - val_categorical_accuracy: 0.6500\n",
      "\n",
      "Epoch 00012: saving model to model_init_2021-02-0810_45_39.832185/model-00012-0.83744-0.68103-0.96074-0.65000.h5\n",
      "Epoch 13/25\n",
      "32/34 [===========================>..] - ETA: 5s - loss: 0.8072 - categorical_accuracy: 0.6820WIN_20180926_17_27_34_Pro_Thumbs_Down_new;Thumbs_Down_new;3\n",
      "\n",
      "34/34 [==============================] - 86s 3s/step - loss: 0.8384 - categorical_accuracy: 0.6652 - val_loss: 0.9508 - val_categorical_accuracy: 0.6200\n",
      "\n",
      "Epoch 00013: saving model to model_init_2021-02-0810_45_39.832185/model-00013-0.80546-0.68330-0.95080-0.62000.h5\n",
      "Epoch 14/25\n",
      "32/34 [===========================>..] - ETA: 5s - loss: 0.8435 - categorical_accuracy: 0.6680WIN_20180926_17_22_54_Pro_Stop_new;Stop_new;2\n",
      "\n",
      "34/34 [==============================] - 85s 2s/step - loss: 0.8850 - categorical_accuracy: 0.6490 - val_loss: 0.9308 - val_categorical_accuracy: 0.5900\n",
      "\n",
      "Epoch 00014: saving model to model_init_2021-02-0810_45_39.832185/model-00014-0.84203-0.66667-0.93081-0.59000.h5\n",
      "\n",
      "Epoch 00014: ReduceLROnPlateau reducing learning rate to 3.9999998989515007e-05.\n",
      "Epoch 15/25\n",
      "32/34 [===========================>..] - ETA: 4s - loss: 0.7914 - categorical_accuracy: 0.7023WIN_20180926_16_41_27_Pro_Right_Swipe_new;Right_Swipe_new;1\n",
      "\n",
      "34/34 [==============================] - 83s 2s/step - loss: 0.8929 - categorical_accuracy: 0.6800 - val_loss: 0.8246 - val_categorical_accuracy: 0.6200\n",
      "\n",
      "Epoch 00015: saving model to model_init_2021-02-0810_45_39.832185/model-00015-0.80359-0.69841-0.82465-0.62000.h5\n",
      "Epoch 16/25\n",
      "32/34 [===========================>..] - ETA: 4s - loss: 0.7957 - categorical_accuracy: 0.7078WIN_20180925_17_45_23_Pro_Thumbs_Down_new;Thumbs_Down_new;3\n",
      "\n",
      "34/34 [==============================] - 84s 2s/step - loss: 0.8814 - categorical_accuracy: 0.6836 - val_loss: 0.7947 - val_categorical_accuracy: 0.6400\n",
      "\n",
      "Epoch 00016: saving model to model_init_2021-02-0810_45_39.832185/model-00016-0.81014-0.70219-0.79468-0.64000.h5\n",
      "Epoch 17/25\n",
      "32/34 [===========================>..] - ETA: 5s - loss: 0.7808 - categorical_accuracy: 0.7117WIN_20180907_16_56_18_Pro_Stop Gesture_new;Stop Gesture_new;2\n",
      "\n",
      "34/34 [==============================] - 84s 2s/step - loss: 0.8717 - categorical_accuracy: 0.6917 - val_loss: 0.7686 - val_categorical_accuracy: 0.6500\n",
      "\n",
      "Epoch 00017: saving model to model_init_2021-02-0810_45_39.832185/model-00017-0.78309-0.71051-0.76865-0.65000.h5\n",
      "Epoch 18/25\n",
      "32/34 [===========================>..] - ETA: 4s - loss: 0.7483 - categorical_accuracy: 0.7227WIN_20180925_17_43_11_Pro_Thumbs_Up_new;Thumbs_Up_new;4\n",
      "\n",
      "34/34 [==============================] - 83s 2s/step - loss: 0.7819 - categorical_accuracy: 0.7101 - val_loss: 0.7639 - val_categorical_accuracy: 0.6800\n",
      "\n",
      "Epoch 00018: saving model to model_init_2021-02-0810_45_39.832185/model-00018-0.75293-0.72033-0.76392-0.68000.h5\n",
      "Epoch 19/25\n",
      "32/34 [===========================>..] - ETA: 4s - loss: 0.7602 - categorical_accuracy: 0.7125WIN_20180926_17_05_38_Pro_Thumbs_Up_new;Thumbs_Up_new;4\n",
      "\n",
      "34/34 [==============================] - 81s 2s/step - loss: 0.7705 - categorical_accuracy: 0.7101 - val_loss: 0.7982 - val_categorical_accuracy: 0.6500\n",
      "\n",
      "Epoch 00019: saving model to model_init_2021-02-0810_45_39.832185/model-00019-0.75980-0.71126-0.79821-0.65000.h5\n",
      "Epoch 20/25\n",
      "32/34 [===========================>..] - ETA: 4s - loss: 0.7471 - categorical_accuracy: 0.7141WIN_20180925_17_18_28_Pro_Left_Swipe_new;Left_Swipe_new;0\n",
      "\n",
      "34/34 [==============================] - 82s 2s/step - loss: 0.8286 - categorical_accuracy: 0.6947 - val_loss: 0.8103 - val_categorical_accuracy: 0.6400\n",
      "\n",
      "Epoch 00020: saving model to model_init_2021-02-0810_45_39.832185/model-00020-0.74972-0.71353-0.81028-0.64000.h5\n",
      "Epoch 21/25\n",
      "32/34 [===========================>..] - ETA: 4s - loss: 0.7089 - categorical_accuracy: 0.7250WIN_20180925_17_37_14_Pro_Stop_new;Stop_new;2\n",
      "\n",
      "34/34 [==============================] - 81s 2s/step - loss: 0.7596 - categorical_accuracy: 0.7050 - val_loss: 0.7942 - val_categorical_accuracy: 0.6600\n",
      "\n",
      "Epoch 00021: saving model to model_init_2021-02-0810_45_39.832185/model-00021-0.70962-0.72411-0.79423-0.66000.h5\n",
      "Epoch 22/25\n",
      "32/34 [===========================>..] - ETA: 4s - loss: 0.7144 - categorical_accuracy: 0.7500WIN_20180907_16_18_59_Pro_Stop Gesture_new;Stop Gesture_new;2\n",
      "\n",
      "34/34 [==============================] - 81s 2s/step - loss: 0.7354 - categorical_accuracy: 0.7300 - val_loss: 0.8192 - val_categorical_accuracy: 0.6300\n",
      "\n",
      "Epoch 00022: saving model to model_init_2021-02-0810_45_39.832185/model-00022-0.71069-0.74981-0.81916-0.63000.h5\n",
      "\n",
      "Epoch 00022: ReduceLROnPlateau reducing learning rate to 7.999999797903002e-06.\n",
      "Epoch 23/25\n",
      "32/34 [===========================>..] - ETA: 4s - loss: 0.6928 - categorical_accuracy: 0.7313WIN_20180907_16_42_19_Pro_Left Swipe_new_Left Swipe_new;Left Swipe_new_Left Swipe_new;0\n",
      "\n",
      "34/34 [==============================] - 81s 2s/step - loss: 0.8310 - categorical_accuracy: 0.7116 - val_loss: 0.7988 - val_categorical_accuracy: 0.6400\n",
      "\n",
      "Epoch 00023: saving model to model_init_2021-02-0810_45_39.832185/model-00023-0.69994-0.73091-0.79877-0.64000.h5\n",
      "Epoch 24/25\n",
      "32/34 [===========================>..] - ETA: 5s - loss: 0.7408 - categorical_accuracy: 0.7219WIN_20180907_16_07_50_Pro_Thumbs Down_new;Thumbs Down_new;3\n",
      "\n",
      "34/34 [==============================] - 87s 3s/step - loss: 0.8513 - categorical_accuracy: 0.6998 - val_loss: 0.7847 - val_categorical_accuracy: 0.6400\n",
      "\n",
      "Epoch 00024: saving model to model_init_2021-02-0810_45_39.832185/model-00024-0.75017-0.71882-0.78474-0.64000.h5\n",
      "Epoch 25/25\n",
      "32/34 [===========================>..] - ETA: 5s - loss: 0.7044 - categorical_accuracy: 0.7297WIN_20180926_17_11_17_Pro_Stop_new;Stop_new;2\n",
      "\n",
      "34/34 [==============================] - 86s 3s/step - loss: 0.8046 - categorical_accuracy: 0.7160 - val_loss: 0.7721 - val_categorical_accuracy: 0.6300\n",
      "\n",
      "Epoch 00025: saving model to model_init_2021-02-0810_45_39.832185/model-00025-0.71666-0.72638-0.77206-0.63000.h5\n"
     ]
    }
   ],
   "source": [
    "mdz=model.fit_generator(train_generator, steps_per_epoch=steps_per_epoch, epochs=25, verbose=1, \n",
    "                    callbacks=callbacks_list, validation_data=val_generator, \n",
    "                    validation_steps=validation_steps, class_weight=None, workers=1, initial_epoch=0)"
   ]
  },
  {
   "cell_type": "code",
   "execution_count": 98,
   "metadata": {},
   "outputs": [
    {
     "data": {
      "image/png": "[encoded data removed]",
      "text/plain": [
       "<Figure size 1080x288 with 2 Axes>"
      ]
     },
     "metadata": {},
     "output_type": "display_data"
    }
   ],
   "source": [
    "plot(mdz)"
   ]
  },
  {
   "cell_type": "code",
   "execution_count": 23,
   "metadata": {
    "scrolled": true
   },
   "outputs": [
    {
     "name": "stdout",
     "output_type": "stream",
     "text": [
      "_________________________________________________________________\n",
      "Layer (type)                 Output Shape              Param #   \n",
      "=================================================================\n",
      "conv3d_1 (Conv3D)            (None, 25, 100, 100, 16)  1312      \n",
      "_________________________________________________________________\n",
      "activation_1 (Activation)    (None, 25, 100, 100, 16)  0         \n",
      "_________________________________________________________________\n",
      "batch_normalization_1 (Batch (None, 25, 100, 100, 16)  64        \n",
      "_________________________________________________________________\n",
      "max_pooling3d_1 (MaxPooling3 (None, 12, 50, 50, 16)    0         \n",
      "_________________________________________________________________\n",
      "conv3d_2 (Conv3D)            (None, 12, 50, 50, 32)    4128      \n",
      "_________________________________________________________________\n",
      "activation_2 (Activation)    (None, 12, 50, 50, 32)    0         \n",
      "_________________________________________________________________\n",
      "batch_normalization_2 (Batch (None, 12, 50, 50, 32)    128       \n",
      "_________________________________________________________________\n",
      "max_pooling3d_2 (MaxPooling3 (None, 6, 25, 25, 32)     0         \n",
      "_________________________________________________________________\n",
      "conv3d_3 (Conv3D)            (None, 6, 25, 25, 64)     16448     \n",
      "_________________________________________________________________\n",
      "activation_3 (Activation)    (None, 6, 25, 25, 64)     0         \n",
      "_________________________________________________________________\n",
      "batch_normalization_3 (Batch (None, 6, 25, 25, 64)     256       \n",
      "_________________________________________________________________\n",
      "max_pooling3d_3 (MaxPooling3 (None, 3, 12, 12, 64)     0         \n",
      "_________________________________________________________________\n",
      "conv3d_4 (Conv3D)            (None, 3, 12, 12, 128)    65664     \n",
      "_________________________________________________________________\n",
      "activation_4 (Activation)    (None, 3, 12, 12, 128)    0         \n",
      "_________________________________________________________________\n",
      "batch_normalization_4 (Batch (None, 3, 12, 12, 128)    512       \n",
      "_________________________________________________________________\n",
      "max_pooling3d_4 (MaxPooling3 (None, 1, 6, 6, 128)      0         \n",
      "_________________________________________________________________\n",
      "flatten_1 (Flatten)          (None, 4608)              0         \n",
      "_________________________________________________________________\n",
      "dense_1 (Dense)              (None, 128)               589952    \n",
      "_________________________________________________________________\n",
      "batch_normalization_5 (Batch (None, 128)               512       \n",
      "_________________________________________________________________\n",
      "dropout_1 (Dropout)          (None, 128)               0         \n",
      "_________________________________________________________________\n",
      "dense_2 (Dense)              (None, 64)                8256      \n",
      "_________________________________________________________________\n",
      "batch_normalization_6 (Batch (None, 64)                256       \n",
      "_________________________________________________________________\n",
      "dropout_2 (Dropout)          (None, 64)                0         \n",
      "_________________________________________________________________\n",
      "dense_3 (Dense)              (None, 5)                 325       \n",
      "=================================================================\n",
      "Total params: 687,813\n",
      "Trainable params: 686,949\n",
      "Non-trainable params: 864\n",
      "_________________________________________________________________\n"
     ]
    }
   ],
   "source": [
    "model.summary()"
   ]
  },
  {
   "cell_type": "markdown",
   "metadata": {},
   "source": [
    "### Increasing the number of resolution of the input and decreasing the batch size."
   ]
  },
  {
   "cell_type": "code",
   "execution_count": 45,
   "metadata": {},
   "outputs": [],
   "source": [
    "image_height=160\n",
    "image_width=160\n",
    "image_frames=[0,3,5,6,7,8,9,10,11,12,13,14,15,16,17,18,19,20,21,22,23,24,25,27,29]\n",
    "batch_size=20\n",
    "train_generator = generator(train_path, train_doc, batch_size,image_height, image_width, image_frames,aug=True)\n",
    "val_generator = generator(val_path, val_doc, batch_size,image_height, image_width, image_frames)"
   ]
  },
  {
   "cell_type": "code",
   "execution_count": 49,
   "metadata": {},
   "outputs": [],
   "source": [
    "model=define_model(25,160,160)"
   ]
  },
  {
   "cell_type": "code",
   "execution_count": 50,
   "metadata": {},
   "outputs": [],
   "source": [
    "if (num_train_sequences%batch_size) == 0:\n",
    "    steps_per_epoch = int(num_train_sequences/batch_size)\n",
    "else:\n",
    "    steps_per_epoch = (num_train_sequences//batch_size) + 1\n",
    "\n",
    "if (num_val_sequences%batch_size) == 0:\n",
    "    validation_steps = int(num_val_sequences/batch_size)\n",
    "else:\n",
    "    validation_steps = (num_val_sequences//batch_size) + 1"
   ]
  },
  {
   "cell_type": "code",
   "execution_count": 51,
   "metadata": {
    "scrolled": true
   },
   "outputs": [
    {
     "name": "stdout",
     "output_type": "stream",
     "text": [
      "_________________________________________________________________\n",
      "Layer (type)                 Output Shape              Param #   \n",
      "=================================================================\n",
      "conv3d_29 (Conv3D)           (None, 25, 160, 160, 8)   656       \n",
      "_________________________________________________________________\n",
      "activation_29 (Activation)   (None, 25, 160, 160, 8)   0         \n",
      "_________________________________________________________________\n",
      "batch_normalization_43 (Batc (None, 25, 160, 160, 8)   32        \n",
      "_________________________________________________________________\n",
      "max_pooling3d_29 (MaxPooling (None, 12, 80, 80, 8)     0         \n",
      "_________________________________________________________________\n",
      "conv3d_30 (Conv3D)           (None, 12, 80, 80, 16)    3472      \n",
      "_________________________________________________________________\n",
      "activation_30 (Activation)   (None, 12, 80, 80, 16)    0         \n",
      "_________________________________________________________________\n",
      "batch_normalization_44 (Batc (None, 12, 80, 80, 16)    64        \n",
      "_________________________________________________________________\n",
      "max_pooling3d_30 (MaxPooling (None, 6, 40, 40, 16)     0         \n",
      "_________________________________________________________________\n",
      "conv3d_31 (Conv3D)           (None, 6, 40, 40, 32)     4128      \n",
      "_________________________________________________________________\n",
      "activation_31 (Activation)   (None, 6, 40, 40, 32)     0         \n",
      "_________________________________________________________________\n",
      "batch_normalization_45 (Batc (None, 6, 40, 40, 32)     128       \n",
      "_________________________________________________________________\n",
      "max_pooling3d_31 (MaxPooling (None, 3, 20, 20, 32)     0         \n",
      "_________________________________________________________________\n",
      "conv3d_32 (Conv3D)           (None, 3, 20, 20, 64)     16448     \n",
      "_________________________________________________________________\n",
      "activation_32 (Activation)   (None, 3, 20, 20, 64)     0         \n",
      "_________________________________________________________________\n",
      "batch_normalization_46 (Batc (None, 3, 20, 20, 64)     256       \n",
      "_________________________________________________________________\n",
      "max_pooling3d_32 (MaxPooling (None, 1, 10, 10, 64)     0         \n",
      "_________________________________________________________________\n",
      "flatten_8 (Flatten)          (None, 6400)              0         \n",
      "_________________________________________________________________\n",
      "dense_22 (Dense)             (None, 64)                409664    \n",
      "_________________________________________________________________\n",
      "batch_normalization_47 (Batc (None, 64)                256       \n",
      "_________________________________________________________________\n",
      "dropout_15 (Dropout)         (None, 64)                0         \n",
      "_________________________________________________________________\n",
      "dense_23 (Dense)             (None, 64)                4160      \n",
      "_________________________________________________________________\n",
      "batch_normalization_48 (Batc (None, 64)                256       \n",
      "_________________________________________________________________\n",
      "dropout_16 (Dropout)         (None, 64)                0         \n",
      "_________________________________________________________________\n",
      "dense_24 (Dense)             (None, 5)                 325       \n",
      "=================================================================\n",
      "Total params: 439,845\n",
      "Trainable params: 439,349\n",
      "Non-trainable params: 496\n",
      "_________________________________________________________________\n"
     ]
    }
   ],
   "source": [
    "model.summary()"
   ]
  },
  {
   "cell_type": "code",
   "execution_count": 52,
   "metadata": {},
   "outputs": [
    {
     "name": "stdout",
     "output_type": "stream",
     "text": [
      "Source path =  Project_data/val ; batch size = 20\n",
      "Source path =  Project_data/train ; batch size = 20\n",
      "Epoch 1/35\n"
     ]
    },
    {
     "name": "stderr",
     "output_type": "stream",
     "text": [
      "/mnt/disks/user/anaconda3/lib/python3.6/site-packages/ipykernel_launcher.py:29: DeprecationWarning: `imread` is deprecated!\n",
      "`imread` is deprecated in SciPy 1.0.0, and will be removed in 1.2.0.\n",
      "Use ``imageio.imread`` instead.\n",
      "/mnt/disks/user/anaconda3/lib/python3.6/site-packages/ipykernel_launcher.py:33: DeprecationWarning: `imresize` is deprecated!\n",
      "`imresize` is deprecated in SciPy 1.0.0, and will be removed in 1.2.0.\n",
      "Use ``skimage.transform.resize`` instead.\n"
     ]
    },
    {
     "name": "stdout",
     "output_type": "stream",
     "text": [
      "32/34 [===========================>..] - ETA: 12s - loss: 1.7157 - categorical_accuracy: 0.3625WIN_20180925_18_07_47_Pro_Left_Swipe_new;Left_Swipe_new;0\n",
      "\n"
     ]
    },
    {
     "name": "stderr",
     "output_type": "stream",
     "text": [
      "/mnt/disks/user/anaconda3/lib/python3.6/site-packages/ipykernel_launcher.py:125: DeprecationWarning: `imread` is deprecated!\n",
      "`imread` is deprecated in SciPy 1.0.0, and will be removed in 1.2.0.\n",
      "Use ``imageio.imread`` instead.\n",
      "/mnt/disks/user/anaconda3/lib/python3.6/site-packages/ipykernel_launcher.py:129: DeprecationWarning: `imresize` is deprecated!\n",
      "`imresize` is deprecated in SciPy 1.0.0, and will be removed in 1.2.0.\n",
      "Use ``skimage.transform.resize`` instead.\n"
     ]
    },
    {
     "name": "stdout",
     "output_type": "stream",
     "text": [
      "34/34 [==============================] - 218s 6s/step - loss: 1.7068 - categorical_accuracy: 0.3642 - val_loss: 1.3027 - val_categorical_accuracy: 0.4400\n",
      "\n",
      "Epoch 00001: saving model to model_init_2021-02-0815_01_47.572012/model-00001-1.69924-0.36508-1.30273-0.44000.h5\n",
      "Epoch 2/35\n",
      "32/34 [===========================>..] - ETA: 6s - loss: 1.2284 - categorical_accuracy: 0.5164WIN_20180925_17_58_21_Pro_Right_Swipe_new;Right_Swipe_new;1\n",
      "\n",
      "34/34 [==============================] - 110s 3s/step - loss: 1.3041 - categorical_accuracy: 0.5070 - val_loss: 0.9982 - val_categorical_accuracy: 0.5900\n",
      "\n",
      "Epoch 00002: saving model to model_init_2021-02-0815_01_47.572012/model-00002-1.23969-0.51172-0.99818-0.59000.h5\n",
      "Epoch 3/35\n",
      "32/34 [===========================>..] - ETA: 6s - loss: 1.1575 - categorical_accuracy: 0.5570WIN_20180925_17_51_17_Pro_Thumbs_Up_new;Thumbs_Up_new;4\n",
      "\n",
      "34/34 [==============================] - 112s 3s/step - loss: 1.2508 - categorical_accuracy: 0.5401 - val_loss: 0.9331 - val_categorical_accuracy: 0.6600\n",
      "\n",
      "Epoch 00003: saving model to model_init_2021-02-0815_01_47.572012/model-00003-1.16884-0.55480-0.93310-0.66000.h5\n",
      "Epoch 4/35\n",
      "32/34 [===========================>..] - ETA: 6s - loss: 0.9970 - categorical_accuracy: 0.6031WIN_20180925_17_48_48_Pro_Right_Swipe_new;Right_Swipe_new;1\n",
      "\n",
      "34/34 [==============================] - 112s 3s/step - loss: 1.0608 - categorical_accuracy: 0.5865 - val_loss: 0.9677 - val_categorical_accuracy: 0.6500\n",
      "\n",
      "Epoch 00004: saving model to model_init_2021-02-0815_01_47.572012/model-00004-1.00220-0.60242-0.96774-0.65000.h5\n",
      "Epoch 5/35\n",
      "32/34 [===========================>..] - ETA: 6s - loss: 0.9975 - categorical_accuracy: 0.6406WIN_20180925_17_43_57_Pro_Stop_new;Stop_new;2\n",
      "\n",
      "34/34 [==============================] - 111s 3s/step - loss: 1.0604 - categorical_accuracy: 0.6306 - val_loss: 0.8992 - val_categorical_accuracy: 0.6400\n",
      "\n",
      "Epoch 00005: saving model to model_init_2021-02-0815_01_47.572012/model-00005-1.00220-0.63870-0.89917-0.64000.h5\n",
      "Epoch 6/35\n",
      "32/34 [===========================>..] - ETA: 6s - loss: 0.8487 - categorical_accuracy: 0.6750WIN_20180926_17_30_24_Pro_Right_Swipe_new;Right_Swipe_new;1\n",
      "\n",
      "34/34 [==============================] - 110s 3s/step - loss: 0.9220 - categorical_accuracy: 0.6660 - val_loss: 0.8348 - val_categorical_accuracy: 0.6700\n",
      "\n",
      "Epoch 00006: saving model to model_init_2021-02-0815_01_47.572012/model-00006-0.84927-0.67498-0.83480-0.67000.h5\n",
      "Epoch 7/35\n",
      "32/34 [===========================>..] - ETA: 6s - loss: 0.8756 - categorical_accuracy: 0.6586WIN_20180925_17_08_43_Pro_Left_Swipe_new;Left_Swipe_new;0\n",
      "\n",
      "34/34 [==============================] - 111s 3s/step - loss: 0.8696 - categorical_accuracy: 0.6674 - val_loss: 0.8784 - val_categorical_accuracy: 0.6400\n",
      "\n",
      "Epoch 00007: saving model to model_init_2021-02-0815_01_47.572012/model-00007-0.87486-0.65835-0.87841-0.64000.h5\n",
      "Epoch 8/35\n",
      "32/34 [===========================>..] - ETA: 6s - loss: 0.8233 - categorical_accuracy: 0.6906WIN_20180925_18_00_23_Pro_Right_Swipe_new;Right_Swipe_new;1\n",
      "\n",
      "34/34 [==============================] - 110s 3s/step - loss: 0.8416 - categorical_accuracy: 0.6917 - val_loss: 0.9418 - val_categorical_accuracy: 0.6600\n",
      "\n",
      "Epoch 00008: saving model to model_init_2021-02-0815_01_47.572012/model-00008-0.82192-0.69237-0.94182-0.66000.h5\n",
      "Epoch 9/35\n",
      "32/34 [===========================>..] - ETA: 6s - loss: 0.7508 - categorical_accuracy: 0.7227WIN_20180907_16_28_15_Pro_Stop Gesture_new;Stop Gesture_new;2\n",
      "\n",
      "34/34 [==============================] - 110s 3s/step - loss: 0.7503 - categorical_accuracy: 0.7204 - val_loss: 0.9819 - val_categorical_accuracy: 0.6600\n",
      "\n",
      "Epoch 00009: saving model to model_init_2021-02-0815_01_47.572012/model-00009-0.74647-0.72184-0.98192-0.66000.h5\n",
      "Epoch 10/35\n",
      "32/34 [===========================>..] - ETA: 6s - loss: 0.7429 - categorical_accuracy: 0.7164WIN_20180907_16_15_15_Pro_Thumbs Down_new;Thumbs Down_new;3\n",
      "\n",
      "34/34 [==============================] - 111s 3s/step - loss: 0.7932 - categorical_accuracy: 0.7145 - val_loss: 0.7724 - val_categorical_accuracy: 0.7300\n",
      "\n",
      "Epoch 00010: saving model to model_init_2021-02-0815_01_47.572012/model-00010-0.74469-0.71580-0.77236-0.73000.h5\n",
      "Epoch 11/35\n",
      "32/34 [===========================>..] - ETA: 6s - loss: 0.6576 - categorical_accuracy: 0.7547WIN_20180925_17_38_50_Pro_Stop_new;Stop_new;2\n",
      "\n",
      "34/34 [==============================] - 110s 3s/step - loss: 0.6797 - categorical_accuracy: 0.7440 - val_loss: 0.8332 - val_categorical_accuracy: 0.7000\n",
      "\n",
      "Epoch 00011: saving model to model_init_2021-02-0815_01_47.572012/model-00011-0.65755-0.75510-0.83323-0.70000.h5\n",
      "Epoch 12/35\n",
      "32/34 [===========================>..] - ETA: 6s - loss: 0.6612 - categorical_accuracy: 0.7609WIN_20180925_17_34_05_Pro_Thumbs_Down_new;Thumbs_Down_new;3\n",
      "\n",
      "34/34 [==============================] - 111s 3s/step - loss: 0.7788 - categorical_accuracy: 0.7388 - val_loss: 0.7789 - val_categorical_accuracy: 0.7300\n",
      "\n",
      "Epoch 00012: saving model to model_init_2021-02-0815_01_47.572012/model-00012-0.67158-0.75888-0.77892-0.73000.h5\n",
      "Epoch 13/35\n",
      "32/34 [===========================>..] - ETA: 6s - loss: 0.6697 - categorical_accuracy: 0.7578WIN_20180926_16_41_01_Pro_Thumbs_Up_new;Thumbs_Up_new;4\n",
      "\n",
      "34/34 [==============================] - 111s 3s/step - loss: 0.7491 - categorical_accuracy: 0.7572 - val_loss: 0.8509 - val_categorical_accuracy: 0.6500\n",
      "\n",
      "Epoch 00013: saving model to model_init_2021-02-0815_01_47.572012/model-00013-0.67075-0.75964-0.85085-0.65000.h5\n",
      "Epoch 14/35\n",
      "32/34 [===========================>..] - ETA: 6s - loss: 0.6403 - categorical_accuracy: 0.7562WIN_20180907_15_58_17_Pro_Left Swipe_new_Left Swipe_new;Left Swipe_new_Left Swipe_new;0\n",
      "\n",
      "34/34 [==============================] - 111s 3s/step - loss: 0.7145 - categorical_accuracy: 0.7359 - val_loss: 0.9431 - val_categorical_accuracy: 0.6700\n",
      "\n",
      "Epoch 00014: saving model to model_init_2021-02-0815_01_47.572012/model-00014-0.64618-0.75586-0.94309-0.67000.h5\n",
      "\n",
      "Epoch 00014: ReduceLROnPlateau reducing learning rate to 3.9999998989515007e-05.\n",
      "Epoch 15/35\n",
      "32/34 [===========================>..] - ETA: 6s - loss: 0.6069 - categorical_accuracy: 0.7750WIN_20180925_18_07_19_Pro_Left_Swipe_new;Left_Swipe_new;0\n",
      "\n",
      "34/34 [==============================] - 110s 3s/step - loss: 0.6969 - categorical_accuracy: 0.7550 - val_loss: 0.7854 - val_categorical_accuracy: 0.7200\n",
      "\n",
      "Epoch 00015: saving model to model_init_2021-02-0815_01_47.572012/model-00015-0.61484-0.77551-0.78537-0.72000.h5\n",
      "Epoch 16/35\n",
      "32/34 [===========================>..] - ETA: 6s - loss: 0.5984 - categorical_accuracy: 0.7742WIN_20180907_15_56_32_Pro_Left Swipe_new_Left Swipe_new;Left Swipe_new_Left Swipe_new;0\n",
      "\n",
      "34/34 [==============================] - 112s 3s/step - loss: 0.6639 - categorical_accuracy: 0.7528 - val_loss: 0.7299 - val_categorical_accuracy: 0.7200\n",
      "\n",
      "Epoch 00016: saving model to model_init_2021-02-0815_01_47.572012/model-00016-0.60477-0.77324-0.72989-0.72000.h5\n",
      "Epoch 17/35\n",
      "32/34 [===========================>..] - ETA: 6s - loss: 0.5615 - categorical_accuracy: 0.8000WIN_20180925_17_46_05_Pro_Stop_new;Stop_new;2\n",
      "\n",
      "34/34 [==============================] - 111s 3s/step - loss: 0.6219 - categorical_accuracy: 0.7881 - val_loss: 0.6907 - val_categorical_accuracy: 0.7800\n",
      "\n",
      "Epoch 00017: saving model to model_init_2021-02-0815_01_47.572012/model-00017-0.56448-0.80045-0.69069-0.78000.h5\n",
      "Epoch 18/35\n",
      "32/34 [===========================>..] - ETA: 6s - loss: 0.5346 - categorical_accuracy: 0.8031WIN_20180925_17_32_52_Pro_Thumbs_Up_new;Thumbs_Up_new;4\n",
      "\n",
      "34/34 [==============================] - 111s 3s/step - loss: 0.6258 - categorical_accuracy: 0.7771 - val_loss: 0.6901 - val_categorical_accuracy: 0.7900\n",
      "\n",
      "Epoch 00018: saving model to model_init_2021-02-0815_01_47.572012/model-00018-0.54875-0.79819-0.69008-0.79000.h5\n",
      "Epoch 19/35\n",
      "32/34 [===========================>..] - ETA: 6s - loss: 0.6014 - categorical_accuracy: 0.7758WIN_20180925_17_19_16_Pro_Thumbs_Up_new;Thumbs_Up_new;4\n",
      "\n",
      "34/34 [==============================] - 110s 3s/step - loss: 0.7430 - categorical_accuracy: 0.7528 - val_loss: 0.6966 - val_categorical_accuracy: 0.7500\n",
      "\n",
      "Epoch 00019: saving model to model_init_2021-02-0815_01_47.572012/model-00019-0.61129-0.77324-0.69662-0.75000.h5\n",
      "Epoch 20/35\n",
      "32/34 [===========================>..] - ETA: 6s - loss: 0.5720 - categorical_accuracy: 0.7914WIN_20180925_17_50_43_Pro_Stop_new;Stop_new;2\n",
      "\n",
      "34/34 [==============================] - 110s 3s/step - loss: 0.6191 - categorical_accuracy: 0.7719 - val_loss: 0.6929 - val_categorical_accuracy: 0.7700\n",
      "\n",
      "Epoch 00020: saving model to model_init_2021-02-0815_01_47.572012/model-00020-0.57039-0.79289-0.69288-0.77000.h5\n",
      "Epoch 21/35\n",
      "32/34 [===========================>..] - ETA: 6s - loss: 0.5660 - categorical_accuracy: 0.7875WIN_20180926_17_19_35_Pro_Right_Swipe_new;Right_Swipe_new;1\n",
      "\n",
      "34/34 [==============================] - 109s 3s/step - loss: 0.6271 - categorical_accuracy: 0.7668 - val_loss: 0.6795 - val_categorical_accuracy: 0.7800\n",
      "\n",
      "Epoch 00021: saving model to model_init_2021-02-0815_01_47.572012/model-00021-0.57149-0.78760-0.67954-0.78000.h5\n",
      "Epoch 22/35\n",
      "32/34 [===========================>..] - ETA: 6s - loss: 0.5429 - categorical_accuracy: 0.8273WIN_20180926_16_40_01_Pro_Thumbs_Up_new;Thumbs_Up_new;4\n",
      "\n",
      "34/34 [==============================] - 110s 3s/step - loss: 0.5659 - categorical_accuracy: 0.8161 - val_loss: 0.6763 - val_categorical_accuracy: 0.7700\n",
      "\n",
      "Epoch 00022: saving model to model_init_2021-02-0815_01_47.572012/model-00022-0.53714-0.82918-0.67634-0.77000.h5\n",
      "Epoch 23/35\n",
      "32/34 [===========================>..] - ETA: 6s - loss: 0.5228 - categorical_accuracy: 0.8164WIN_20180926_16_49_22_Pro_Thumbs_Down_new;Thumbs_Down_new;3\n",
      "\n",
      "34/34 [==============================] - 109s 3s/step - loss: 0.5962 - categorical_accuracy: 0.7903 - val_loss: 0.6789 - val_categorical_accuracy: 0.7600\n",
      "\n",
      "Epoch 00023: saving model to model_init_2021-02-0815_01_47.572012/model-00023-0.53435-0.81179-0.67891-0.76000.h5\n",
      "Epoch 24/35\n",
      "32/34 [===========================>..] - ETA: 6s - loss: 0.4969 - categorical_accuracy: 0.8156WIN_20180925_17_47_47_Pro_Right_Swipe_new;Right_Swipe_new;1\n",
      "\n",
      "34/34 [==============================] - 109s 3s/step - loss: 0.5330 - categorical_accuracy: 0.8036 - val_loss: 0.6694 - val_categorical_accuracy: 0.7700\n",
      "\n",
      "Epoch 00024: saving model to model_init_2021-02-0815_01_47.572012/model-00024-0.49714-0.81633-0.66936-0.77000.h5\n",
      "Epoch 25/35\n",
      "32/34 [===========================>..] - ETA: 6s - loss: 0.4898 - categorical_accuracy: 0.8430WIN_20180907_16_22_03_Pro_Left Swipe_new_Left Swipe_new;Left Swipe_new_Left Swipe_new;0\n",
      "\n",
      "34/34 [==============================] - 109s 3s/step - loss: 0.5192 - categorical_accuracy: 0.8256 - val_loss: 0.6472 - val_categorical_accuracy: 0.7700\n",
      "\n",
      "Epoch 00025: saving model to model_init_2021-02-0815_01_47.572012/model-00025-0.50114-0.83900-0.64715-0.77000.h5\n",
      "Epoch 26/35\n",
      "32/34 [===========================>..] - ETA: 6s - loss: 0.5193 - categorical_accuracy: 0.8109WIN_20180925_17_51_26_Pro_Left_Swipe_new;Left_Swipe_new;0\n",
      "\n",
      "34/34 [==============================] - 108s 3s/step - loss: 0.5744 - categorical_accuracy: 0.7896 - val_loss: 0.6546 - val_categorical_accuracy: 0.7700\n",
      "\n",
      "Epoch 00026: saving model to model_init_2021-02-0815_01_47.572012/model-00026-0.51956-0.81104-0.65456-0.77000.h5\n",
      "Epoch 27/35\n",
      "32/34 [===========================>..] - ETA: 6s - loss: 0.4902 - categorical_accuracy: 0.8234WIN_20180926_17_25_32_Pro_Left_Swipe_new;Left_Swipe_new;0\n",
      "\n",
      "34/34 [==============================] - 109s 3s/step - loss: 0.5300 - categorical_accuracy: 0.8124 - val_loss: 0.6464 - val_categorical_accuracy: 0.7600\n",
      "\n",
      "Epoch 00027: saving model to model_init_2021-02-0815_01_47.572012/model-00027-0.49033-0.82540-0.64645-0.76000.h5\n",
      "Epoch 28/35\n",
      "32/34 [===========================>..] - ETA: 6s - loss: 0.5049 - categorical_accuracy: 0.8258WIN_20180926_17_18_02_Pro_Thumbs_Up_new;Thumbs_Up_new;4\n",
      "\n",
      "34/34 [==============================] - 110s 3s/step - loss: 0.6058 - categorical_accuracy: 0.8051 - val_loss: 0.6531 - val_categorical_accuracy: 0.7700\n",
      "\n",
      "Epoch 00028: saving model to model_init_2021-02-0815_01_47.572012/model-00028-0.50900-0.82691-0.65312-0.77000.h5\n",
      "Epoch 29/35\n",
      "32/34 [===========================>..] - ETA: 6s - loss: 0.5060 - categorical_accuracy: 0.8297WIN_20180907_16_00_54_Pro_Right Swipe_new;Right Swipe_new;1\n",
      "\n",
      "34/34 [==============================] - 111s 3s/step - loss: 0.5378 - categorical_accuracy: 0.8139 - val_loss: 0.6392 - val_categorical_accuracy: 0.8100\n",
      "\n",
      "Epoch 00029: saving model to model_init_2021-02-0815_01_47.572012/model-00029-0.51044-0.82691-0.63920-0.81000.h5\n",
      "Epoch 30/35\n",
      "32/34 [===========================>..] - ETA: 6s - loss: 0.4909 - categorical_accuracy: 0.8305WIN_20180925_18_05_30_Pro_Thumbs_Up_new;Thumbs_Up_new;4\n",
      "\n",
      "34/34 [==============================] - 112s 3s/step - loss: 0.5465 - categorical_accuracy: 0.8190 - val_loss: 0.6387 - val_categorical_accuracy: 0.8200\n",
      "\n",
      "Epoch 00030: saving model to model_init_2021-02-0815_01_47.572012/model-00030-0.49027-0.83220-0.63872-0.82000.h5\n",
      "Epoch 31/35\n",
      "32/34 [===========================>..] - ETA: 6s - loss: 0.4548 - categorical_accuracy: 0.8578WIN_20180926_17_03_21_Pro_Left_Swipe_new;Left_Swipe_new;0\n",
      "\n",
      "34/34 [==============================] - 110s 3s/step - loss: 0.5910 - categorical_accuracy: 0.8323 - val_loss: 0.6458 - val_categorical_accuracy: 0.8100\n",
      "\n",
      "Epoch 00031: saving model to model_init_2021-02-0815_01_47.572012/model-00031-0.46589-0.85488-0.64585-0.81000.h5\n",
      "Epoch 32/35\n",
      "32/34 [===========================>..] - ETA: 6s - loss: 0.4650 - categorical_accuracy: 0.8477WIN_20180907_16_37_37_Pro_Left Swipe_new_Left Swipe_new;Left Swipe_new_Left Swipe_new;0\n",
      "\n",
      "34/34 [==============================] - 110s 3s/step - loss: 0.5099 - categorical_accuracy: 0.8257 - val_loss: 0.6463 - val_categorical_accuracy: 0.7900\n",
      "\n",
      "Epoch 00032: saving model to model_init_2021-02-0815_01_47.572012/model-00032-0.46561-0.84807-0.64630-0.79000.h5\n",
      "Epoch 33/35\n",
      "32/34 [===========================>..] - ETA: 6s - loss: 0.4787 - categorical_accuracy: 0.8297WIN_20180926_16_54_08_Pro_Right_Swipe_new;Right_Swipe_new;1\n",
      "\n",
      "34/34 [==============================] - 110s 3s/step - loss: 0.5634 - categorical_accuracy: 0.8168 - val_loss: 0.6269 - val_categorical_accuracy: 0.8000\n",
      "\n",
      "Epoch 00033: saving model to model_init_2021-02-0815_01_47.572012/model-00033-0.48615-0.82993-0.62690-0.80000.h5\n",
      "Epoch 34/35\n",
      "32/34 [===========================>..] - ETA: 6s - loss: 0.4500 - categorical_accuracy: 0.8492WIN_20180907_16_25_05_Pro_Stop Gesture_new;Stop Gesture_new;2\n",
      "\n",
      "34/34 [==============================] - 109s 3s/step - loss: 0.4952 - categorical_accuracy: 0.8330 - val_loss: 0.6420 - val_categorical_accuracy: 0.8000\n",
      "\n",
      "Epoch 00034: saving model to model_init_2021-02-0815_01_47.572012/model-00034-0.45525-0.84656-0.64195-0.80000.h5\n",
      "Epoch 35/35\n",
      "32/34 [===========================>..] - ETA: 6s - loss: 0.4444 - categorical_accuracy: 0.8500WIN_20180907_16_01_35_Pro_Thumbs Down_new;Thumbs Down_new;3\n",
      "\n",
      "34/34 [==============================] - 109s 3s/step - loss: 0.5167 - categorical_accuracy: 0.8227 - val_loss: 0.6429 - val_categorical_accuracy: 0.8000\n",
      "\n",
      "Epoch 00035: saving model to model_init_2021-02-0815_01_47.572012/model-00035-0.45705-0.84505-0.64292-0.80000.h5\n"
     ]
    }
   ],
   "source": [
    "md_30=model.fit_generator(train_generator, steps_per_epoch=steps_per_epoch, epochs=35, verbose=1, \n",
    "                    callbacks=callbacks_list, validation_data=val_generator, \n",
    "                    validation_steps=validation_steps, class_weight=None, workers=1, initial_epoch=0)"
   ]
  },
  {
   "cell_type": "code",
   "execution_count": 53,
   "metadata": {},
   "outputs": [
    {
     "data": {
      "image/png": "[encoded data removed]",
      "text/plain": [
       "<Figure size 1080x288 with 2 Axes>"
      ]
     },
     "metadata": {},
     "output_type": "display_data"
    }
   ],
   "source": [
    "plot(md_30)"
   ]
  },
  {
   "cell_type": "markdown",
   "metadata": {},
   "source": [
    "### This model seems to have the perfect balance between the memory footprint and the desirable performance."
   ]
  },
  {
   "cell_type": "markdown",
   "metadata": {},
   "source": [
    "### For the best model, the best validation accuracy is around 82% and the training accuracy is 83%."
   ]
  },
  {
   "cell_type": "markdown",
   "metadata": {},
   "source": [
    "# CNN WITH LSTM"
   ]
  },
  {
   "cell_type": "code",
   "execution_count": 101,
   "metadata": {},
   "outputs": [],
   "source": [
    "from keras.layers.recurrent import LSTM\n",
    "from keras.layers.convolutional import Conv3D, MaxPooling3D, Conv2D, MaxPooling2D"
   ]
  },
  {
   "cell_type": "code",
   "execution_count": 105,
   "metadata": {},
   "outputs": [],
   "source": [
    "def CNN_RNN(frames_to_sample,image_height,image_width,lstm_cells=128,dense_neurons=128,dropout=0.25):\n",
    "        \n",
    "        model = Sequential()\n",
    "\n",
    "        model.add(TimeDistributed(Conv2D(16, (3, 3) , padding='same', activation='relu'),\n",
    "                                  input_shape=(frames_to_sample,image_height,image_width,3)))\n",
    "        model.add(TimeDistributed(BatchNormalization()))\n",
    "        model.add(TimeDistributed(MaxPooling2D((2, 2))))\n",
    "        \n",
    "        model.add(TimeDistributed(Conv2D(32, (3, 3) , padding='same', activation='relu')))\n",
    "        model.add(TimeDistributed(BatchNormalization()))\n",
    "        model.add(TimeDistributed(MaxPooling2D((2, 2))))\n",
    "        \n",
    "        model.add(TimeDistributed(Conv2D(64, (3, 3) , padding='same', activation='relu')))\n",
    "        model.add(TimeDistributed(BatchNormalization()))\n",
    "        model.add(TimeDistributed(MaxPooling2D((2, 2))))\n",
    "        \n",
    "        model.add(TimeDistributed(Conv2D(128, (3, 3) , padding='same', activation='relu')))\n",
    "        model.add(TimeDistributed(BatchNormalization()))\n",
    "        model.add(TimeDistributed(MaxPooling2D((2, 2))))\n",
    "        \n",
    "        model.add(TimeDistributed(Conv2D(256, (3, 3) , padding='same', activation='relu')))\n",
    "        model.add(TimeDistributed(BatchNormalization()))\n",
    "        model.add(TimeDistributed(MaxPooling2D((2, 2))))\n",
    "        \n",
    "        #model.add(TimeDistributed(Conv2D(512, (2, 2) , padding='valid', activation='relu')))\n",
    "       # model.add(TimeDistributed(BatchNormalization()))\n",
    "       # model.add(TimeDistributed(MaxPooling2D((2, 2))))\n",
    "\n",
    "        model.add(TimeDistributed(Flatten()))\n",
    "\n",
    "\n",
    "        model.add(LSTM(lstm_cells))\n",
    "        model.add(Dropout(dropout))\n",
    "        \n",
    "        model.add(Dense(dense_neurons,activation='relu'))\n",
    "        model.add(Dropout(dropout))\n",
    "        \n",
    "        model.add(Dense(5, activation='softmax'))\n",
    "        optimiser = optimizers.Adam()\n",
    "        model.compile(optimizer=optimiser, loss='categorical_crossentropy', metrics=['categorical_accuracy'])\n",
    "        return model"
   ]
  },
  {
   "cell_type": "code",
   "execution_count": 106,
   "metadata": {},
   "outputs": [],
   "source": [
    "image_height=120\n",
    "image_width=120\n",
    "image_frames=[0,3,5,6,7,8,9,10,11,12,13,14,15,16,17,18,19,20,21,22,23,24,25,27,29]\n",
    "batch_size=20\n",
    "train_generator = generator(train_path, train_doc, batch_size,image_height, image_width, image_frames,aug=True)\n",
    "val_generator = generator(val_path, val_doc, batch_size,image_height, image_width, image_frames)"
   ]
  },
  {
   "cell_type": "code",
   "execution_count": 107,
   "metadata": {},
   "outputs": [],
   "source": [
    "model=CNN_RNN(25,image_height,image_width)"
   ]
  },
  {
   "cell_type": "code",
   "execution_count": 108,
   "metadata": {},
   "outputs": [],
   "source": [
    "if (num_train_sequences%batch_size) == 0:\n",
    "    steps_per_epoch = int(num_train_sequences/batch_size)\n",
    "else:\n",
    "    steps_per_epoch = (num_train_sequences//batch_size) + 1\n",
    "\n",
    "if (num_val_sequences%batch_size) == 0:\n",
    "    validation_steps = int(num_val_sequences/batch_size)\n",
    "else:\n",
    "    validation_steps = (num_val_sequences//batch_size) + 1"
   ]
  },
  {
   "cell_type": "code",
   "execution_count": 109,
   "metadata": {},
   "outputs": [
    {
     "name": "stdout",
     "output_type": "stream",
     "text": [
      "_________________________________________________________________\n",
      "Layer (type)                 Output Shape              Param #   \n",
      "=================================================================\n",
      "time_distributed_1 (TimeDist (None, 25, 120, 120, 16)  448       \n",
      "_________________________________________________________________\n",
      "time_distributed_2 (TimeDist (None, 25, 120, 120, 16)  64        \n",
      "_________________________________________________________________\n",
      "time_distributed_3 (TimeDist (None, 25, 60, 60, 16)    0         \n",
      "_________________________________________________________________\n",
      "time_distributed_4 (TimeDist (None, 25, 60, 60, 32)    4640      \n",
      "_________________________________________________________________\n",
      "time_distributed_5 (TimeDist (None, 25, 60, 60, 32)    128       \n",
      "_________________________________________________________________\n",
      "time_distributed_6 (TimeDist (None, 25, 30, 30, 32)    0         \n",
      "_________________________________________________________________\n",
      "time_distributed_7 (TimeDist (None, 25, 30, 30, 64)    18496     \n",
      "_________________________________________________________________\n",
      "time_distributed_8 (TimeDist (None, 25, 30, 30, 64)    256       \n",
      "_________________________________________________________________\n",
      "time_distributed_9 (TimeDist (None, 25, 15, 15, 64)    0         \n",
      "_________________________________________________________________\n",
      "time_distributed_10 (TimeDis (None, 25, 15, 15, 128)   73856     \n",
      "_________________________________________________________________\n",
      "time_distributed_11 (TimeDis (None, 25, 15, 15, 128)   512       \n",
      "_________________________________________________________________\n",
      "time_distributed_12 (TimeDis (None, 25, 7, 7, 128)     0         \n",
      "_________________________________________________________________\n",
      "time_distributed_13 (TimeDis (None, 25, 7, 7, 256)     295168    \n",
      "_________________________________________________________________\n",
      "time_distributed_14 (TimeDis (None, 25, 7, 7, 256)     1024      \n",
      "_________________________________________________________________\n",
      "time_distributed_15 (TimeDis (None, 25, 3, 3, 256)     0         \n",
      "_________________________________________________________________\n",
      "time_distributed_16 (TimeDis (None, 25, 2304)          0         \n",
      "_________________________________________________________________\n",
      "lstm_1 (LSTM)                (None, 128)               1245696   \n",
      "_________________________________________________________________\n",
      "dropout_27 (Dropout)         (None, 128)               0         \n",
      "_________________________________________________________________\n",
      "dense_40 (Dense)             (None, 128)               16512     \n",
      "_________________________________________________________________\n",
      "dropout_28 (Dropout)         (None, 128)               0         \n",
      "_________________________________________________________________\n",
      "dense_41 (Dense)             (None, 5)                 645       \n",
      "=================================================================\n",
      "Total params: 1,657,445\n",
      "Trainable params: 1,656,453\n",
      "Non-trainable params: 992\n",
      "_________________________________________________________________\n"
     ]
    }
   ],
   "source": [
    "model.summary()"
   ]
  },
  {
   "cell_type": "code",
   "execution_count": 110,
   "metadata": {},
   "outputs": [
    {
     "name": "stdout",
     "output_type": "stream",
     "text": [
      "Source path = Source path =  Project_data/train ; batch size = 20\n",
      "Epoch 1/20\n",
      " Project_data/val ; batch size = 20\n"
     ]
    },
    {
     "name": "stderr",
     "output_type": "stream",
     "text": [
      "/mnt/disks/user/anaconda3/lib/python3.6/site-packages/ipykernel_launcher.py:29: DeprecationWarning: `imread` is deprecated!\n",
      "`imread` is deprecated in SciPy 1.0.0, and will be removed in 1.2.0.\n",
      "Use ``imageio.imread`` instead.\n",
      "/mnt/disks/user/anaconda3/lib/python3.6/site-packages/ipykernel_launcher.py:33: DeprecationWarning: `imresize` is deprecated!\n",
      "`imresize` is deprecated in SciPy 1.0.0, and will be removed in 1.2.0.\n",
      "Use ``skimage.transform.resize`` instead.\n"
     ]
    },
    {
     "name": "stdout",
     "output_type": "stream",
     "text": [
      "32/34 [===========================>..] - ETA: 5s - loss: 1.4682 - categorical_accuracy: 0.3531WIN_20180925_17_50_07_Pro_Thumbs_Down_new;Thumbs_Down_new;3\n",
      "\n"
     ]
    },
    {
     "name": "stderr",
     "output_type": "stream",
     "text": [
      "/mnt/disks/user/anaconda3/lib/python3.6/site-packages/ipykernel_launcher.py:125: DeprecationWarning: `imread` is deprecated!\n",
      "`imread` is deprecated in SciPy 1.0.0, and will be removed in 1.2.0.\n",
      "Use ``imageio.imread`` instead.\n",
      "/mnt/disks/user/anaconda3/lib/python3.6/site-packages/ipykernel_launcher.py:129: DeprecationWarning: `imresize` is deprecated!\n",
      "`imresize` is deprecated in SciPy 1.0.0, and will be removed in 1.2.0.\n",
      "Use ``skimage.transform.resize`` instead.\n"
     ]
    },
    {
     "name": "stdout",
     "output_type": "stream",
     "text": [
      "34/34 [==============================] - 98s 3s/step - loss: 1.4647 - categorical_accuracy: 0.3569 - val_loss: 1.7323 - val_categorical_accuracy: 0.2800\n",
      "\n",
      "Epoch 00001: saving model to model_init_2021-02-0812_36_52.539199/model-00001-1.46269-0.35752-1.73230-0.28000.h5\n",
      "Epoch 2/20\n",
      "32/34 [===========================>..] - ETA: 4s - loss: 1.2790 - categorical_accuracy: 0.4562WIN_20180926_17_42_21_Pro_Thumbs_Down_new;Thumbs_Down_new;3\n",
      "\n",
      "34/34 [==============================] - 81s 2s/step - loss: 1.2884 - categorical_accuracy: 0.4555 - val_loss: 1.8107 - val_categorical_accuracy: 0.2300\n",
      "\n",
      "Epoch 00002: saving model to model_init_2021-02-0812_36_52.539199/model-00002-1.27658-0.45881-1.81068-0.23000.h5\n",
      "Epoch 3/20\n",
      "32/34 [===========================>..] - ETA: 5s - loss: 1.1753 - categorical_accuracy: 0.5086WIN_20180926_16_46_07_Pro_Right_Swipe_new;Right_Swipe_new;1\n",
      "\n",
      "34/34 [==============================] - 90s 3s/step - loss: 1.1702 - categorical_accuracy: 0.5129 - val_loss: 1.4431 - val_categorical_accuracy: 0.3200\n",
      "\n",
      "Epoch 00003: saving model to model_init_2021-02-0812_36_52.539199/model-00003-1.17468-0.50869-1.44313-0.32000.h5\n",
      "Epoch 4/20\n",
      "32/34 [===========================>..] - ETA: 5s - loss: 1.0412 - categorical_accuracy: 0.5727WIN_20180926_17_33_51_Pro_Thumbs_Up_new;Thumbs_Up_new;4\n",
      "\n",
      "34/34 [==============================] - 89s 3s/step - loss: 1.0782 - categorical_accuracy: 0.5593 - val_loss: 1.7683 - val_categorical_accuracy: 0.3600\n",
      "\n",
      "Epoch 00004: saving model to model_init_2021-02-0812_36_52.539199/model-00004-1.03424-0.57445-1.76826-0.36000.h5\n",
      "Epoch 5/20\n",
      "32/34 [===========================>..] - ETA: 5s - loss: 0.8847 - categorical_accuracy: 0.6414WIN_20180925_18_02_41_Pro_Right_Swipe_new;Right_Swipe_new;1\n",
      "\n",
      "34/34 [==============================] - 89s 3s/step - loss: 0.9088 - categorical_accuracy: 0.6365 - val_loss: 1.0363 - val_categorical_accuracy: 0.5600\n",
      "\n",
      "Epoch 00005: saving model to model_init_2021-02-0812_36_52.539199/model-00005-0.87986-0.64475-1.03628-0.56000.h5\n",
      "Epoch 6/20\n",
      "32/34 [===========================>..] - ETA: 5s - loss: 0.7978 - categorical_accuracy: 0.6828WIN_20180907_16_25_52_Pro_Thumbs Down_new;Thumbs Down_new;3\n",
      "\n",
      "34/34 [==============================] - 88s 3s/step - loss: 0.8759 - categorical_accuracy: 0.6704 - val_loss: 1.1810 - val_categorical_accuracy: 0.4900\n",
      "\n",
      "Epoch 00006: saving model to model_init_2021-02-0812_36_52.539199/model-00006-0.81120-0.67952-1.18096-0.49000.h5\n",
      "Epoch 7/20\n",
      "32/34 [===========================>..] - ETA: 5s - loss: 0.8210 - categorical_accuracy: 0.6820WIN_20180925_17_38_50_Pro_Stop_new;Stop_new;2\n",
      "\n",
      "34/34 [==============================] - 89s 3s/step - loss: 0.8377 - categorical_accuracy: 0.6858 - val_loss: 1.1385 - val_categorical_accuracy: 0.5100\n",
      "\n",
      "Epoch 00007: saving model to model_init_2021-02-0812_36_52.539199/model-00007-0.81736-0.68632-1.13848-0.51000.h5\n",
      "Epoch 8/20\n",
      "32/34 [===========================>..] - ETA: 5s - loss: 0.7703 - categorical_accuracy: 0.6992WIN_20180925_17_25_14_Pro_Thumbs_Up_new;Thumbs_Up_new;4\n",
      "\n",
      "34/34 [==============================] - 88s 3s/step - loss: 0.8873 - categorical_accuracy: 0.6800 - val_loss: 1.4283 - val_categorical_accuracy: 0.4200\n",
      "\n",
      "Epoch 00008: saving model to model_init_2021-02-0812_36_52.539199/model-00008-0.77955-0.69841-1.42833-0.42000.h5\n",
      "Epoch 9/20\n",
      "32/34 [===========================>..] - ETA: 5s - loss: 0.7467 - categorical_accuracy: 0.7086WIN_20180907_16_33_15_Pro_Left Swipe_new_Left Swipe_new;Left Swipe_new_Left Swipe_new;0\n",
      "\n",
      "34/34 [==============================] - 88s 3s/step - loss: 0.8207 - categorical_accuracy: 0.6866 - val_loss: 0.8296 - val_categorical_accuracy: 0.6300\n",
      "\n",
      "Epoch 00009: saving model to model_init_2021-02-0812_36_52.539199/model-00009-0.75096-0.70522-0.82962-0.63000.h5\n",
      "Epoch 10/20\n",
      "32/34 [===========================>..] - ETA: 5s - loss: 0.6636 - categorical_accuracy: 0.7438WIN_20180926_17_48_06_Pro_Thumbs_Down_new;Thumbs_Down_new;3\n",
      "\n",
      "34/34 [==============================] - 88s 3s/step - loss: 0.6800 - categorical_accuracy: 0.7417 - val_loss: 0.9054 - val_categorical_accuracy: 0.6500\n",
      "\n",
      "Epoch 00010: saving model to model_init_2021-02-0812_36_52.539199/model-00010-0.66391-0.74376-0.90537-0.65000.h5\n",
      "Epoch 11/20\n",
      "32/34 [===========================>..] - ETA: 5s - loss: 0.5760 - categorical_accuracy: 0.7883WIN_20180925_17_57_52_Pro_Thumbs_Down_new;Thumbs_Down_new;3\n",
      "\n",
      "34/34 [==============================] - 89s 3s/step - loss: 0.6794 - categorical_accuracy: 0.7668 - val_loss: 0.8004 - val_categorical_accuracy: 0.7100\n",
      "\n",
      "Epoch 00011: saving model to model_init_2021-02-0812_36_52.539199/model-00011-0.58362-0.78760-0.80045-0.71000.h5\n",
      "Epoch 12/20\n",
      "32/34 [===========================>..] - ETA: 5s - loss: 0.5510 - categorical_accuracy: 0.7898WIN_20180926_16_42_06_Pro_Right_Swipe_new;Right_Swipe_new;1\n",
      "\n",
      "34/34 [==============================] - 87s 3s/step - loss: 0.6771 - categorical_accuracy: 0.7661 - val_loss: 1.7985 - val_categorical_accuracy: 0.4400\n",
      "\n",
      "Epoch 00012: saving model to model_init_2021-02-0812_36_52.539199/model-00012-0.56051-0.78685-1.79854-0.44000.h5\n",
      "Epoch 13/20\n",
      "32/34 [===========================>..] - ETA: 5s - loss: 0.6144 - categorical_accuracy: 0.7563WIN_20180926_16_49_15_Pro_Left_Swipe_new;Left_Swipe_new;0\n",
      "\n",
      "34/34 [==============================] - 89s 3s/step - loss: 0.6919 - categorical_accuracy: 0.7351 - val_loss: 1.0952 - val_categorical_accuracy: 0.5600\n",
      "\n",
      "Epoch 00013: saving model to model_init_2021-02-0812_36_52.539199/model-00013-0.62279-0.75510-1.09522-0.56000.h5\n",
      "Epoch 14/20\n",
      "32/34 [===========================>..] - ETA: 5s - loss: 0.6074 - categorical_accuracy: 0.7734WIN_20180925_18_13_15_Pro_Thumbs_Down_new;Thumbs_Down_new;3\n",
      "\n",
      "34/34 [==============================] - 88s 3s/step - loss: 0.7109 - categorical_accuracy: 0.7454 - val_loss: 2.3445 - val_categorical_accuracy: 0.3400\n",
      "\n",
      "Epoch 00014: saving model to model_init_2021-02-0812_36_52.539199/model-00014-0.62824-0.76568-2.34455-0.34000.h5\n",
      "Epoch 15/20\n",
      "32/34 [===========================>..] - ETA: 5s - loss: 0.6004 - categorical_accuracy: 0.7695WIN_20180926_17_11_24_Pro_Right_Swipe_new;Right_Swipe_new;1\n",
      "\n",
      "34/34 [==============================] - 88s 3s/step - loss: 0.6213 - categorical_accuracy: 0.7469 - val_loss: 0.7751 - val_categorical_accuracy: 0.7200\n",
      "\n",
      "Epoch 00015: saving model to model_init_2021-02-0812_36_52.539199/model-00015-0.60258-0.76720-0.77507-0.72000.h5\n",
      "Epoch 16/20\n",
      "32/34 [===========================>..] - ETA: 5s - loss: 0.5084 - categorical_accuracy: 0.8109WIN_20180926_17_17_23_Pro_Thumbs_Up_new;Thumbs_Up_new;4\n",
      "\n",
      "34/34 [==============================] - 87s 3s/step - loss: 0.5381 - categorical_accuracy: 0.7874 - val_loss: 0.8840 - val_categorical_accuracy: 0.6400\n",
      "\n",
      "Epoch 00016: saving model to model_init_2021-02-0812_36_52.539199/model-00016-0.50951-0.80877-0.88399-0.64000.h5\n",
      "Epoch 17/20\n",
      "32/34 [===========================>..] - ETA: 5s - loss: 0.4217 - categorical_accuracy: 0.8336WIN_20180926_17_05_27_Pro_Left_Swipe_new;Left_Swipe_new;0\n",
      "\n",
      "34/34 [==============================] - 88s 3s/step - loss: 0.4822 - categorical_accuracy: 0.8109 - val_loss: 0.9185 - val_categorical_accuracy: 0.6200\n",
      "\n",
      "Epoch 00017: saving model to model_init_2021-02-0812_36_52.539199/model-00017-0.42278-0.83296-0.91854-0.62000.h5\n",
      "Epoch 18/20\n",
      "32/34 [===========================>..] - ETA: 5s - loss: 0.4030 - categorical_accuracy: 0.8477WIN_20180925_17_28_28_Pro_Thumbs_Up_new;Thumbs_Up_new;4\n",
      "\n",
      "34/34 [==============================] - 88s 3s/step - loss: 0.4755 - categorical_accuracy: 0.8220 - val_loss: 0.7845 - val_categorical_accuracy: 0.7400\n",
      "\n",
      "Epoch 00018: saving model to model_init_2021-02-0812_36_52.539199/model-00018-0.40848-0.84429-0.78454-0.74000.h5\n",
      "Epoch 19/20\n",
      "32/34 [===========================>..] - ETA: 5s - loss: 0.4139 - categorical_accuracy: 0.8430WIN_20180925_17_52_58_Pro_Left_Swipe_new;Left_Swipe_new;0\n",
      "\n",
      "34/34 [==============================] - 87s 3s/step - loss: 0.4494 - categorical_accuracy: 0.8176 - val_loss: 0.7571 - val_categorical_accuracy: 0.7300\n",
      "\n",
      "Epoch 00019: saving model to model_init_2021-02-0812_36_52.539199/model-00019-0.41959-0.83976-0.75707-0.73000.h5\n",
      "Epoch 20/20\n",
      "32/34 [===========================>..] - ETA: 5s - loss: 0.3696 - categorical_accuracy: 0.8680WIN_20180926_17_10_00_Pro_Thumbs_Up_new;Thumbs_Up_new;4\n",
      "\n",
      "34/34 [==============================] - 88s 3s/step - loss: 0.4206 - categorical_accuracy: 0.8536 - val_loss: 1.0436 - val_categorical_accuracy: 0.6600\n",
      "\n",
      "Epoch 00020: saving model to model_init_2021-02-0812_36_52.539199/model-00020-0.37218-0.86772-1.04358-0.66000.h5\n"
     ]
    }
   ],
   "source": [
    "md_rnn_cnn=model.fit_generator(train_generator, steps_per_epoch=steps_per_epoch, epochs=20, verbose=1, \n",
    "                    callbacks=callbacks_list, validation_data=val_generator, \n",
    "                    validation_steps=validation_steps, class_weight=None, workers=1, initial_epoch=0)"
   ]
  },
  {
   "cell_type": "code",
   "execution_count": 111,
   "metadata": {
    "scrolled": true
   },
   "outputs": [
    {
     "data": {
      "image/png": "[encoded data removed]",
      "text/plain": [
       "<Figure size 1080x288 with 2 Axes>"
      ]
     },
     "metadata": {},
     "output_type": "display_data"
    }
   ],
   "source": [
    "plot(md_rnn_cnn)"
   ]
  },
  {
   "cell_type": "markdown",
   "metadata": {},
   "source": [
    "### This model seems to be over-fitting and it doesn't performs better in any category as compared to the model created before it."
   ]
  },
  {
   "cell_type": "markdown",
   "metadata": {},
   "source": [
    "### Hence, not continuing with the CNN+LSTM architechture"
   ]
  },
  {
   "cell_type": "markdown",
   "metadata": {},
   "source": [
    "# Transfer Learning (Mobile Net,FrozenWeight)"
   ]
  },
  {
   "cell_type": "code",
   "execution_count": 112,
   "metadata": {
    "colab": {},
    "colab_type": "code",
    "id": "8nAjufTKwZrR"
   },
   "outputs": [],
   "source": [
    "from keras.applications import mobilenet"
   ]
  },
  {
   "cell_type": "code",
   "execution_count": 114,
   "metadata": {
    "colab": {},
    "colab_type": "code",
    "id": "kb-UrhvYwZrU",
    "outputId": "3ca6830a-1d98-402b-a008-d432d53135f8"
   },
   "outputs": [
    {
     "name": "stderr",
     "output_type": "stream",
     "text": [
      "/mnt/disks/user/anaconda3/lib/python3.6/site-packages/keras_applications/mobilenet.py:206: UserWarning: MobileNet shape is undefined. Weights for input shape (224, 224) will be loaded.\n",
      "  warnings.warn('MobileNet shape is undefined.'\n"
     ]
    }
   ],
   "source": [
    "mobilenet_transfer = mobilenet.MobileNet(weights='imagenet', include_top=False)\n"
   ]
  },
  {
   "cell_type": "code",
   "execution_count": 116,
   "metadata": {},
   "outputs": [],
   "source": [
    "def mobile_net_model(frames_to_sample,image_height,image_width,lstm_cells=64,dense_neurons=64,dropout=0.25):\n",
    "        \n",
    "        model = Sequential()\n",
    "        model.add(TimeDistributed(mobilenet_transfer,input_shape=(frames_to_sample,image_height,image_width,3)))\n",
    "        \n",
    "        \n",
    "        for layer in model.layers:\n",
    "            layer.trainable = False\n",
    "        \n",
    "        \n",
    "        model.add(TimeDistributed(BatchNormalization()))\n",
    "        model.add(TimeDistributed(MaxPooling2D((2, 2))))\n",
    "        model.add(TimeDistributed(Flatten()))\n",
    "\n",
    "        model.add(LSTM(lstm_cells))\n",
    "        model.add(Dropout(dropout))\n",
    "        \n",
    "        model.add(Dense(dense_neurons,activation='relu'))\n",
    "        model.add(Dropout(dropout))\n",
    "        \n",
    "        model.add(Dense(5, activation='softmax'))\n",
    "        \n",
    "        \n",
    "        optimiser = optimizers.Adam()\n",
    "        model.compile(optimizer=optimiser, loss='categorical_crossentropy', metrics=['categorical_accuracy'])\n",
    "        return model"
   ]
  },
  {
   "cell_type": "code",
   "execution_count": 119,
   "metadata": {},
   "outputs": [],
   "source": [
    "image_height=120\n",
    "image_width=120\n",
    "image_frames=[0,3,5,6,7,8,9,10,11,12,13,14,15,16,17,18,19,20,21,22,23,24,25,27,29]\n",
    "batch_size=20\n",
    "train_generator = generator(train_path, train_doc, batch_size,image_height, image_width, image_frames,aug=True)\n",
    "val_generator = generator(val_path, val_doc, batch_size,image_height, image_width, image_frames)"
   ]
  },
  {
   "cell_type": "code",
   "execution_count": 120,
   "metadata": {},
   "outputs": [],
   "source": [
    "model=mobile_net_model(25,image_height,image_width)"
   ]
  },
  {
   "cell_type": "code",
   "execution_count": 121,
   "metadata": {},
   "outputs": [],
   "source": [
    "if (num_train_sequences%batch_size) == 0:\n",
    "    steps_per_epoch = int(num_train_sequences/batch_size)\n",
    "else:\n",
    "    steps_per_epoch = (num_train_sequences//batch_size) + 1\n",
    "\n",
    "if (num_val_sequences%batch_size) == 0:\n",
    "    validation_steps = int(num_val_sequences/batch_size)\n",
    "else:\n",
    "    validation_steps = (num_val_sequences//batch_size) + 1"
   ]
  },
  {
   "cell_type": "code",
   "execution_count": 122,
   "metadata": {},
   "outputs": [
    {
     "name": "stdout",
     "output_type": "stream",
     "text": [
      "_________________________________________________________________\n",
      "Layer (type)                 Output Shape              Param #   \n",
      "=================================================================\n",
      "time_distributed_21 (TimeDis (None, 25, 3, 3, 1024)    3228864   \n",
      "_________________________________________________________________\n",
      "time_distributed_22 (TimeDis (None, 25, 3, 3, 1024)    4096      \n",
      "_________________________________________________________________\n",
      "time_distributed_23 (TimeDis (None, 25, 1, 1, 1024)    0         \n",
      "_________________________________________________________________\n",
      "time_distributed_24 (TimeDis (None, 25, 1024)          0         \n",
      "_________________________________________________________________\n",
      "lstm_3 (LSTM)                (None, 64)                278784    \n",
      "_________________________________________________________________\n",
      "dropout_31 (Dropout)         (None, 64)                0         \n",
      "_________________________________________________________________\n",
      "dense_44 (Dense)             (None, 64)                4160      \n",
      "_________________________________________________________________\n",
      "dropout_32 (Dropout)         (None, 64)                0         \n",
      "_________________________________________________________________\n",
      "dense_45 (Dense)             (None, 5)                 325       \n",
      "=================================================================\n",
      "Total params: 3,516,229\n",
      "Trainable params: 285,317\n",
      "Non-trainable params: 3,230,912\n",
      "_________________________________________________________________\n"
     ]
    }
   ],
   "source": [
    "model.summary()"
   ]
  },
  {
   "cell_type": "code",
   "execution_count": 123,
   "metadata": {},
   "outputs": [
    {
     "name": "stdout",
     "output_type": "stream",
     "text": [
      "Source path =  Project_data/val ; batch size = 20\n",
      "Source path =  Project_data/train ; batch size = 20\n",
      "Epoch 1/25\n"
     ]
    },
    {
     "name": "stderr",
     "output_type": "stream",
     "text": [
      "/mnt/disks/user/anaconda3/lib/python3.6/site-packages/ipykernel_launcher.py:29: DeprecationWarning: `imread` is deprecated!\n",
      "`imread` is deprecated in SciPy 1.0.0, and will be removed in 1.2.0.\n",
      "Use ``imageio.imread`` instead.\n",
      "/mnt/disks/user/anaconda3/lib/python3.6/site-packages/ipykernel_launcher.py:33: DeprecationWarning: `imresize` is deprecated!\n",
      "`imresize` is deprecated in SciPy 1.0.0, and will be removed in 1.2.0.\n",
      "Use ``skimage.transform.resize`` instead.\n"
     ]
    },
    {
     "name": "stdout",
     "output_type": "stream",
     "text": [
      "32/34 [===========================>..] - ETA: 5s - loss: 1.5641 - categorical_accuracy: 0.2789WIN_20180925_17_46_09_Pro_Right_Swipe_new;Right_Swipe_new;1\n",
      "\n"
     ]
    },
    {
     "name": "stderr",
     "output_type": "stream",
     "text": [
      "/mnt/disks/user/anaconda3/lib/python3.6/site-packages/ipykernel_launcher.py:125: DeprecationWarning: `imread` is deprecated!\n",
      "`imread` is deprecated in SciPy 1.0.0, and will be removed in 1.2.0.\n",
      "Use ``imageio.imread`` instead.\n",
      "/mnt/disks/user/anaconda3/lib/python3.6/site-packages/ipykernel_launcher.py:129: DeprecationWarning: `imresize` is deprecated!\n",
      "`imresize` is deprecated in SciPy 1.0.0, and will be removed in 1.2.0.\n",
      "Use ``skimage.transform.resize`` instead.\n"
     ]
    },
    {
     "name": "stdout",
     "output_type": "stream",
     "text": [
      "34/34 [==============================] - 102s 3s/step - loss: 1.5842 - categorical_accuracy: 0.2752 - val_loss: 1.4688 - val_categorical_accuracy: 0.4300\n",
      "\n",
      "Epoch 00001: saving model to model_init_2021-02-0812_36_52.539199/model-00001-1.56062-0.28269-1.46880-0.43000.h5\n",
      "Epoch 2/25\n",
      "32/34 [===========================>..] - ETA: 4s - loss: 1.2010 - categorical_accuracy: 0.5211WIN_20180926_17_20_41_Pro_Stop_new;Stop_new;2\n",
      "\n",
      "34/34 [==============================] - 81s 2s/step - loss: 1.2194 - categorical_accuracy: 0.5063 - val_loss: 1.2946 - val_categorical_accuracy: 0.4800\n",
      "\n",
      "Epoch 00002: saving model to model_init_2021-02-0812_36_52.539199/model-00002-1.20001-0.52003-1.29461-0.48000.h5\n",
      "Epoch 3/25\n",
      "32/34 [===========================>..] - ETA: 5s - loss: 0.9626 - categorical_accuracy: 0.6164WIN_20180907_15_47_19_Pro_Thumbs Up_new;Thumbs Up_new;4\n",
      "\n",
      "34/34 [==============================] - 90s 3s/step - loss: 1.0103 - categorical_accuracy: 0.6078 - val_loss: 1.1816 - val_categorical_accuracy: 0.4700\n",
      "\n",
      "Epoch 00003: saving model to model_init_2021-02-0812_36_52.539199/model-00003-0.96712-0.61527-1.18164-0.47000.h5\n",
      "Epoch 4/25\n",
      "32/34 [===========================>..] - ETA: 5s - loss: 0.8429 - categorical_accuracy: 0.6766WIN_20180925_18_21_50_Pro_Thumbs_Down_new;Thumbs_Down_new;3\n",
      "\n",
      "34/34 [==============================] - 88s 3s/step - loss: 0.8877 - categorical_accuracy: 0.6579 - val_loss: 1.2081 - val_categorical_accuracy: 0.4800\n",
      "\n",
      "Epoch 00004: saving model to model_init_2021-02-0812_36_52.539199/model-00004-0.84181-0.67574-1.20815-0.48000.h5\n",
      "Epoch 5/25\n",
      "32/34 [===========================>..] - ETA: 5s - loss: 0.7021 - categorical_accuracy: 0.7383WIN_20180925_17_41_24_Pro_Thumbs_Up_new;Thumbs_Up_new;4\n",
      "\n",
      "34/34 [==============================] - 87s 3s/step - loss: 0.7848 - categorical_accuracy: 0.7123 - val_loss: 1.3097 - val_categorical_accuracy: 0.5500\n",
      "\n",
      "Epoch 00005: saving model to model_init_2021-02-0812_36_52.539199/model-00005-0.71383-0.73167-1.30969-0.55000.h5\n",
      "Epoch 6/25\n",
      "32/34 [===========================>..] - ETA: 5s - loss: 0.6181 - categorical_accuracy: 0.7813WIN_20180907_16_01_34_Pro_Left Swipe_new_Left Swipe_new;Left Swipe_new_Left Swipe_new;0\n",
      "\n",
      "34/34 [==============================] - 88s 3s/step - loss: 0.6931 - categorical_accuracy: 0.7660 - val_loss: 1.0780 - val_categorical_accuracy: 0.6000\n",
      "\n",
      "Epoch 00006: saving model to model_init_2021-02-0812_36_52.539199/model-00006-0.62820-0.77778-1.07800-0.60000.h5\n",
      "Epoch 7/25\n",
      "32/34 [===========================>..] - ETA: 5s - loss: 0.5354 - categorical_accuracy: 0.8031WIN_20180926_17_45_23_Pro_Thumbs_Down_new;Thumbs_Down_new;3\n",
      "\n",
      "34/34 [==============================] - 88s 3s/step - loss: 0.6084 - categorical_accuracy: 0.7778 - val_loss: 1.2179 - val_categorical_accuracy: 0.5600\n",
      "\n",
      "Epoch 00007: saving model to model_init_2021-02-0812_36_52.539199/model-00007-0.54729-0.79894-1.21792-0.56000.h5\n",
      "Epoch 8/25\n",
      "32/34 [===========================>..] - ETA: 5s - loss: 0.5343 - categorical_accuracy: 0.8070WIN_20180925_17_46_09_Pro_Right_Swipe_new;Right_Swipe_new;1\n",
      "\n",
      "34/34 [==============================] - 88s 3s/step - loss: 0.5655 - categorical_accuracy: 0.8035 - val_loss: 1.5112 - val_categorical_accuracy: 0.4800\n",
      "\n",
      "Epoch 00008: saving model to model_init_2021-02-0812_36_52.539199/model-00008-0.53742-0.80726-1.51123-0.48000.h5\n",
      "Epoch 9/25\n",
      "32/34 [===========================>..] - ETA: 5s - loss: 0.4692 - categorical_accuracy: 0.8406WIN_20180925_17_44_57_Pro_Thumbs_Down_new;Thumbs_Down_new;3\n",
      "\n",
      "34/34 [==============================] - 88s 3s/step - loss: 0.5147 - categorical_accuracy: 0.8256 - val_loss: 1.2954 - val_categorical_accuracy: 0.5200\n",
      "\n",
      "Epoch 00009: saving model to model_init_2021-02-0812_36_52.539199/model-00009-0.47364-0.83900-1.29541-0.52000.h5\n",
      "Epoch 10/25\n",
      "32/34 [===========================>..] - ETA: 5s - loss: 0.3827 - categorical_accuracy: 0.8641WIN_20180925_17_47_19_Pro_Right_Swipe_new;Right_Swipe_new;1\n",
      "\n",
      "34/34 [==============================] - 87s 3s/step - loss: 0.4918 - categorical_accuracy: 0.8389 - val_loss: 1.4223 - val_categorical_accuracy: 0.5100\n",
      "\n",
      "Epoch 00010: saving model to model_init_2021-02-0812_36_52.539199/model-00010-0.39108-0.86168-1.42233-0.51000.h5\n",
      "\n",
      "Epoch 00010: ReduceLROnPlateau reducing learning rate to 0.00020000000949949026.\n",
      "Epoch 11/25\n",
      "32/34 [===========================>..] - ETA: 4s - loss: 0.3059 - categorical_accuracy: 0.9023WIN_20180925_17_57_22_Pro_Stop_new;Stop_new;2\n",
      "\n",
      "34/34 [==============================] - 85s 2s/step - loss: 0.3531 - categorical_accuracy: 0.8838 - val_loss: 1.3810 - val_categorical_accuracy: 0.5400\n",
      "\n",
      "Epoch 00011: saving model to model_init_2021-02-0812_36_52.539199/model-00011-0.31299-0.89872-1.38103-0.54000.h5\n",
      "Epoch 12/25\n",
      "32/34 [===========================>..] - ETA: 5s - loss: 0.2978 - categorical_accuracy: 0.9008WIN_20180907_16_17_00_Pro_Right Swipe_new;Right Swipe_new;1\n",
      "\n",
      "34/34 [==============================] - 87s 3s/step - loss: 0.3879 - categorical_accuracy: 0.8742 - val_loss: 1.4112 - val_categorical_accuracy: 0.5500\n",
      "\n",
      "Epoch 00012: saving model to model_init_2021-02-0812_36_52.539199/model-00012-0.30852-0.89796-1.41115-0.55000.h5\n",
      "Epoch 13/25\n",
      "32/34 [===========================>..] - ETA: 5s - loss: 0.2959 - categorical_accuracy: 0.9047WIN_20180907_16_49_05_Pro_Left Swipe_new_Left Swipe_new;Left Swipe_new_Left Swipe_new;0\n",
      "\n",
      "34/34 [==============================] - 86s 3s/step - loss: 0.4304 - categorical_accuracy: 0.8779 - val_loss: 1.3758 - val_categorical_accuracy: 0.5500\n",
      "\n",
      "Epoch 00013: saving model to model_init_2021-02-0812_36_52.539199/model-00013-0.31292-0.90174-1.37576-0.55000.h5\n",
      "Epoch 14/25\n",
      "32/34 [===========================>..] - ETA: 5s - loss: 0.2574 - categorical_accuracy: 0.9180WIN_20180907_16_01_35_Pro_Thumbs Down_new;Thumbs Down_new;3\n",
      "\n",
      "34/34 [==============================] - 86s 3s/step - loss: 0.2700 - categorical_accuracy: 0.9168 - val_loss: 1.3429 - val_categorical_accuracy: 0.5800\n",
      "\n",
      "Epoch 00014: saving model to model_init_2021-02-0812_36_52.539199/model-00014-0.26283-0.91459-1.34287-0.58000.h5\n",
      "\n",
      "Epoch 00014: ReduceLROnPlateau reducing learning rate to 4.0000001899898055e-05.\n",
      "Epoch 15/25\n",
      "32/34 [===========================>..] - ETA: 5s - loss: 0.2761 - categorical_accuracy: 0.9102WIN_20180907_16_08_46_Pro_Thumbs Down_new;Thumbs Down_new;3\n",
      "\n",
      "34/34 [==============================] - 86s 3s/step - loss: 0.3804 - categorical_accuracy: 0.8941 - val_loss: 1.3240 - val_categorical_accuracy: 0.6000\n",
      "\n",
      "Epoch 00015: saving model to model_init_2021-02-0812_36_52.539199/model-00015-0.28404-0.90930-1.32398-0.60000.h5\n",
      "Epoch 16/25\n",
      "32/34 [===========================>..] - ETA: 5s - loss: 0.2817 - categorical_accuracy: 0.9062WIN_20180925_18_06_24_Pro_Stop_new;Stop_new;2\n",
      "\n",
      "34/34 [==============================] - 88s 3s/step - loss: 0.3757 - categorical_accuracy: 0.8882 - val_loss: 1.3255 - val_categorical_accuracy: 0.6000\n",
      "\n",
      "Epoch 00016: saving model to model_init_2021-02-0812_36_52.539199/model-00016-0.29200-0.90325-1.32545-0.60000.h5\n",
      "Epoch 17/25\n",
      "32/34 [===========================>..] - ETA: 5s - loss: 0.2603 - categorical_accuracy: 0.9172WIN_20180926_17_07_02_Pro_Stop_new;Stop_new;2\n",
      "\n",
      "34/34 [==============================] - 88s 3s/step - loss: 0.3014 - categorical_accuracy: 0.9014 - val_loss: 1.3600 - val_categorical_accuracy: 0.6000\n",
      "\n",
      "Epoch 00017: saving model to model_init_2021-02-0812_36_52.539199/model-00017-0.26340-0.91686-1.36004-0.60000.h5\n",
      "Epoch 18/25\n",
      "32/34 [===========================>..] - ETA: 5s - loss: 0.2430 - categorical_accuracy: 0.9188WIN_20180907_16_27_42_Pro_Right Swipe_new;Right Swipe_new;1\n",
      "\n",
      "34/34 [==============================] - 89s 3s/step - loss: 0.2793 - categorical_accuracy: 0.9000 - val_loss: 1.3542 - val_categorical_accuracy: 0.6000\n",
      "\n",
      "Epoch 00018: saving model to model_init_2021-02-0812_36_52.539199/model-00018-0.25000-0.91534-1.35417-0.60000.h5\n",
      "\n",
      "Epoch 00018: ReduceLROnPlateau reducing learning rate to 8.000000525498762e-06.\n",
      "Epoch 19/25\n",
      "32/34 [===========================>..] - ETA: 5s - loss: 0.2646 - categorical_accuracy: 0.9156WIN_20180925_17_46_48_Pro_Right_Swipe_new;Right_Swipe_new;1\n",
      "\n",
      "34/34 [==============================] - 89s 3s/step - loss: 0.3928 - categorical_accuracy: 0.8904 - val_loss: 1.3478 - val_categorical_accuracy: 0.6000\n",
      "\n",
      "Epoch 00019: saving model to model_init_2021-02-0812_36_52.539199/model-00019-0.27417-0.91459-1.34777-0.60000.h5\n",
      "Epoch 20/25\n",
      "32/34 [===========================>..] - ETA: 5s - loss: 0.2794 - categorical_accuracy: 0.9070WIN_20180907_16_14_43_Pro_Thumbs Down_new;Thumbs Down_new;3\n",
      "\n",
      "34/34 [==============================] - 89s 3s/step - loss: 0.3345 - categorical_accuracy: 0.8816 - val_loss: 1.3491 - val_categorical_accuracy: 0.6000\n",
      "\n",
      "Epoch 00020: saving model to model_init_2021-02-0812_36_52.539199/model-00020-0.28176-0.90552-1.34906-0.60000.h5\n",
      "Epoch 21/25\n",
      "32/34 [===========================>..] - ETA: 5s - loss: 0.2358 - categorical_accuracy: 0.9266WIN_20180925_17_38_50_Pro_Stop_new;Stop_new;2\n",
      "\n",
      "34/34 [==============================] - 89s 3s/step - loss: 0.2903 - categorical_accuracy: 0.9095 - val_loss: 1.3456 - val_categorical_accuracy: 0.6000\n",
      "\n",
      "Epoch 00021: saving model to model_init_2021-02-0812_36_52.539199/model-00021-0.24045-0.92517-1.34563-0.60000.h5\n",
      "Epoch 22/25\n",
      "32/34 [===========================>..] - ETA: 5s - loss: 0.2239 - categorical_accuracy: 0.9375WIN_20180926_18_04_06_Pro_Thumbs_Down_new;Thumbs_Down_new;3\n",
      "\n",
      "34/34 [==============================] - 89s 3s/step - loss: 0.3057 - categorical_accuracy: 0.9206 - val_loss: 1.3534 - val_categorical_accuracy: 0.6000\n",
      "\n",
      "Epoch 00022: saving model to model_init_2021-02-0812_36_52.539199/model-00022-0.23517-0.93651-1.35335-0.60000.h5\n",
      "\n",
      "Epoch 00022: ReduceLROnPlateau reducing learning rate to 1.6000001778593287e-06.\n",
      "Epoch 23/25\n",
      "32/34 [===========================>..] - ETA: 5s - loss: 0.2473 - categorical_accuracy: 0.9242WIN_20180925_17_47_06_Pro_Thumbs_Down_new;Thumbs_Down_new;3\n",
      "\n",
      "34/34 [==============================] - 89s 3s/step - loss: 0.2798 - categorical_accuracy: 0.9154 - val_loss: 1.3528 - val_categorical_accuracy: 0.6000\n",
      "\n",
      "Epoch 00023: saving model to model_init_2021-02-0812_36_52.539199/model-00023-0.25277-0.92215-1.35281-0.60000.h5\n",
      "Epoch 24/25\n",
      "32/34 [===========================>..] - ETA: 5s - loss: 0.2298 - categorical_accuracy: 0.9258WIN_20180926_16_55_17_Pro_Thumbs_Down_new;Thumbs_Down_new;3\n",
      "\n",
      "34/34 [==============================] - 88s 3s/step - loss: 0.2574 - categorical_accuracy: 0.9081 - val_loss: 1.3548 - val_categorical_accuracy: 0.6000\n",
      "\n",
      "Epoch 00024: saving model to model_init_2021-02-0812_36_52.539199/model-00024-0.23262-0.92366-1.35484-0.60000.h5\n",
      "Epoch 25/25\n",
      "32/34 [===========================>..] - ETA: 5s - loss: 0.2382 - categorical_accuracy: 0.9352WIN_20180925_17_57_36_Pro_Left_Swipe_new;Left_Swipe_new;0\n",
      "\n",
      "34/34 [==============================] - 89s 3s/step - loss: 0.3221 - categorical_accuracy: 0.9059 - val_loss: 1.3552 - val_categorical_accuracy: 0.6000\n",
      "\n",
      "Epoch 00025: saving model to model_init_2021-02-0812_36_52.539199/model-00025-0.24910-0.93046-1.35520-0.60000.h5\n"
     ]
    }
   ],
   "source": [
    "mob_model=model.fit_generator(train_generator, steps_per_epoch=steps_per_epoch, epochs=25, verbose=1, \n",
    "                    callbacks=callbacks_list, validation_data=val_generator, \n",
    "                    validation_steps=validation_steps, class_weight=None, workers=1, initial_epoch=0)"
   ]
  },
  {
   "cell_type": "code",
   "execution_count": 124,
   "metadata": {},
   "outputs": [
    {
     "data": {
      "image/png": "[encoded data removed]",
      "text/plain": [
       "<Figure size 1080x288 with 2 Axes>"
      ]
     },
     "metadata": {},
     "output_type": "display_data"
    }
   ],
   "source": [
    "plot(mob_model)"
   ]
  },
  {
   "cell_type": "markdown",
   "metadata": {},
   "source": [
    "### The transfer learning model with weights frozen seems to be overfitting by a lot based on the plots."
   ]
  },
  {
   "cell_type": "markdown",
   "metadata": {},
   "source": [
    "### This is not an ideal fit for our problem statement."
   ]
  },
  {
   "cell_type": "markdown",
   "metadata": {},
   "source": [
    "# Transfer Learning (Mobile Net, Training all weights)"
   ]
  },
  {
   "cell_type": "code",
   "execution_count": 125,
   "metadata": {},
   "outputs": [],
   "source": [
    "def mobile_net_model(frames_to_sample,image_height,image_width,lstm_cells=64,dense_neurons=64,dropout=0.25):\n",
    "        \n",
    "        model = Sequential()\n",
    "        model.add(TimeDistributed(mobilenet_transfer,input_shape=(frames_to_sample,image_height,image_width,3)))\n",
    "        \n",
    "        \n",
    "       \n",
    "        \n",
    "        \n",
    "        model.add(TimeDistributed(BatchNormalization()))\n",
    "        model.add(TimeDistributed(MaxPooling2D((2, 2))))\n",
    "        model.add(TimeDistributed(Flatten()))\n",
    "\n",
    "        model.add(LSTM(lstm_cells))\n",
    "        model.add(Dropout(dropout))\n",
    "        \n",
    "        model.add(Dense(dense_neurons,activation='relu'))\n",
    "        model.add(Dropout(dropout))\n",
    "        \n",
    "        model.add(Dense(5, activation='softmax'))\n",
    "        \n",
    "        \n",
    "        optimiser = optimizers.Adam()\n",
    "        model.compile(optimizer=optimiser, loss='categorical_crossentropy', metrics=['categorical_accuracy'])\n",
    "        return model"
   ]
  },
  {
   "cell_type": "code",
   "execution_count": 145,
   "metadata": {},
   "outputs": [],
   "source": [
    "image_height=120\n",
    "image_width=120\n",
    "image_frames=[int(round(i)) for i in np.arange(0,30,1.9)]\n",
    "batch_size=5\n",
    "train_generator = generator(train_path, train_doc, batch_size,image_height, image_width, image_frames,aug=True)\n",
    "val_generator = generator(val_path, val_doc, batch_size,image_height, image_width, image_frames)"
   ]
  },
  {
   "cell_type": "code",
   "execution_count": 146,
   "metadata": {},
   "outputs": [],
   "source": [
    "model=mobile_net_model(16,image_height,image_width)"
   ]
  },
  {
   "cell_type": "code",
   "execution_count": 147,
   "metadata": {},
   "outputs": [],
   "source": [
    "if (num_train_sequences%batch_size) == 0:\n",
    "    steps_per_epoch = int(num_train_sequences/batch_size)\n",
    "else:\n",
    "    steps_per_epoch = (num_train_sequences//batch_size) + 1\n",
    "\n",
    "if (num_val_sequences%batch_size) == 0:\n",
    "    validation_steps = int(num_val_sequences/batch_size)\n",
    "else:\n",
    "    validation_steps = (num_val_sequences//batch_size) + 1"
   ]
  },
  {
   "cell_type": "code",
   "execution_count": 148,
   "metadata": {},
   "outputs": [
    {
     "name": "stdout",
     "output_type": "stream",
     "text": [
      "_________________________________________________________________\n",
      "Layer (type)                 Output Shape              Param #   \n",
      "=================================================================\n",
      "time_distributed_41 (TimeDis (None, 16, 3, 3, 1024)    3228864   \n",
      "_________________________________________________________________\n",
      "time_distributed_42 (TimeDis (None, 16, 3, 3, 1024)    4096      \n",
      "_________________________________________________________________\n",
      "time_distributed_43 (TimeDis (None, 16, 1, 1, 1024)    0         \n",
      "_________________________________________________________________\n",
      "time_distributed_44 (TimeDis (None, 16, 1024)          0         \n",
      "_________________________________________________________________\n",
      "lstm_8 (LSTM)                (None, 64)                278784    \n",
      "_________________________________________________________________\n",
      "dropout_41 (Dropout)         (None, 64)                0         \n",
      "_________________________________________________________________\n",
      "dense_54 (Dense)             (None, 64)                4160      \n",
      "_________________________________________________________________\n",
      "dropout_42 (Dropout)         (None, 64)                0         \n",
      "_________________________________________________________________\n",
      "dense_55 (Dense)             (None, 5)                 325       \n",
      "=================================================================\n",
      "Total params: 3,516,229\n",
      "Trainable params: 3,492,293\n",
      "Non-trainable params: 23,936\n",
      "_________________________________________________________________\n"
     ]
    }
   ],
   "source": [
    "model.summary()"
   ]
  },
  {
   "cell_type": "code",
   "execution_count": 149,
   "metadata": {},
   "outputs": [
    {
     "name": "stdout",
     "output_type": "stream",
     "text": [
      "Source path =  Project_data/val Source path =  Project_data/train ; batch size = 5\n",
      "Epoch 1/20\n",
      "; batch size = 5\n"
     ]
    },
    {
     "name": "stderr",
     "output_type": "stream",
     "text": [
      "/mnt/disks/user/anaconda3/lib/python3.6/site-packages/ipykernel_launcher.py:29: DeprecationWarning: `imread` is deprecated!\n",
      "`imread` is deprecated in SciPy 1.0.0, and will be removed in 1.2.0.\n",
      "Use ``imageio.imread`` instead.\n",
      "/mnt/disks/user/anaconda3/lib/python3.6/site-packages/ipykernel_launcher.py:33: DeprecationWarning: `imresize` is deprecated!\n",
      "`imresize` is deprecated in SciPy 1.0.0, and will be removed in 1.2.0.\n",
      "Use ``skimage.transform.resize`` instead.\n"
     ]
    },
    {
     "name": "stdout",
     "output_type": "stream",
     "text": [
      "122/133 [==========================>...] - ETA: 8s - loss: 1.4594 - categorical_accuracy: 0.3574WIN_20180925_17_50_31_Pro_Right_Swipe_new;Right_Swipe_new;1\n",
      "\n"
     ]
    },
    {
     "name": "stderr",
     "output_type": "stream",
     "text": [
      "/mnt/disks/user/anaconda3/lib/python3.6/site-packages/ipykernel_launcher.py:125: DeprecationWarning: `imread` is deprecated!\n",
      "`imread` is deprecated in SciPy 1.0.0, and will be removed in 1.2.0.\n",
      "Use ``imageio.imread`` instead.\n",
      "/mnt/disks/user/anaconda3/lib/python3.6/site-packages/ipykernel_launcher.py:129: DeprecationWarning: `imresize` is deprecated!\n",
      "`imresize` is deprecated in SciPy 1.0.0, and will be removed in 1.2.0.\n",
      "Use ``skimage.transform.resize`` instead.\n"
     ]
    },
    {
     "name": "stdout",
     "output_type": "stream",
     "text": [
      "133/133 [==============================] - 105s 787ms/step - loss: 1.4366 - categorical_accuracy: 0.3722 - val_loss: 1.3558 - val_categorical_accuracy: 0.3600\n",
      "\n",
      "Epoch 00001: saving model to model_init_2021-02-0812_36_52.539199/model-00001-1.43331-0.37415-1.35580-0.36000.h5\n",
      "Epoch 2/20\n",
      "122/133 [==========================>...] - ETA: 6s - loss: 1.1470 - categorical_accuracy: 0.5213WIN_20180926_17_27_34_Pro_Thumbs_Down_new;Thumbs_Down_new;3\n",
      "\n",
      "133/133 [==============================] - 79s 594ms/step - loss: 1.1700 - categorical_accuracy: 0.5128 - val_loss: 1.2346 - val_categorical_accuracy: 0.5200\n",
      "\n",
      "Epoch 00002: saving model to model_init_2021-02-0812_36_52.539199/model-00002-1.15951-0.51550-1.23461-0.52000.h5\n",
      "Epoch 3/20\n",
      "122/133 [==========================>...] - ETA: 6s - loss: 1.0379 - categorical_accuracy: 0.5828WIN_20180907_15_49_56_Pro_Right Swipe_new;Right Swipe_new;1\n",
      "\n",
      "133/133 [==============================] - 82s 614ms/step - loss: 1.0318 - categorical_accuracy: 0.5882 - val_loss: 0.9215 - val_categorical_accuracy: 0.6200\n",
      "\n",
      "Epoch 00003: saving model to model_init_2021-02-0812_36_52.539199/model-00003-1.02744-0.58957-0.92148-0.62000.h5\n",
      "Epoch 4/20\n",
      "122/133 [==========================>...] - ETA: 6s - loss: 0.9143 - categorical_accuracy: 0.6410WIN_20180926_17_06_26_Pro_Stop_new;Stop_new;2\n",
      "\n",
      "133/133 [==============================] - 81s 612ms/step - loss: 0.9304 - categorical_accuracy: 0.6293 - val_loss: 0.6341 - val_categorical_accuracy: 0.6800\n",
      "\n",
      "Epoch 00004: saving model to model_init_2021-02-0812_36_52.539199/model-00004-0.92492-0.63265-0.63414-0.68000.h5\n",
      "Epoch 5/20\n",
      "122/133 [==========================>...] - ETA: 6s - loss: 0.8081 - categorical_accuracy: 0.6869WIN_20180926_16_48_34_Pro_Left_Swipe_new;Left_Swipe_new;0\n",
      "\n",
      "133/133 [==============================] - 82s 614ms/step - loss: 0.8139 - categorical_accuracy: 0.6760 - val_loss: 0.6154 - val_categorical_accuracy: 0.7300\n",
      "\n",
      "Epoch 00005: saving model to model_init_2021-02-0812_36_52.539199/model-00005-0.80624-0.67952-0.61536-0.73000.h5\n",
      "Epoch 6/20\n",
      "122/133 [==========================>...] - ETA: 6s - loss: 0.8839 - categorical_accuracy: 0.6434WIN_20180925_17_26_25_Pro_Left_Swipe_new;Left_Swipe_new;0\n",
      "\n",
      "133/133 [==============================] - 82s 614ms/step - loss: 0.8932 - categorical_accuracy: 0.6406 - val_loss: 0.7550 - val_categorical_accuracy: 0.6700\n",
      "\n",
      "Epoch 00006: saving model to model_init_2021-02-0812_36_52.539199/model-00006-0.88297-0.64399-0.75500-0.67000.h5\n",
      "Epoch 7/20\n",
      "122/133 [==========================>...] - ETA: 6s - loss: 0.7749 - categorical_accuracy: 0.6902WIN_20180925_17_55_36_Pro_Right_Swipe_new;Right_Swipe_new;1\n",
      "\n",
      "133/133 [==============================] - 81s 611ms/step - loss: 0.7858 - categorical_accuracy: 0.6910 - val_loss: 0.5741 - val_categorical_accuracy: 0.8000\n",
      "\n",
      "Epoch 00007: saving model to model_init_2021-02-0812_36_52.539199/model-00007-0.77247-0.69463-0.57408-0.80000.h5\n",
      "Epoch 8/20\n",
      "122/133 [==========================>...] - ETA: 6s - loss: 0.7124 - categorical_accuracy: 0.7123WIN_20180926_16_39_58_Pro_Thumbs_Down_new;Thumbs_Down_new;3\n",
      "\n",
      "133/133 [==============================] - 79s 594ms/step - loss: 0.7394 - categorical_accuracy: 0.7106 - val_loss: 0.8963 - val_categorical_accuracy: 0.6600\n",
      "\n",
      "Epoch 00008: saving model to model_init_2021-02-0812_36_52.539199/model-00008-0.72421-0.71429-0.89631-0.66000.h5\n",
      "Epoch 9/20\n",
      "122/133 [==========================>...] - ETA: 6s - loss: 0.5767 - categorical_accuracy: 0.7525WIN_20180926_17_02_05_Pro_Thumbs_Down_new;Thumbs_Down_new;3\n",
      "\n",
      "133/133 [==============================] - 82s 616ms/step - loss: 0.6051 - categorical_accuracy: 0.7431 - val_loss: 0.6509 - val_categorical_accuracy: 0.7800\n",
      "\n",
      "Epoch 00009: saving model to model_init_2021-02-0812_36_52.539199/model-00009-0.59291-0.74528-0.65087-0.78000.h5\n",
      "Epoch 10/20\n",
      "122/133 [==========================>...] - ETA: 6s - loss: 0.5290 - categorical_accuracy: 0.7615WIN_20180926_17_13_13_Pro_Right_Swipe_new;Right_Swipe_new;1\n",
      "\n",
      "133/133 [==============================] - 81s 610ms/step - loss: 0.5293 - categorical_accuracy: 0.7667 - val_loss: 0.3263 - val_categorical_accuracy: 0.8900\n",
      "\n",
      "Epoch 00010: saving model to model_init_2021-02-0812_36_52.539199/model-00010-0.52098-0.76720-0.32633-0.89000.h5\n",
      "Epoch 11/20\n",
      "122/133 [==========================>...] - ETA: 6s - loss: 0.5202 - categorical_accuracy: 0.7721WIN_20180907_16_42_19_Pro_Left Swipe_new_Left Swipe_new;Left Swipe_new_Left Swipe_new;0\n",
      "\n",
      "133/133 [==============================] - 79s 595ms/step - loss: 0.5260 - categorical_accuracy: 0.7755 - val_loss: 0.3130 - val_categorical_accuracy: 0.8800\n",
      "\n",
      "Epoch 00011: saving model to model_init_2021-02-0812_36_52.539199/model-00011-0.51341-0.77778-0.31302-0.88000.h5\n",
      "Epoch 12/20\n",
      "122/133 [==========================>...] - ETA: 6s - loss: 0.5204 - categorical_accuracy: 0.7795WIN_20180907_16_12_20_Pro_Right Swipe_new;Right Swipe_new;1\n",
      "\n",
      "133/133 [==============================] - 81s 610ms/step - loss: 0.5471 - categorical_accuracy: 0.7747 - val_loss: 0.5351 - val_categorical_accuracy: 0.7800\n",
      "\n",
      "Epoch 00012: saving model to model_init_2021-02-0812_36_52.539199/model-00012-0.53769-0.77702-0.53513-0.78000.h5\n",
      "Epoch 13/20\n",
      "122/133 [==========================>...] - ETA: 6s - loss: 0.4541 - categorical_accuracy: 0.8443WIN_20180926_17_06_24_Pro_Left_Swipe_new;Left_Swipe_new;0\n",
      "\n",
      "133/133 [==============================] - 79s 595ms/step - loss: 0.4786 - categorical_accuracy: 0.8326 - val_loss: 0.4744 - val_categorical_accuracy: 0.8000\n",
      "\n",
      "Epoch 00013: saving model to model_init_2021-02-0812_36_52.539199/model-00013-0.47101-0.83522-0.47437-0.80000.h5\n",
      "Epoch 14/20\n",
      "122/133 [==========================>...] - ETA: 6s - loss: 0.4278 - categorical_accuracy: 0.8311WIN_20180907_16_35_18_Pro_Thumbs Up_new;Thumbs Up_new;4\n",
      "\n",
      "133/133 [==============================] - 81s 612ms/step - loss: 0.4655 - categorical_accuracy: 0.8271 - val_loss: 0.3333 - val_categorical_accuracy: 0.8700\n",
      "\n",
      "Epoch 00014: saving model to model_init_2021-02-0812_36_52.539199/model-00014-0.44214-0.83144-0.33327-0.87000.h5\n",
      "Epoch 15/20\n",
      "122/133 [==========================>...] - ETA: 6s - loss: 0.4758 - categorical_accuracy: 0.8172WIN_20180926_17_33_46_Pro_Left_Swipe_new;Left_Swipe_new;0\n",
      "\n",
      "133/133 [==============================] - 81s 609ms/step - loss: 0.4869 - categorical_accuracy: 0.8168 - val_loss: 0.4870 - val_categorical_accuracy: 0.8000\n",
      "\n",
      "Epoch 00015: saving model to model_init_2021-02-0812_36_52.539199/model-00015-0.47330-0.81935-0.48702-0.80000.h5\n",
      "\n",
      "Epoch 00015: ReduceLROnPlateau reducing learning rate to 0.00020000000949949026.\n",
      "Epoch 16/20\n",
      "122/133 [==========================>...] - ETA: 6s - loss: 0.3996 - categorical_accuracy: 0.8574WIN_20180926_17_21_16_Pro_Left_Swipe_new;Left_Swipe_new;0\n",
      "\n",
      "133/133 [==============================] - 81s 608ms/step - loss: 0.4111 - categorical_accuracy: 0.8512 - val_loss: 0.2027 - val_categorical_accuracy: 0.9500\n",
      "\n",
      "Epoch 00016: saving model to model_init_2021-02-0812_36_52.539199/model-00016-0.40317-0.85563-0.20273-0.95000.h5\n",
      "Epoch 17/20\n",
      "122/133 [==========================>...] - ETA: 6s - loss: 0.3112 - categorical_accuracy: 0.8762WIN_20180907_15_45_40_Pro_Left Swipe_new_Left Swipe_new;Left Swipe_new_Left Swipe_new;0\n",
      "\n",
      "133/133 [==============================] - 81s 606ms/step - loss: 0.3402 - categorical_accuracy: 0.8732 - val_loss: 0.2120 - val_categorical_accuracy: 0.9400\n",
      "\n",
      "Epoch 00017: saving model to model_init_2021-02-0812_36_52.539199/model-00017-0.31950-0.87604-0.21197-0.94000.h5\n",
      "Epoch 18/20\n",
      "122/133 [==========================>...] - ETA: 6s - loss: 0.2857 - categorical_accuracy: 0.9000WIN_20180926_17_21_18_Pro_Thumbs_Up_new;Thumbs_Up_new;4\n",
      "\n",
      "133/133 [==============================] - 78s 588ms/step - loss: 0.3136 - categorical_accuracy: 0.8965 - val_loss: 0.2069 - val_categorical_accuracy: 0.9400\n",
      "\n",
      "Epoch 00018: saving model to model_init_2021-02-0812_36_52.539199/model-00018-0.29135-0.89947-0.20694-0.94000.h5\n",
      "Epoch 19/20\n",
      "122/133 [==========================>...] - ETA: 6s - loss: 0.2483 - categorical_accuracy: 0.9131WIN_20180925_18_05_57_Pro_Right_Swipe_new;Right_Swipe_new;1\n",
      "\n",
      "133/133 [==============================] - 81s 607ms/step - loss: 0.2670 - categorical_accuracy: 0.9088 - val_loss: 0.2175 - val_categorical_accuracy: 0.9300\n",
      "\n",
      "Epoch 00019: saving model to model_init_2021-02-0812_36_52.539199/model-00019-0.25579-0.91005-0.21745-0.93000.h5\n",
      "Epoch 20/20\n",
      "122/133 [==========================>...] - ETA: 6s - loss: 0.2297 - categorical_accuracy: 0.9205WIN_20180925_17_43_57_Pro_Stop_new;Stop_new;2\n",
      "\n",
      "133/133 [==============================] - 81s 605ms/step - loss: 0.2505 - categorical_accuracy: 0.9116 - val_loss: 0.2131 - val_categorical_accuracy: 0.9400\n",
      "\n",
      "Epoch 00020: saving model to model_init_2021-02-0812_36_52.539199/model-00020-0.24169-0.91459-0.21310-0.94000.h5\n",
      "\n",
      "Epoch 00020: ReduceLROnPlateau reducing learning rate to 4.0000001899898055e-05.\n"
     ]
    }
   ],
   "source": [
    "mob_model_unfrozen=model.fit_generator(train_generator, steps_per_epoch=steps_per_epoch, epochs=20, verbose=1, \n",
    "                    callbacks=callbacks_list, validation_data=val_generator, \n",
    "                    validation_steps=validation_steps, class_weight=None, workers=1, initial_epoch=0)"
   ]
  },
  {
   "cell_type": "code",
   "execution_count": 150,
   "metadata": {
    "scrolled": true
   },
   "outputs": [
    {
     "data": {
      "image/png": "[encoded data removed]",
      "text/plain": [
       "<Figure size 1080x288 with 2 Axes>"
      ]
     },
     "metadata": {},
     "output_type": "display_data"
    }
   ],
   "source": [
    "plot(mob_model_unfrozen)"
   ]
  },
  {
   "cell_type": "markdown",
   "metadata": {},
   "source": [
    "### This seems to be the best model in terms of performance but the number of parameters involved are quite a lot."
   ]
  },
  {
   "cell_type": "markdown",
   "metadata": {},
   "source": [
    "### We have already built a custom model with a decent performance and memory footprint which we feel is better suited for real time processing."
   ]
  },
  {
   "cell_type": "markdown",
   "metadata": {},
   "source": [
    "# Hence, we will finally go with the model :- model-00030-0.49027-0.83220-0.63872-0.82000.h5"
   ]
  },
  {
   "cell_type": "code",
   "execution_count": null,
   "metadata": {},
   "outputs": [],
   "source": []
  }
 ],
 "metadata": {
  "kernelspec": {
   "display_name": "Python 3",
   "language": "python",
   "name": "python3"
  },
  "language_info": {
   "codemirror_mode": {
    "name": "ipython",
    "version": 3
   },
   "file_extension": ".py",
   "mimetype": "text/x-python",
   "name": "python",
   "nbconvert_exporter": "python",
   "pygments_lexer": "ipython3",
   "version": "3.6.5"
  }
 },
 "nbformat": 4,
 "nbformat_minor": 2
}
